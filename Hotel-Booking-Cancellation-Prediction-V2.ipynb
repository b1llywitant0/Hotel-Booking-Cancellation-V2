{
 "cells": [
  {
   "cell_type": "markdown",
   "id": "57aa7332",
   "metadata": {},
   "source": [
    "<font size=\"6\">Hotel Booking Cancellation Prediction</font>"
   ]
  },
  {
   "cell_type": "markdown",
   "id": "e7f8b273",
   "metadata": {},
   "source": [
    "This is an improved project of hotel booking cancellation prediction using all of the data."
   ]
  },
  {
   "cell_type": "code",
   "execution_count": 1,
   "id": "0f41f27e",
   "metadata": {
    "ExecuteTime": {
     "end_time": "2022-07-28T16:07:07.220380Z",
     "start_time": "2022-07-28T16:07:05.793652Z"
    }
   },
   "outputs": [],
   "source": [
    "import pandas as pd\n",
    "import numpy as np\n",
    "import matplotlib.pyplot as plt\n",
    "import seaborn as sns"
   ]
  },
  {
   "cell_type": "markdown",
   "id": "d9afee12",
   "metadata": {},
   "source": [
    "# Background"
   ]
  },
  {
   "cell_type": "markdown",
   "id": "142a7735",
   "metadata": {},
   "source": [
    "<div style=\"text-align: justify\">\n",
    "Let's say that we have a hotel business to run. Since it is a business that revolve around service, customer satisfaction is the most important factor that indicates our success and future prospect of the business. Good experience will lead to good reviews, it will help us in developing loyal customer and searching for new customers. Increase in customers drives most businesses, it will lead to increase in revenue and business growth, that we can increase the quality of service and also expand our business. It is basically a snowball effect.\n",
    "</div>"
   ]
  },
  {
   "cell_type": "markdown",
   "id": "2ad65ef6",
   "metadata": {},
   "source": [
    "<div style=\"text-align: justify\">\n",
    "First impressions are crucial in business because it's a human nature to make judgment about someone in their first meet. Making a strong first impression will help the business develop customer relationships and sales. In hotel business, preparing for the arrival of the customers is important to develop a strong first impression. However, how does the hotel management distinguish between customers that will come or not based on their characteristics in booking application?\n",
    "</div>"
   ]
  },
  {
   "cell_type": "markdown",
   "id": "f1b20f20",
   "metadata": {},
   "source": [
    "<div style=\"text-align: justify\">\n",
    "In this project, I will aid the hotel management to predict which customers that will cancel their booking based on their booking application characteristics. With this predictive machine learning model, it will lead to cost-efficiency of the hotel management in preparing the customers arrival and increase in customers satisfaction based on the strong first impression provided.\n",
    "</div>"
   ]
  },
  {
   "cell_type": "markdown",
   "id": "c66db03e",
   "metadata": {},
   "source": [
    "# Dataset Information"
   ]
  },
  {
   "cell_type": "markdown",
   "id": "4def0b0c",
   "metadata": {},
   "source": [
    "<div style=\"text-align: justify\">\n",
    "Dataset used in this project was acquired from <a href=\"https://www.kaggle.com/datasets/jessemostipak/hotel-booking-demand\" title=\"Hotel Booking Demand\">Kaggle</a> which was originated from the publication of <a href=\"https://www.sciencedirect.com/science/article/pii/S2352340918315191\" title=\"Hotel Booking Demand Datasets\">Antonio <em>et al.</em> (2019)</a>. Data were obtained from 2 hotels which are located in Portugal: a resort hotel at the resort region of Algarve and a city hotel at the city of Lisbon. Dataset initially consists of 119,390 rows with 32 columns.\n",
    "</div>"
   ]
  },
  {
   "cell_type": "code",
   "execution_count": 2,
   "id": "78096c14",
   "metadata": {
    "ExecuteTime": {
     "end_time": "2022-07-28T16:07:08.441204Z",
     "start_time": "2022-07-28T16:07:08.185126Z"
    }
   },
   "outputs": [
    {
     "name": "stdout",
     "output_type": "stream",
     "text": [
      "<class 'pandas.core.frame.DataFrame'>\n",
      "RangeIndex: 119390 entries, 0 to 119389\n",
      "Data columns (total 32 columns):\n",
      " #   Column                          Non-Null Count   Dtype  \n",
      "---  ------                          --------------   -----  \n",
      " 0   hotel                           119390 non-null  object \n",
      " 1   is_canceled                     119390 non-null  int64  \n",
      " 2   lead_time                       119390 non-null  int64  \n",
      " 3   arrival_date_year               119390 non-null  int64  \n",
      " 4   arrival_date_month              119390 non-null  object \n",
      " 5   arrival_date_week_number        119390 non-null  int64  \n",
      " 6   arrival_date_day_of_month       119390 non-null  int64  \n",
      " 7   stays_in_weekend_nights         119390 non-null  int64  \n",
      " 8   stays_in_week_nights            119390 non-null  int64  \n",
      " 9   adults                          119390 non-null  int64  \n",
      " 10  children                        119386 non-null  float64\n",
      " 11  babies                          119390 non-null  int64  \n",
      " 12  meal                            119390 non-null  object \n",
      " 13  country                         118902 non-null  object \n",
      " 14  market_segment                  119390 non-null  object \n",
      " 15  distribution_channel            119390 non-null  object \n",
      " 16  is_repeated_guest               119390 non-null  int64  \n",
      " 17  previous_cancellations          119390 non-null  int64  \n",
      " 18  previous_bookings_not_canceled  119390 non-null  int64  \n",
      " 19  reserved_room_type              119390 non-null  object \n",
      " 20  assigned_room_type              119390 non-null  object \n",
      " 21  booking_changes                 119390 non-null  int64  \n",
      " 22  deposit_type                    119390 non-null  object \n",
      " 23  agent                           103050 non-null  float64\n",
      " 24  company                         6797 non-null    float64\n",
      " 25  days_in_waiting_list            119390 non-null  int64  \n",
      " 26  customer_type                   119390 non-null  object \n",
      " 27  adr                             119390 non-null  float64\n",
      " 28  required_car_parking_spaces     119390 non-null  int64  \n",
      " 29  total_of_special_requests       119390 non-null  int64  \n",
      " 30  reservation_status              119390 non-null  object \n",
      " 31  reservation_status_date         119390 non-null  object \n",
      "dtypes: float64(4), int64(16), object(12)\n",
      "memory usage: 29.1+ MB\n"
     ]
    }
   ],
   "source": [
    "hotel= pd.read_csv('hotel_bookings.csv')\n",
    "hotel.info()"
   ]
  },
  {
   "cell_type": "markdown",
   "id": "a722585d",
   "metadata": {},
   "source": [
    "<div style=\"text-align: justify\">\n",
    "First, I selected the features to be explored based on its column definition/description that can be seen in the paper. To make it easy for me to further explore the features, I classified them manually using their purposes.\n",
    "</div>"
   ]
  },
  {
   "cell_type": "code",
   "execution_count": 3,
   "id": "2eff6e3a",
   "metadata": {
    "ExecuteTime": {
     "end_time": "2022-07-28T16:07:08.820716Z",
     "start_time": "2022-07-28T16:07:08.796710Z"
    }
   },
   "outputs": [],
   "source": [
    "hotel=hotel[['is_canceled', # Dependent variables, label\n",
    "             'hotel', # For stratification purpose\n",
    "             'adults','babies','children', # Number of customers\n",
    "             'country','is_repeated_guest','meal','reserved_room_type','deposit_type', # Customer characteristics\n",
    "             'required_car_parking_spaces','total_of_special_requests', # Request\n",
    "             'market_segment','distribution_channel', # Marketing-related features\n",
    "             'customer_type','previous_bookings_not_canceled','previous_cancellations','booking_changes','days_in_waiting_list' # Booking-related features\n",
    "             ]]"
   ]
  },
  {
   "cell_type": "markdown",
   "id": "f0063f54",
   "metadata": {},
   "source": [
    "## Detailed Columns Description"
   ]
  },
  {
   "cell_type": "markdown",
   "id": "47359a61",
   "metadata": {},
   "source": [
    "Since there are unfamiliar abbreviations in the dataset unique values, thus I present this detailed description of the columns selected for the model:\n",
    "\n",
    "1. is_canceled: Value indicating if the booking was canceled (1) or not (0);\n",
    "2. adults: Number of adults;\n",
    "3. babies: Number of babies;\n",
    "4. children: Number of children;\n",
    "5. country: Country of origin;\n",
    "6. is_repeated_guest: Value indicating if the booking name was from a repeated guest (1) or not (0);\n",
    "7. meal: Type of meal booked:\n",
    "    - Undefined or SC: No meal package,\n",
    "    - BB: Bed and Breakfast,\n",
    "    - HB: Half Board (Breakfast and one other meal, usually Dinner),\n",
    "    - FB: Full Board (Breakfast, Lunch, and Dinner);\n",
    "8. reserved_room_type: Code of room type reserved. Code is presented instead of designation for anonymity reasons;\n",
    "9. deposit_type: Indication on if the customer made a deposit to guarantee the booking:\n",
    "    - No Deposit: No deposit was made,\n",
    "    - Non Refund: A deposit was made in the value of the total stay cost,\n",
    "    - Refundable: A deposit was made with a value under the total cost of stay;\n",
    "10. required_car_parking_spaces: Number of car parking spaces required by the customer;\n",
    "11. total_of_special_requests: Number of special requests made by the customer (e.g. twin bed or high floor);\n",
    "12. market_segment: Market segment designation:\n",
    "    - TA: Travel Agents,\n",
    "    - TO: Tour Operators;\n",
    "13. distribution_channel: Booking distribution channel:\n",
    "    - TA: Travel Agents,\n",
    "    - TO: Tour Operators;\n",
    "14. customer_type: Type of booking:\n",
    "    - Contract: When the booking has an allotment or other type of contract associated to it,\n",
    "    - Group: When the booking is associated to a group,\n",
    "    - Transient: When the booking is not part of a group or contract, and is not associated to other transient booking,\n",
    "    - Transient-Party: When the booking is transient, but is associated to at least other transient booking;\n",
    "15. previous_bookings_not_canceled: Number of previous bookings not canceled by the customer prior to the current booking;\n",
    "16. previous_cancellations: Number of previous bookings that were canceled by the customer prior to the current booking;\n",
    "17. booking_changes: Number of changes/amendments made to the booking from the moment the booking was entered on the PMS until the moment of check-in or cancellation;\n",
    "18. days_in_waiting_list: Number of days the booking was in the waiting list before it was confirmed to the customer."
   ]
  },
  {
   "cell_type": "code",
   "execution_count": 4,
   "id": "3a5644a9",
   "metadata": {
    "ExecuteTime": {
     "end_time": "2022-07-28T16:07:09.646805Z",
     "start_time": "2022-07-28T16:07:09.601661Z"
    }
   },
   "outputs": [
    {
     "name": "stdout",
     "output_type": "stream",
     "text": [
      "<class 'pandas.core.frame.DataFrame'>\n",
      "RangeIndex: 119390 entries, 0 to 119389\n",
      "Data columns (total 19 columns):\n",
      " #   Column                          Non-Null Count   Dtype  \n",
      "---  ------                          --------------   -----  \n",
      " 0   is_canceled                     119390 non-null  int64  \n",
      " 1   hotel                           119390 non-null  object \n",
      " 2   adults                          119390 non-null  int64  \n",
      " 3   babies                          119390 non-null  int64  \n",
      " 4   children                        119386 non-null  float64\n",
      " 5   country                         118902 non-null  object \n",
      " 6   is_repeated_guest               119390 non-null  int64  \n",
      " 7   meal                            119390 non-null  object \n",
      " 8   reserved_room_type              119390 non-null  object \n",
      " 9   deposit_type                    119390 non-null  object \n",
      " 10  required_car_parking_spaces     119390 non-null  int64  \n",
      " 11  total_of_special_requests       119390 non-null  int64  \n",
      " 12  market_segment                  119390 non-null  object \n",
      " 13  distribution_channel            119390 non-null  object \n",
      " 14  customer_type                   119390 non-null  object \n",
      " 15  previous_bookings_not_canceled  119390 non-null  int64  \n",
      " 16  previous_cancellations          119390 non-null  int64  \n",
      " 17  booking_changes                 119390 non-null  int64  \n",
      " 18  days_in_waiting_list            119390 non-null  int64  \n",
      "dtypes: float64(1), int64(10), object(8)\n",
      "memory usage: 17.3+ MB\n"
     ]
    }
   ],
   "source": [
    "hotel.info()"
   ]
  },
  {
   "cell_type": "markdown",
   "id": "01845fa5",
   "metadata": {},
   "source": [
    "# Data Cleaning"
   ]
  },
  {
   "cell_type": "markdown",
   "id": "31cbf668",
   "metadata": {},
   "source": [
    "Let's take a brief look at the columns distribution to identify missing values and anomalies in the dataset."
   ]
  },
  {
   "cell_type": "code",
   "execution_count": 5,
   "id": "970244b6",
   "metadata": {
    "ExecuteTime": {
     "end_time": "2022-07-28T16:07:10.503702Z",
     "start_time": "2022-07-28T16:07:10.446662Z"
    }
   },
   "outputs": [
    {
     "data": {
      "text/html": [
       "<div>\n",
       "<style scoped>\n",
       "    .dataframe tbody tr th:only-of-type {\n",
       "        vertical-align: middle;\n",
       "    }\n",
       "\n",
       "    .dataframe tbody tr th {\n",
       "        vertical-align: top;\n",
       "    }\n",
       "\n",
       "    .dataframe thead th {\n",
       "        text-align: right;\n",
       "    }\n",
       "</style>\n",
       "<table border=\"1\" class=\"dataframe\">\n",
       "  <thead>\n",
       "    <tr style=\"text-align: right;\">\n",
       "      <th></th>\n",
       "      <th>is_canceled</th>\n",
       "      <th>adults</th>\n",
       "      <th>babies</th>\n",
       "      <th>children</th>\n",
       "      <th>is_repeated_guest</th>\n",
       "      <th>required_car_parking_spaces</th>\n",
       "      <th>total_of_special_requests</th>\n",
       "      <th>previous_bookings_not_canceled</th>\n",
       "      <th>previous_cancellations</th>\n",
       "      <th>booking_changes</th>\n",
       "      <th>days_in_waiting_list</th>\n",
       "    </tr>\n",
       "  </thead>\n",
       "  <tbody>\n",
       "    <tr>\n",
       "      <th>count</th>\n",
       "      <td>119390.000000</td>\n",
       "      <td>119390.000000</td>\n",
       "      <td>119390.000000</td>\n",
       "      <td>119386.000000</td>\n",
       "      <td>119390.000000</td>\n",
       "      <td>119390.000000</td>\n",
       "      <td>119390.000000</td>\n",
       "      <td>119390.000000</td>\n",
       "      <td>119390.000000</td>\n",
       "      <td>119390.000000</td>\n",
       "      <td>119390.000000</td>\n",
       "    </tr>\n",
       "    <tr>\n",
       "      <th>mean</th>\n",
       "      <td>0.370416</td>\n",
       "      <td>1.856403</td>\n",
       "      <td>0.007949</td>\n",
       "      <td>0.103890</td>\n",
       "      <td>0.031912</td>\n",
       "      <td>0.062518</td>\n",
       "      <td>0.571363</td>\n",
       "      <td>0.137097</td>\n",
       "      <td>0.087118</td>\n",
       "      <td>0.221124</td>\n",
       "      <td>2.321149</td>\n",
       "    </tr>\n",
       "    <tr>\n",
       "      <th>std</th>\n",
       "      <td>0.482918</td>\n",
       "      <td>0.579261</td>\n",
       "      <td>0.097436</td>\n",
       "      <td>0.398561</td>\n",
       "      <td>0.175767</td>\n",
       "      <td>0.245291</td>\n",
       "      <td>0.792798</td>\n",
       "      <td>1.497437</td>\n",
       "      <td>0.844336</td>\n",
       "      <td>0.652306</td>\n",
       "      <td>17.594721</td>\n",
       "    </tr>\n",
       "    <tr>\n",
       "      <th>min</th>\n",
       "      <td>0.000000</td>\n",
       "      <td>0.000000</td>\n",
       "      <td>0.000000</td>\n",
       "      <td>0.000000</td>\n",
       "      <td>0.000000</td>\n",
       "      <td>0.000000</td>\n",
       "      <td>0.000000</td>\n",
       "      <td>0.000000</td>\n",
       "      <td>0.000000</td>\n",
       "      <td>0.000000</td>\n",
       "      <td>0.000000</td>\n",
       "    </tr>\n",
       "    <tr>\n",
       "      <th>25%</th>\n",
       "      <td>0.000000</td>\n",
       "      <td>2.000000</td>\n",
       "      <td>0.000000</td>\n",
       "      <td>0.000000</td>\n",
       "      <td>0.000000</td>\n",
       "      <td>0.000000</td>\n",
       "      <td>0.000000</td>\n",
       "      <td>0.000000</td>\n",
       "      <td>0.000000</td>\n",
       "      <td>0.000000</td>\n",
       "      <td>0.000000</td>\n",
       "    </tr>\n",
       "    <tr>\n",
       "      <th>50%</th>\n",
       "      <td>0.000000</td>\n",
       "      <td>2.000000</td>\n",
       "      <td>0.000000</td>\n",
       "      <td>0.000000</td>\n",
       "      <td>0.000000</td>\n",
       "      <td>0.000000</td>\n",
       "      <td>0.000000</td>\n",
       "      <td>0.000000</td>\n",
       "      <td>0.000000</td>\n",
       "      <td>0.000000</td>\n",
       "      <td>0.000000</td>\n",
       "    </tr>\n",
       "    <tr>\n",
       "      <th>75%</th>\n",
       "      <td>1.000000</td>\n",
       "      <td>2.000000</td>\n",
       "      <td>0.000000</td>\n",
       "      <td>0.000000</td>\n",
       "      <td>0.000000</td>\n",
       "      <td>0.000000</td>\n",
       "      <td>1.000000</td>\n",
       "      <td>0.000000</td>\n",
       "      <td>0.000000</td>\n",
       "      <td>0.000000</td>\n",
       "      <td>0.000000</td>\n",
       "    </tr>\n",
       "    <tr>\n",
       "      <th>max</th>\n",
       "      <td>1.000000</td>\n",
       "      <td>55.000000</td>\n",
       "      <td>10.000000</td>\n",
       "      <td>10.000000</td>\n",
       "      <td>1.000000</td>\n",
       "      <td>8.000000</td>\n",
       "      <td>5.000000</td>\n",
       "      <td>72.000000</td>\n",
       "      <td>26.000000</td>\n",
       "      <td>21.000000</td>\n",
       "      <td>391.000000</td>\n",
       "    </tr>\n",
       "  </tbody>\n",
       "</table>\n",
       "</div>"
      ],
      "text/plain": [
       "         is_canceled         adults         babies       children  \\\n",
       "count  119390.000000  119390.000000  119390.000000  119386.000000   \n",
       "mean        0.370416       1.856403       0.007949       0.103890   \n",
       "std         0.482918       0.579261       0.097436       0.398561   \n",
       "min         0.000000       0.000000       0.000000       0.000000   \n",
       "25%         0.000000       2.000000       0.000000       0.000000   \n",
       "50%         0.000000       2.000000       0.000000       0.000000   \n",
       "75%         1.000000       2.000000       0.000000       0.000000   \n",
       "max         1.000000      55.000000      10.000000      10.000000   \n",
       "\n",
       "       is_repeated_guest  required_car_parking_spaces  \\\n",
       "count      119390.000000                119390.000000   \n",
       "mean            0.031912                     0.062518   \n",
       "std             0.175767                     0.245291   \n",
       "min             0.000000                     0.000000   \n",
       "25%             0.000000                     0.000000   \n",
       "50%             0.000000                     0.000000   \n",
       "75%             0.000000                     0.000000   \n",
       "max             1.000000                     8.000000   \n",
       "\n",
       "       total_of_special_requests  previous_bookings_not_canceled  \\\n",
       "count              119390.000000                   119390.000000   \n",
       "mean                    0.571363                        0.137097   \n",
       "std                     0.792798                        1.497437   \n",
       "min                     0.000000                        0.000000   \n",
       "25%                     0.000000                        0.000000   \n",
       "50%                     0.000000                        0.000000   \n",
       "75%                     1.000000                        0.000000   \n",
       "max                     5.000000                       72.000000   \n",
       "\n",
       "       previous_cancellations  booking_changes  days_in_waiting_list  \n",
       "count           119390.000000    119390.000000         119390.000000  \n",
       "mean                 0.087118         0.221124              2.321149  \n",
       "std                  0.844336         0.652306             17.594721  \n",
       "min                  0.000000         0.000000              0.000000  \n",
       "25%                  0.000000         0.000000              0.000000  \n",
       "50%                  0.000000         0.000000              0.000000  \n",
       "75%                  0.000000         0.000000              0.000000  \n",
       "max                 26.000000        21.000000            391.000000  "
      ]
     },
     "execution_count": 5,
     "metadata": {},
     "output_type": "execute_result"
    }
   ],
   "source": [
    "hotel.describe()"
   ]
  },
  {
   "cell_type": "code",
   "execution_count": 6,
   "id": "2be435f6",
   "metadata": {
    "ExecuteTime": {
     "end_time": "2022-07-28T16:07:10.815763Z",
     "start_time": "2022-07-28T16:07:10.733764Z"
    }
   },
   "outputs": [
    {
     "data": {
      "text/html": [
       "<div>\n",
       "<style scoped>\n",
       "    .dataframe tbody tr th:only-of-type {\n",
       "        vertical-align: middle;\n",
       "    }\n",
       "\n",
       "    .dataframe tbody tr th {\n",
       "        vertical-align: top;\n",
       "    }\n",
       "\n",
       "    .dataframe thead th {\n",
       "        text-align: right;\n",
       "    }\n",
       "</style>\n",
       "<table border=\"1\" class=\"dataframe\">\n",
       "  <thead>\n",
       "    <tr style=\"text-align: right;\">\n",
       "      <th></th>\n",
       "      <th>hotel</th>\n",
       "      <th>country</th>\n",
       "      <th>meal</th>\n",
       "      <th>reserved_room_type</th>\n",
       "      <th>deposit_type</th>\n",
       "      <th>market_segment</th>\n",
       "      <th>distribution_channel</th>\n",
       "      <th>customer_type</th>\n",
       "    </tr>\n",
       "  </thead>\n",
       "  <tbody>\n",
       "    <tr>\n",
       "      <th>count</th>\n",
       "      <td>119390</td>\n",
       "      <td>118902</td>\n",
       "      <td>119390</td>\n",
       "      <td>119390</td>\n",
       "      <td>119390</td>\n",
       "      <td>119390</td>\n",
       "      <td>119390</td>\n",
       "      <td>119390</td>\n",
       "    </tr>\n",
       "    <tr>\n",
       "      <th>unique</th>\n",
       "      <td>2</td>\n",
       "      <td>177</td>\n",
       "      <td>5</td>\n",
       "      <td>10</td>\n",
       "      <td>3</td>\n",
       "      <td>8</td>\n",
       "      <td>5</td>\n",
       "      <td>4</td>\n",
       "    </tr>\n",
       "    <tr>\n",
       "      <th>top</th>\n",
       "      <td>City Hotel</td>\n",
       "      <td>PRT</td>\n",
       "      <td>BB</td>\n",
       "      <td>A</td>\n",
       "      <td>No Deposit</td>\n",
       "      <td>Online TA</td>\n",
       "      <td>TA/TO</td>\n",
       "      <td>Transient</td>\n",
       "    </tr>\n",
       "    <tr>\n",
       "      <th>freq</th>\n",
       "      <td>79330</td>\n",
       "      <td>48590</td>\n",
       "      <td>92310</td>\n",
       "      <td>85994</td>\n",
       "      <td>104641</td>\n",
       "      <td>56477</td>\n",
       "      <td>97870</td>\n",
       "      <td>89613</td>\n",
       "    </tr>\n",
       "  </tbody>\n",
       "</table>\n",
       "</div>"
      ],
      "text/plain": [
       "             hotel country    meal reserved_room_type deposit_type  \\\n",
       "count       119390  118902  119390             119390       119390   \n",
       "unique           2     177       5                 10            3   \n",
       "top     City Hotel     PRT      BB                  A   No Deposit   \n",
       "freq         79330   48590   92310              85994       104641   \n",
       "\n",
       "       market_segment distribution_channel customer_type  \n",
       "count          119390               119390        119390  \n",
       "unique              8                    5             4  \n",
       "top         Online TA                TA/TO     Transient  \n",
       "freq            56477                97870         89613  "
      ]
     },
     "execution_count": 6,
     "metadata": {},
     "output_type": "execute_result"
    }
   ],
   "source": [
    "hotel.describe(include='object')"
   ]
  },
  {
   "cell_type": "markdown",
   "id": "0ef20c09",
   "metadata": {},
   "source": [
    "## Treating Anomalies"
   ]
  },
  {
   "cell_type": "markdown",
   "id": "8abbbe86",
   "metadata": {},
   "source": [
    "From the table above, we can see several anomalies within the dataset. Let's check them out."
   ]
  },
  {
   "cell_type": "markdown",
   "id": "15becc53",
   "metadata": {},
   "source": [
    "### Max Value of Adults, Babies, Children"
   ]
  },
  {
   "cell_type": "code",
   "execution_count": 7,
   "id": "8a1c40dd",
   "metadata": {
    "ExecuteTime": {
     "end_time": "2022-07-28T16:07:12.031882Z",
     "start_time": "2022-07-28T16:07:12.012825Z"
    }
   },
   "outputs": [
    {
     "data": {
      "text/html": [
       "<div>\n",
       "<style scoped>\n",
       "    .dataframe tbody tr th:only-of-type {\n",
       "        vertical-align: middle;\n",
       "    }\n",
       "\n",
       "    .dataframe tbody tr th {\n",
       "        vertical-align: top;\n",
       "    }\n",
       "\n",
       "    .dataframe thead th {\n",
       "        text-align: right;\n",
       "    }\n",
       "</style>\n",
       "<table border=\"1\" class=\"dataframe\">\n",
       "  <thead>\n",
       "    <tr style=\"text-align: right;\">\n",
       "      <th></th>\n",
       "      <th>adults</th>\n",
       "      <th>is_canceled</th>\n",
       "    </tr>\n",
       "  </thead>\n",
       "  <tbody>\n",
       "    <tr>\n",
       "      <th>1539</th>\n",
       "      <td>40</td>\n",
       "      <td>1</td>\n",
       "    </tr>\n",
       "    <tr>\n",
       "      <th>1587</th>\n",
       "      <td>26</td>\n",
       "      <td>1</td>\n",
       "    </tr>\n",
       "    <tr>\n",
       "      <th>1643</th>\n",
       "      <td>50</td>\n",
       "      <td>1</td>\n",
       "    </tr>\n",
       "    <tr>\n",
       "      <th>1752</th>\n",
       "      <td>26</td>\n",
       "      <td>1</td>\n",
       "    </tr>\n",
       "    <tr>\n",
       "      <th>1884</th>\n",
       "      <td>26</td>\n",
       "      <td>1</td>\n",
       "    </tr>\n",
       "    <tr>\n",
       "      <th>1917</th>\n",
       "      <td>27</td>\n",
       "      <td>1</td>\n",
       "    </tr>\n",
       "    <tr>\n",
       "      <th>1962</th>\n",
       "      <td>27</td>\n",
       "      <td>1</td>\n",
       "    </tr>\n",
       "    <tr>\n",
       "      <th>2003</th>\n",
       "      <td>26</td>\n",
       "      <td>1</td>\n",
       "    </tr>\n",
       "    <tr>\n",
       "      <th>2164</th>\n",
       "      <td>26</td>\n",
       "      <td>1</td>\n",
       "    </tr>\n",
       "    <tr>\n",
       "      <th>2173</th>\n",
       "      <td>55</td>\n",
       "      <td>1</td>\n",
       "    </tr>\n",
       "    <tr>\n",
       "      <th>2228</th>\n",
       "      <td>20</td>\n",
       "      <td>1</td>\n",
       "    </tr>\n",
       "    <tr>\n",
       "      <th>2229</th>\n",
       "      <td>6</td>\n",
       "      <td>1</td>\n",
       "    </tr>\n",
       "    <tr>\n",
       "      <th>2231</th>\n",
       "      <td>5</td>\n",
       "      <td>1</td>\n",
       "    </tr>\n",
       "    <tr>\n",
       "      <th>2417</th>\n",
       "      <td>10</td>\n",
       "      <td>1</td>\n",
       "    </tr>\n",
       "    <tr>\n",
       "      <th>2418</th>\n",
       "      <td>20</td>\n",
       "      <td>1</td>\n",
       "    </tr>\n",
       "    <tr>\n",
       "      <th>2419</th>\n",
       "      <td>5</td>\n",
       "      <td>1</td>\n",
       "    </tr>\n",
       "  </tbody>\n",
       "</table>\n",
       "</div>"
      ],
      "text/plain": [
       "      adults  is_canceled\n",
       "1539      40            1\n",
       "1587      26            1\n",
       "1643      50            1\n",
       "1752      26            1\n",
       "1884      26            1\n",
       "1917      27            1\n",
       "1962      27            1\n",
       "2003      26            1\n",
       "2164      26            1\n",
       "2173      55            1\n",
       "2228      20            1\n",
       "2229       6            1\n",
       "2231       5            1\n",
       "2417      10            1\n",
       "2418      20            1\n",
       "2419       5            1"
      ]
     },
     "execution_count": 7,
     "metadata": {},
     "output_type": "execute_result"
    }
   ],
   "source": [
    "# Checking data with adults more than 4\n",
    "hotel[hotel['adults']>4][['adults','is_canceled']]"
   ]
  },
  {
   "cell_type": "markdown",
   "id": "7cf9fe1e",
   "metadata": {},
   "source": [
    "<div style=\"text-align: justify\">\n",
    "From the table above, we can see that all data with number of adults more than 4 resulting in booking cancel. It is indicating mis-input of booking data. Thus, they actually are not anomalies. We can easily distinguish the booking that will canceled from abnormal amount of adults.\n",
    "</div>"
   ]
  },
  {
   "cell_type": "code",
   "execution_count": 8,
   "id": "c6ec23ca",
   "metadata": {
    "ExecuteTime": {
     "end_time": "2022-07-28T16:07:12.575626Z",
     "start_time": "2022-07-28T16:07:12.562455Z"
    }
   },
   "outputs": [
    {
     "data": {
      "text/html": [
       "<div>\n",
       "<style scoped>\n",
       "    .dataframe tbody tr th:only-of-type {\n",
       "        vertical-align: middle;\n",
       "    }\n",
       "\n",
       "    .dataframe tbody tr th {\n",
       "        vertical-align: top;\n",
       "    }\n",
       "\n",
       "    .dataframe thead th {\n",
       "        text-align: right;\n",
       "    }\n",
       "</style>\n",
       "<table border=\"1\" class=\"dataframe\">\n",
       "  <thead>\n",
       "    <tr style=\"text-align: right;\">\n",
       "      <th></th>\n",
       "      <th>is_canceled</th>\n",
       "      <th>hotel</th>\n",
       "      <th>adults</th>\n",
       "      <th>babies</th>\n",
       "      <th>children</th>\n",
       "      <th>country</th>\n",
       "      <th>is_repeated_guest</th>\n",
       "      <th>meal</th>\n",
       "      <th>reserved_room_type</th>\n",
       "      <th>deposit_type</th>\n",
       "      <th>required_car_parking_spaces</th>\n",
       "      <th>total_of_special_requests</th>\n",
       "      <th>market_segment</th>\n",
       "      <th>distribution_channel</th>\n",
       "      <th>customer_type</th>\n",
       "      <th>previous_bookings_not_canceled</th>\n",
       "      <th>previous_cancellations</th>\n",
       "      <th>booking_changes</th>\n",
       "      <th>days_in_waiting_list</th>\n",
       "    </tr>\n",
       "  </thead>\n",
       "  <tbody>\n",
       "    <tr>\n",
       "      <th>46619</th>\n",
       "      <td>0</td>\n",
       "      <td>City Hotel</td>\n",
       "      <td>2</td>\n",
       "      <td>10</td>\n",
       "      <td>0.0</td>\n",
       "      <td>PRT</td>\n",
       "      <td>0</td>\n",
       "      <td>BB</td>\n",
       "      <td>D</td>\n",
       "      <td>No Deposit</td>\n",
       "      <td>0</td>\n",
       "      <td>1</td>\n",
       "      <td>Online TA</td>\n",
       "      <td>TA/TO</td>\n",
       "      <td>Transient</td>\n",
       "      <td>0</td>\n",
       "      <td>0</td>\n",
       "      <td>1</td>\n",
       "      <td>0</td>\n",
       "    </tr>\n",
       "    <tr>\n",
       "      <th>78656</th>\n",
       "      <td>0</td>\n",
       "      <td>City Hotel</td>\n",
       "      <td>1</td>\n",
       "      <td>9</td>\n",
       "      <td>0.0</td>\n",
       "      <td>GBR</td>\n",
       "      <td>0</td>\n",
       "      <td>BB</td>\n",
       "      <td>A</td>\n",
       "      <td>No Deposit</td>\n",
       "      <td>0</td>\n",
       "      <td>0</td>\n",
       "      <td>Corporate</td>\n",
       "      <td>Corporate</td>\n",
       "      <td>Transient-Party</td>\n",
       "      <td>0</td>\n",
       "      <td>0</td>\n",
       "      <td>1</td>\n",
       "      <td>0</td>\n",
       "    </tr>\n",
       "  </tbody>\n",
       "</table>\n",
       "</div>"
      ],
      "text/plain": [
       "       is_canceled       hotel  adults  babies  children country  \\\n",
       "46619            0  City Hotel       2      10       0.0     PRT   \n",
       "78656            0  City Hotel       1       9       0.0     GBR   \n",
       "\n",
       "       is_repeated_guest meal reserved_room_type deposit_type  \\\n",
       "46619                  0   BB                  D   No Deposit   \n",
       "78656                  0   BB                  A   No Deposit   \n",
       "\n",
       "       required_car_parking_spaces  total_of_special_requests market_segment  \\\n",
       "46619                            0                          1      Online TA   \n",
       "78656                            0                          0      Corporate   \n",
       "\n",
       "      distribution_channel    customer_type  previous_bookings_not_canceled  \\\n",
       "46619                TA/TO        Transient                               0   \n",
       "78656            Corporate  Transient-Party                               0   \n",
       "\n",
       "       previous_cancellations  booking_changes  days_in_waiting_list  \n",
       "46619                       0                1                     0  \n",
       "78656                       0                1                     0  "
      ]
     },
     "execution_count": 8,
     "metadata": {},
     "output_type": "execute_result"
    }
   ],
   "source": [
    "hotel[hotel['babies']>2]"
   ]
  },
  {
   "cell_type": "markdown",
   "id": "a9e10ce3",
   "metadata": {},
   "source": [
    "<div style=\"text-align: justify\">\n",
    "Looking at the market segment, it is most unlikely that the corporate segment customers will bring babies and children to their business trip. Let's check this assumption:\n",
    "</div>"
   ]
  },
  {
   "cell_type": "code",
   "execution_count": 9,
   "id": "75085fd5",
   "metadata": {
    "ExecuteTime": {
     "end_time": "2022-07-28T16:07:12.919176Z",
     "start_time": "2022-07-28T16:07:12.900172Z"
    }
   },
   "outputs": [
    {
     "name": "stdout",
     "output_type": "stream",
     "text": [
      "Data of Corporate Segment with Babies/Children: 50\n",
      "Data of Corporate Segment without Babies/Children: 5295\n",
      "Percentage of Data with Babies/Children in Corporate Segment: 0.94 %\n"
     ]
    }
   ],
   "source": [
    "CBC = hotel[(hotel['market_segment']=='Corporate')&((hotel['babies']>0)|(hotel['children']>0))]['is_canceled'].count()\n",
    "CWBC = hotel[(hotel['market_segment']=='Corporate')]['is_canceled'].count()\n",
    "print('Data of Corporate Segment with Babies/Children:',CBC)\n",
    "print('Data of Corporate Segment without Babies/Children:',CWBC)\n",
    "print('Percentage of Data with Babies/Children in Corporate Segment:',round((CBC/CWBC)*100,2),'%')"
   ]
  },
  {
   "cell_type": "markdown",
   "id": "156c0907",
   "metadata": {},
   "source": [
    "Since they are only minority of data, let's change the amount of babies and children in corporate sector to be 0."
   ]
  },
  {
   "cell_type": "code",
   "execution_count": 10,
   "id": "2f36d847",
   "metadata": {
    "ExecuteTime": {
     "end_time": "2022-07-28T16:07:13.303844Z",
     "start_time": "2022-07-28T16:07:13.282780Z"
    }
   },
   "outputs": [],
   "source": [
    "index=hotel[(hotel['market_segment']=='Corporate')&((hotel['babies']>0)|(hotel['children']>0))].index\n",
    "hotel.loc[index,'babies']=0\n",
    "hotel.loc[index,'children']=0"
   ]
  },
  {
   "cell_type": "code",
   "execution_count": 11,
   "id": "4ba7d4dc",
   "metadata": {
    "ExecuteTime": {
     "end_time": "2022-07-28T16:07:13.458982Z",
     "start_time": "2022-07-28T16:07:13.436981Z"
    }
   },
   "outputs": [
    {
     "data": {
      "text/plain": [
       "0"
      ]
     },
     "execution_count": 11,
     "metadata": {},
     "output_type": "execute_result"
    }
   ],
   "source": [
    "hotel[(hotel['market_segment']=='Corporate')&((hotel['babies']>0)|(hotel['children']>0))]['is_canceled'].count()"
   ]
  },
  {
   "cell_type": "code",
   "execution_count": 12,
   "id": "f217e525",
   "metadata": {
    "ExecuteTime": {
     "end_time": "2022-07-28T16:07:13.615168Z",
     "start_time": "2022-07-28T16:07:13.602164Z"
    }
   },
   "outputs": [
    {
     "data": {
      "text/html": [
       "<div>\n",
       "<style scoped>\n",
       "    .dataframe tbody tr th:only-of-type {\n",
       "        vertical-align: middle;\n",
       "    }\n",
       "\n",
       "    .dataframe tbody tr th {\n",
       "        vertical-align: top;\n",
       "    }\n",
       "\n",
       "    .dataframe thead th {\n",
       "        text-align: right;\n",
       "    }\n",
       "</style>\n",
       "<table border=\"1\" class=\"dataframe\">\n",
       "  <thead>\n",
       "    <tr style=\"text-align: right;\">\n",
       "      <th></th>\n",
       "      <th>is_canceled</th>\n",
       "      <th>hotel</th>\n",
       "      <th>adults</th>\n",
       "      <th>babies</th>\n",
       "      <th>children</th>\n",
       "      <th>country</th>\n",
       "      <th>is_repeated_guest</th>\n",
       "      <th>meal</th>\n",
       "      <th>reserved_room_type</th>\n",
       "      <th>deposit_type</th>\n",
       "      <th>required_car_parking_spaces</th>\n",
       "      <th>total_of_special_requests</th>\n",
       "      <th>market_segment</th>\n",
       "      <th>distribution_channel</th>\n",
       "      <th>customer_type</th>\n",
       "      <th>previous_bookings_not_canceled</th>\n",
       "      <th>previous_cancellations</th>\n",
       "      <th>booking_changes</th>\n",
       "      <th>days_in_waiting_list</th>\n",
       "    </tr>\n",
       "  </thead>\n",
       "  <tbody>\n",
       "    <tr>\n",
       "      <th>328</th>\n",
       "      <td>1</td>\n",
       "      <td>Resort Hotel</td>\n",
       "      <td>2</td>\n",
       "      <td>0</td>\n",
       "      <td>10.0</td>\n",
       "      <td>PRT</td>\n",
       "      <td>0</td>\n",
       "      <td>BB</td>\n",
       "      <td>D</td>\n",
       "      <td>No Deposit</td>\n",
       "      <td>0</td>\n",
       "      <td>1</td>\n",
       "      <td>Offline TA/TO</td>\n",
       "      <td>TA/TO</td>\n",
       "      <td>Contract</td>\n",
       "      <td>0</td>\n",
       "      <td>0</td>\n",
       "      <td>2</td>\n",
       "      <td>0</td>\n",
       "    </tr>\n",
       "    <tr>\n",
       "      <th>46619</th>\n",
       "      <td>0</td>\n",
       "      <td>City Hotel</td>\n",
       "      <td>2</td>\n",
       "      <td>10</td>\n",
       "      <td>0.0</td>\n",
       "      <td>PRT</td>\n",
       "      <td>0</td>\n",
       "      <td>BB</td>\n",
       "      <td>D</td>\n",
       "      <td>No Deposit</td>\n",
       "      <td>0</td>\n",
       "      <td>1</td>\n",
       "      <td>Online TA</td>\n",
       "      <td>TA/TO</td>\n",
       "      <td>Transient</td>\n",
       "      <td>0</td>\n",
       "      <td>0</td>\n",
       "      <td>1</td>\n",
       "      <td>0</td>\n",
       "    </tr>\n",
       "  </tbody>\n",
       "</table>\n",
       "</div>"
      ],
      "text/plain": [
       "       is_canceled         hotel  adults  babies  children country  \\\n",
       "328              1  Resort Hotel       2       0      10.0     PRT   \n",
       "46619            0    City Hotel       2      10       0.0     PRT   \n",
       "\n",
       "       is_repeated_guest meal reserved_room_type deposit_type  \\\n",
       "328                    0   BB                  D   No Deposit   \n",
       "46619                  0   BB                  D   No Deposit   \n",
       "\n",
       "       required_car_parking_spaces  total_of_special_requests market_segment  \\\n",
       "328                              0                          1  Offline TA/TO   \n",
       "46619                            0                          1      Online TA   \n",
       "\n",
       "      distribution_channel customer_type  previous_bookings_not_canceled  \\\n",
       "328                  TA/TO      Contract                               0   \n",
       "46619                TA/TO     Transient                               0   \n",
       "\n",
       "       previous_cancellations  booking_changes  days_in_waiting_list  \n",
       "328                         0                2                     0  \n",
       "46619                       0                1                     0  "
      ]
     },
     "execution_count": 12,
     "metadata": {},
     "output_type": "execute_result"
    }
   ],
   "source": [
    "hotel[(hotel['babies']>2)|(hotel['children']>3)]"
   ]
  },
  {
   "cell_type": "markdown",
   "id": "06168d69",
   "metadata": {},
   "source": [
    "Since the dataset didn't have any data that will support the assumption that both of these data are anomalies, then I will consider it as valid data."
   ]
  },
  {
   "cell_type": "markdown",
   "id": "24a6adec",
   "metadata": {},
   "source": [
    "### Min Value of Adults"
   ]
  },
  {
   "cell_type": "markdown",
   "id": "9304ee39",
   "metadata": {},
   "source": [
    "<div style=\"text-align: justify\">\n",
    "It is most unlikely that the customer only consist of children and/or babies, or when the booking didn't specify the number of customers with 0 adults, babies, and children.\n",
    "</div>"
   ]
  },
  {
   "cell_type": "code",
   "execution_count": 13,
   "id": "2b500d02",
   "metadata": {
    "ExecuteTime": {
     "end_time": "2022-07-28T16:07:14.225887Z",
     "start_time": "2022-07-28T16:07:14.216884Z"
    }
   },
   "outputs": [
    {
     "data": {
      "text/plain": [
       "0    294\n",
       "1    109\n",
       "Name: is_canceled, dtype: int64"
      ]
     },
     "execution_count": 13,
     "metadata": {},
     "output_type": "execute_result"
    }
   ],
   "source": [
    "hotel[hotel['adults']==0]['is_canceled'].value_counts() # Total data with 0 adults = 403"
   ]
  },
  {
   "cell_type": "markdown",
   "id": "ce1899e3",
   "metadata": {},
   "source": [
    "<div style=\"text-align: justify\">\n",
    "We have several potential columns that will help us determining the total number of adults. Based on logic, customer_type, market_segment, and reserved_room_type may have association to the total number of adults in booking application. Customer type and market segment of groups may have connection to higher number of adults, while room type may reflect the size of the room that will also indicates the number of adults in the room.\n",
    "</div>"
   ]
  },
  {
   "cell_type": "code",
   "execution_count": 14,
   "id": "f7d4d398",
   "metadata": {
    "ExecuteTime": {
     "end_time": "2022-07-28T16:07:14.567278Z",
     "start_time": "2022-07-28T16:07:14.513710Z"
    }
   },
   "outputs": [
    {
     "data": {
      "text/html": [
       "<div>\n",
       "<style scoped>\n",
       "    .dataframe tbody tr th:only-of-type {\n",
       "        vertical-align: middle;\n",
       "    }\n",
       "\n",
       "    .dataframe tbody tr th {\n",
       "        vertical-align: top;\n",
       "    }\n",
       "\n",
       "    .dataframe thead th {\n",
       "        text-align: right;\n",
       "    }\n",
       "</style>\n",
       "<table border=\"1\" class=\"dataframe\">\n",
       "  <thead>\n",
       "    <tr style=\"text-align: right;\">\n",
       "      <th></th>\n",
       "      <th>count</th>\n",
       "      <th>mean</th>\n",
       "      <th>std</th>\n",
       "      <th>min</th>\n",
       "      <th>25%</th>\n",
       "      <th>50%</th>\n",
       "      <th>75%</th>\n",
       "      <th>max</th>\n",
       "    </tr>\n",
       "    <tr>\n",
       "      <th>reserved_room_type</th>\n",
       "      <th></th>\n",
       "      <th></th>\n",
       "      <th></th>\n",
       "      <th></th>\n",
       "      <th></th>\n",
       "      <th></th>\n",
       "      <th></th>\n",
       "      <th></th>\n",
       "    </tr>\n",
       "  </thead>\n",
       "  <tbody>\n",
       "    <tr>\n",
       "      <th>A</th>\n",
       "      <td>85851.0</td>\n",
       "      <td>1.780119</td>\n",
       "      <td>0.450410</td>\n",
       "      <td>1.0</td>\n",
       "      <td>2.0</td>\n",
       "      <td>2.0</td>\n",
       "      <td>2.0</td>\n",
       "      <td>4.0</td>\n",
       "    </tr>\n",
       "    <tr>\n",
       "      <th>B</th>\n",
       "      <td>907.0</td>\n",
       "      <td>1.934950</td>\n",
       "      <td>0.280259</td>\n",
       "      <td>1.0</td>\n",
       "      <td>2.0</td>\n",
       "      <td>2.0</td>\n",
       "      <td>2.0</td>\n",
       "      <td>3.0</td>\n",
       "    </tr>\n",
       "    <tr>\n",
       "      <th>C</th>\n",
       "      <td>931.0</td>\n",
       "      <td>2.041890</td>\n",
       "      <td>0.378688</td>\n",
       "      <td>1.0</td>\n",
       "      <td>2.0</td>\n",
       "      <td>2.0</td>\n",
       "      <td>2.0</td>\n",
       "      <td>4.0</td>\n",
       "    </tr>\n",
       "    <tr>\n",
       "      <th>D</th>\n",
       "      <td>19176.0</td>\n",
       "      <td>2.089539</td>\n",
       "      <td>0.519415</td>\n",
       "      <td>1.0</td>\n",
       "      <td>2.0</td>\n",
       "      <td>2.0</td>\n",
       "      <td>2.0</td>\n",
       "      <td>4.0</td>\n",
       "    </tr>\n",
       "    <tr>\n",
       "      <th>E</th>\n",
       "      <td>6516.0</td>\n",
       "      <td>1.983579</td>\n",
       "      <td>0.425085</td>\n",
       "      <td>1.0</td>\n",
       "      <td>2.0</td>\n",
       "      <td>2.0</td>\n",
       "      <td>2.0</td>\n",
       "      <td>4.0</td>\n",
       "    </tr>\n",
       "    <tr>\n",
       "      <th>F</th>\n",
       "      <td>2892.0</td>\n",
       "      <td>1.995851</td>\n",
       "      <td>0.319952</td>\n",
       "      <td>1.0</td>\n",
       "      <td>2.0</td>\n",
       "      <td>2.0</td>\n",
       "      <td>2.0</td>\n",
       "      <td>4.0</td>\n",
       "    </tr>\n",
       "    <tr>\n",
       "      <th>G</th>\n",
       "      <td>2091.0</td>\n",
       "      <td>2.080823</td>\n",
       "      <td>0.436022</td>\n",
       "      <td>1.0</td>\n",
       "      <td>2.0</td>\n",
       "      <td>2.0</td>\n",
       "      <td>2.0</td>\n",
       "      <td>4.0</td>\n",
       "    </tr>\n",
       "    <tr>\n",
       "      <th>H</th>\n",
       "      <td>601.0</td>\n",
       "      <td>2.712146</td>\n",
       "      <td>0.543448</td>\n",
       "      <td>1.0</td>\n",
       "      <td>2.0</td>\n",
       "      <td>3.0</td>\n",
       "      <td>3.0</td>\n",
       "      <td>4.0</td>\n",
       "    </tr>\n",
       "    <tr>\n",
       "      <th>L</th>\n",
       "      <td>6.0</td>\n",
       "      <td>2.166667</td>\n",
       "      <td>0.983192</td>\n",
       "      <td>1.0</td>\n",
       "      <td>2.0</td>\n",
       "      <td>2.0</td>\n",
       "      <td>2.0</td>\n",
       "      <td>4.0</td>\n",
       "    </tr>\n",
       "  </tbody>\n",
       "</table>\n",
       "</div>"
      ],
      "text/plain": [
       "                      count      mean       std  min  25%  50%  75%  max\n",
       "reserved_room_type                                                      \n",
       "A                   85851.0  1.780119  0.450410  1.0  2.0  2.0  2.0  4.0\n",
       "B                     907.0  1.934950  0.280259  1.0  2.0  2.0  2.0  3.0\n",
       "C                     931.0  2.041890  0.378688  1.0  2.0  2.0  2.0  4.0\n",
       "D                   19176.0  2.089539  0.519415  1.0  2.0  2.0  2.0  4.0\n",
       "E                    6516.0  1.983579  0.425085  1.0  2.0  2.0  2.0  4.0\n",
       "F                    2892.0  1.995851  0.319952  1.0  2.0  2.0  2.0  4.0\n",
       "G                    2091.0  2.080823  0.436022  1.0  2.0  2.0  2.0  4.0\n",
       "H                     601.0  2.712146  0.543448  1.0  2.0  3.0  3.0  4.0\n",
       "L                       6.0  2.166667  0.983192  1.0  2.0  2.0  2.0  4.0"
      ]
     },
     "execution_count": 14,
     "metadata": {},
     "output_type": "execute_result"
    }
   ],
   "source": [
    "hotel[(hotel['adults']>0)&(hotel['adults']<=4)].groupby('reserved_room_type')['adults'].describe()"
   ]
  },
  {
   "cell_type": "code",
   "execution_count": 15,
   "id": "e7c49808",
   "metadata": {
    "ExecuteTime": {
     "end_time": "2022-07-28T16:07:14.706407Z",
     "start_time": "2022-07-28T16:07:14.667403Z"
    }
   },
   "outputs": [
    {
     "data": {
      "text/html": [
       "<div>\n",
       "<style scoped>\n",
       "    .dataframe tbody tr th:only-of-type {\n",
       "        vertical-align: middle;\n",
       "    }\n",
       "\n",
       "    .dataframe tbody tr th {\n",
       "        vertical-align: top;\n",
       "    }\n",
       "\n",
       "    .dataframe thead th {\n",
       "        text-align: right;\n",
       "    }\n",
       "</style>\n",
       "<table border=\"1\" class=\"dataframe\">\n",
       "  <thead>\n",
       "    <tr style=\"text-align: right;\">\n",
       "      <th></th>\n",
       "      <th>count</th>\n",
       "      <th>mean</th>\n",
       "      <th>std</th>\n",
       "      <th>min</th>\n",
       "      <th>25%</th>\n",
       "      <th>50%</th>\n",
       "      <th>75%</th>\n",
       "      <th>max</th>\n",
       "    </tr>\n",
       "    <tr>\n",
       "      <th>customer_type</th>\n",
       "      <th></th>\n",
       "      <th></th>\n",
       "      <th></th>\n",
       "      <th></th>\n",
       "      <th></th>\n",
       "      <th></th>\n",
       "      <th></th>\n",
       "      <th></th>\n",
       "    </tr>\n",
       "  </thead>\n",
       "  <tbody>\n",
       "    <tr>\n",
       "      <th>Contract</th>\n",
       "      <td>4071.0</td>\n",
       "      <td>1.921887</td>\n",
       "      <td>0.317840</td>\n",
       "      <td>1.0</td>\n",
       "      <td>2.0</td>\n",
       "      <td>2.0</td>\n",
       "      <td>2.0</td>\n",
       "      <td>3.0</td>\n",
       "    </tr>\n",
       "    <tr>\n",
       "      <th>Group</th>\n",
       "      <td>557.0</td>\n",
       "      <td>1.721724</td>\n",
       "      <td>0.512202</td>\n",
       "      <td>1.0</td>\n",
       "      <td>1.0</td>\n",
       "      <td>2.0</td>\n",
       "      <td>2.0</td>\n",
       "      <td>3.0</td>\n",
       "    </tr>\n",
       "    <tr>\n",
       "      <th>Transient</th>\n",
       "      <td>89337.0</td>\n",
       "      <td>1.892620</td>\n",
       "      <td>0.473755</td>\n",
       "      <td>1.0</td>\n",
       "      <td>2.0</td>\n",
       "      <td>2.0</td>\n",
       "      <td>2.0</td>\n",
       "      <td>4.0</td>\n",
       "    </tr>\n",
       "    <tr>\n",
       "      <th>Transient-Party</th>\n",
       "      <td>25006.0</td>\n",
       "      <td>1.734664</td>\n",
       "      <td>0.490277</td>\n",
       "      <td>1.0</td>\n",
       "      <td>1.0</td>\n",
       "      <td>2.0</td>\n",
       "      <td>2.0</td>\n",
       "      <td>4.0</td>\n",
       "    </tr>\n",
       "  </tbody>\n",
       "</table>\n",
       "</div>"
      ],
      "text/plain": [
       "                   count      mean       std  min  25%  50%  75%  max\n",
       "customer_type                                                        \n",
       "Contract          4071.0  1.921887  0.317840  1.0  2.0  2.0  2.0  3.0\n",
       "Group              557.0  1.721724  0.512202  1.0  1.0  2.0  2.0  3.0\n",
       "Transient        89337.0  1.892620  0.473755  1.0  2.0  2.0  2.0  4.0\n",
       "Transient-Party  25006.0  1.734664  0.490277  1.0  1.0  2.0  2.0  4.0"
      ]
     },
     "execution_count": 15,
     "metadata": {},
     "output_type": "execute_result"
    }
   ],
   "source": [
    "hotel[(hotel['adults']>0)&(hotel['adults']<=4)].groupby('customer_type')['adults'].describe()"
   ]
  },
  {
   "cell_type": "code",
   "execution_count": 16,
   "id": "a96a8719",
   "metadata": {
    "ExecuteTime": {
     "end_time": "2022-07-28T16:07:14.880975Z",
     "start_time": "2022-07-28T16:07:14.833981Z"
    }
   },
   "outputs": [
    {
     "data": {
      "text/html": [
       "<div>\n",
       "<style scoped>\n",
       "    .dataframe tbody tr th:only-of-type {\n",
       "        vertical-align: middle;\n",
       "    }\n",
       "\n",
       "    .dataframe tbody tr th {\n",
       "        vertical-align: top;\n",
       "    }\n",
       "\n",
       "    .dataframe thead th {\n",
       "        text-align: right;\n",
       "    }\n",
       "</style>\n",
       "<table border=\"1\" class=\"dataframe\">\n",
       "  <thead>\n",
       "    <tr style=\"text-align: right;\">\n",
       "      <th></th>\n",
       "      <th>count</th>\n",
       "      <th>mean</th>\n",
       "      <th>std</th>\n",
       "      <th>min</th>\n",
       "      <th>25%</th>\n",
       "      <th>50%</th>\n",
       "      <th>75%</th>\n",
       "      <th>max</th>\n",
       "    </tr>\n",
       "    <tr>\n",
       "      <th>market_segment</th>\n",
       "      <th></th>\n",
       "      <th></th>\n",
       "      <th></th>\n",
       "      <th></th>\n",
       "      <th></th>\n",
       "      <th></th>\n",
       "      <th></th>\n",
       "      <th></th>\n",
       "    </tr>\n",
       "  </thead>\n",
       "  <tbody>\n",
       "    <tr>\n",
       "      <th>Aviation</th>\n",
       "      <td>235.0</td>\n",
       "      <td>1.012766</td>\n",
       "      <td>0.112503</td>\n",
       "      <td>1.0</td>\n",
       "      <td>1.00</td>\n",
       "      <td>1.0</td>\n",
       "      <td>1.00</td>\n",
       "      <td>2.0</td>\n",
       "    </tr>\n",
       "    <tr>\n",
       "      <th>Complementary</th>\n",
       "      <td>724.0</td>\n",
       "      <td>1.524862</td>\n",
       "      <td>0.539649</td>\n",
       "      <td>1.0</td>\n",
       "      <td>1.00</td>\n",
       "      <td>2.0</td>\n",
       "      <td>2.00</td>\n",
       "      <td>4.0</td>\n",
       "    </tr>\n",
       "    <tr>\n",
       "      <th>Corporate</th>\n",
       "      <td>5282.0</td>\n",
       "      <td>1.239114</td>\n",
       "      <td>0.443984</td>\n",
       "      <td>1.0</td>\n",
       "      <td>1.00</td>\n",
       "      <td>1.0</td>\n",
       "      <td>1.00</td>\n",
       "      <td>3.0</td>\n",
       "    </tr>\n",
       "    <tr>\n",
       "      <th>Direct</th>\n",
       "      <td>12542.0</td>\n",
       "      <td>1.864137</td>\n",
       "      <td>0.489299</td>\n",
       "      <td>1.0</td>\n",
       "      <td>2.00</td>\n",
       "      <td>2.0</td>\n",
       "      <td>2.00</td>\n",
       "      <td>4.0</td>\n",
       "    </tr>\n",
       "    <tr>\n",
       "      <th>Groups</th>\n",
       "      <td>19791.0</td>\n",
       "      <td>1.798696</td>\n",
       "      <td>0.428165</td>\n",
       "      <td>1.0</td>\n",
       "      <td>2.00</td>\n",
       "      <td>2.0</td>\n",
       "      <td>2.00</td>\n",
       "      <td>3.0</td>\n",
       "    </tr>\n",
       "    <tr>\n",
       "      <th>Offline TA/TO</th>\n",
       "      <td>24174.0</td>\n",
       "      <td>1.817242</td>\n",
       "      <td>0.457184</td>\n",
       "      <td>1.0</td>\n",
       "      <td>2.00</td>\n",
       "      <td>2.0</td>\n",
       "      <td>2.00</td>\n",
       "      <td>4.0</td>\n",
       "    </tr>\n",
       "    <tr>\n",
       "      <th>Online TA</th>\n",
       "      <td>56221.0</td>\n",
       "      <td>1.964408</td>\n",
       "      <td>0.445855</td>\n",
       "      <td>1.0</td>\n",
       "      <td>2.00</td>\n",
       "      <td>2.0</td>\n",
       "      <td>2.00</td>\n",
       "      <td>4.0</td>\n",
       "    </tr>\n",
       "    <tr>\n",
       "      <th>Undefined</th>\n",
       "      <td>2.0</td>\n",
       "      <td>2.500000</td>\n",
       "      <td>0.707107</td>\n",
       "      <td>2.0</td>\n",
       "      <td>2.25</td>\n",
       "      <td>2.5</td>\n",
       "      <td>2.75</td>\n",
       "      <td>3.0</td>\n",
       "    </tr>\n",
       "  </tbody>\n",
       "</table>\n",
       "</div>"
      ],
      "text/plain": [
       "                  count      mean       std  min   25%  50%   75%  max\n",
       "market_segment                                                        \n",
       "Aviation          235.0  1.012766  0.112503  1.0  1.00  1.0  1.00  2.0\n",
       "Complementary     724.0  1.524862  0.539649  1.0  1.00  2.0  2.00  4.0\n",
       "Corporate        5282.0  1.239114  0.443984  1.0  1.00  1.0  1.00  3.0\n",
       "Direct          12542.0  1.864137  0.489299  1.0  2.00  2.0  2.00  4.0\n",
       "Groups          19791.0  1.798696  0.428165  1.0  2.00  2.0  2.00  3.0\n",
       "Offline TA/TO   24174.0  1.817242  0.457184  1.0  2.00  2.0  2.00  4.0\n",
       "Online TA       56221.0  1.964408  0.445855  1.0  2.00  2.0  2.00  4.0\n",
       "Undefined           2.0  2.500000  0.707107  2.0  2.25  2.5  2.75  3.0"
      ]
     },
     "execution_count": 16,
     "metadata": {},
     "output_type": "execute_result"
    }
   ],
   "source": [
    "hotel[(hotel['adults']>0)&(hotel['adults']<=4)].groupby('market_segment')['adults'].describe()"
   ]
  },
  {
   "cell_type": "markdown",
   "id": "46fe4b26",
   "metadata": {},
   "source": [
    "Considering the median presented are mostly 2, we will replace adults 0 with median of adults."
   ]
  },
  {
   "cell_type": "code",
   "execution_count": 17,
   "id": "d4c24c9e",
   "metadata": {
    "ExecuteTime": {
     "end_time": "2022-07-28T16:07:15.147330Z",
     "start_time": "2022-07-28T16:07:15.129325Z"
    }
   },
   "outputs": [],
   "source": [
    "index=hotel[hotel['adults']==0].index\n",
    "hotel.loc[index,'adults']=hotel[hotel['adults']>0]['adults'].median()"
   ]
  },
  {
   "cell_type": "markdown",
   "id": "53dcdcdc",
   "metadata": {},
   "source": [
    "### Max Values of Days in Waiting List "
   ]
  },
  {
   "cell_type": "code",
   "execution_count": 18,
   "id": "fc7990d1",
   "metadata": {
    "ExecuteTime": {
     "end_time": "2022-07-28T16:07:15.473456Z",
     "start_time": "2022-07-28T16:07:15.450523Z"
    }
   },
   "outputs": [
    {
     "data": {
      "text/html": [
       "<div>\n",
       "<style scoped>\n",
       "    .dataframe tbody tr th:only-of-type {\n",
       "        vertical-align: middle;\n",
       "    }\n",
       "\n",
       "    .dataframe tbody tr th {\n",
       "        vertical-align: top;\n",
       "    }\n",
       "\n",
       "    .dataframe thead th {\n",
       "        text-align: right;\n",
       "    }\n",
       "</style>\n",
       "<table border=\"1\" class=\"dataframe\">\n",
       "  <thead>\n",
       "    <tr style=\"text-align: right;\">\n",
       "      <th></th>\n",
       "      <th></th>\n",
       "      <th>count</th>\n",
       "      <th>mean</th>\n",
       "      <th>std</th>\n",
       "      <th>min</th>\n",
       "      <th>25%</th>\n",
       "      <th>50%</th>\n",
       "      <th>75%</th>\n",
       "      <th>max</th>\n",
       "    </tr>\n",
       "    <tr>\n",
       "      <th>hotel</th>\n",
       "      <th>is_canceled</th>\n",
       "      <th></th>\n",
       "      <th></th>\n",
       "      <th></th>\n",
       "      <th></th>\n",
       "      <th></th>\n",
       "      <th></th>\n",
       "      <th></th>\n",
       "      <th></th>\n",
       "    </tr>\n",
       "  </thead>\n",
       "  <tbody>\n",
       "    <tr>\n",
       "      <th rowspan=\"2\" valign=\"top\">City Hotel</th>\n",
       "      <th>0</th>\n",
       "      <td>1101.0</td>\n",
       "      <td>90.276113</td>\n",
       "      <td>70.850663</td>\n",
       "      <td>1.0</td>\n",
       "      <td>48.0</td>\n",
       "      <td>61.0</td>\n",
       "      <td>99.0</td>\n",
       "      <td>379.0</td>\n",
       "    </tr>\n",
       "    <tr>\n",
       "      <th>1</th>\n",
       "      <td>2342.0</td>\n",
       "      <td>66.859949</td>\n",
       "      <td>66.707507</td>\n",
       "      <td>1.0</td>\n",
       "      <td>32.0</td>\n",
       "      <td>44.0</td>\n",
       "      <td>77.0</td>\n",
       "      <td>391.0</td>\n",
       "    </tr>\n",
       "    <tr>\n",
       "      <th rowspan=\"2\" valign=\"top\">Resort Hotel</th>\n",
       "      <th>0</th>\n",
       "      <td>238.0</td>\n",
       "      <td>84.495798</td>\n",
       "      <td>42.425984</td>\n",
       "      <td>1.0</td>\n",
       "      <td>50.0</td>\n",
       "      <td>88.0</td>\n",
       "      <td>122.0</td>\n",
       "      <td>185.0</td>\n",
       "    </tr>\n",
       "    <tr>\n",
       "      <th>1</th>\n",
       "      <td>17.0</td>\n",
       "      <td>60.705882</td>\n",
       "      <td>45.631355</td>\n",
       "      <td>1.0</td>\n",
       "      <td>22.0</td>\n",
       "      <td>50.0</td>\n",
       "      <td>101.0</td>\n",
       "      <td>125.0</td>\n",
       "    </tr>\n",
       "  </tbody>\n",
       "</table>\n",
       "</div>"
      ],
      "text/plain": [
       "                           count       mean        std  min   25%   50%  \\\n",
       "hotel        is_canceled                                                  \n",
       "City Hotel   0            1101.0  90.276113  70.850663  1.0  48.0  61.0   \n",
       "             1            2342.0  66.859949  66.707507  1.0  32.0  44.0   \n",
       "Resort Hotel 0             238.0  84.495798  42.425984  1.0  50.0  88.0   \n",
       "             1              17.0  60.705882  45.631355  1.0  22.0  50.0   \n",
       "\n",
       "                            75%    max  \n",
       "hotel        is_canceled                \n",
       "City Hotel   0             99.0  379.0  \n",
       "             1             77.0  391.0  \n",
       "Resort Hotel 0            122.0  185.0  \n",
       "             1            101.0  125.0  "
      ]
     },
     "execution_count": 18,
     "metadata": {},
     "output_type": "execute_result"
    }
   ],
   "source": [
    "hotel[hotel['days_in_waiting_list']>0].groupby(['hotel','is_canceled'])['days_in_waiting_list'].describe()"
   ]
  },
  {
   "cell_type": "code",
   "execution_count": 19,
   "id": "f800970d",
   "metadata": {
    "ExecuteTime": {
     "end_time": "2022-07-28T16:07:15.679130Z",
     "start_time": "2022-07-28T16:07:15.617137Z"
    }
   },
   "outputs": [
    {
     "data": {
      "text/plain": [
       "MannwhitneyuResult(statistic=1603485004.5, pvalue=1.5217545448573493e-252)"
      ]
     },
     "execution_count": 19,
     "metadata": {},
     "output_type": "execute_result"
    }
   ],
   "source": [
    "from scipy.stats import mannwhitneyu\n",
    "mannwhitneyu(hotel[hotel['is_canceled']==0]['days_in_waiting_list'],hotel[hotel['is_canceled']==1]['days_in_waiting_list'])"
   ]
  },
  {
   "cell_type": "markdown",
   "id": "ff3f920b",
   "metadata": {},
   "source": [
    "<div style=\"text-align: justify\">\n",
    "From the table, the subjectively comparable max value between canceled and not canceled booking indicates that the values are valid. The statistically significant result of Mann-Whitney U test indicates that there are difference in days in waiting list between canceled and not canceled booking, where people who check-in (not canceled) usually wait longer than those who cancel. \n",
    "</div>"
   ]
  },
  {
   "cell_type": "markdown",
   "id": "e3f3a2f8",
   "metadata": {},
   "source": [
    "<div style=\"text-align: justify\">\n",
    "This information gives a <strong>precaution</strong> to the hotel management, because if we didn't give the best effort to the arrival of the customers who wait for so long, it can easily lead to customer dissatisfaction and negative reviews.\n",
    "</div>"
   ]
  },
  {
   "cell_type": "markdown",
   "id": "49382bf6",
   "metadata": {},
   "source": [
    "## Treating Missing Values"
   ]
  },
  {
   "cell_type": "markdown",
   "id": "cabd66ae",
   "metadata": {
    "ExecuteTime": {
     "end_time": "2022-07-28T08:39:09.643080Z",
     "start_time": "2022-07-28T08:39:09.627081Z"
    }
   },
   "source": [
    "### Children"
   ]
  },
  {
   "cell_type": "code",
   "execution_count": 20,
   "id": "799a7618",
   "metadata": {
    "ExecuteTime": {
     "end_time": "2022-07-28T16:07:16.614128Z",
     "start_time": "2022-07-28T16:07:16.602128Z"
    }
   },
   "outputs": [
    {
     "data": {
      "text/plain": [
       "4"
      ]
     },
     "execution_count": 20,
     "metadata": {},
     "output_type": "execute_result"
    }
   ],
   "source": [
    "hotel['children'].isna().sum()"
   ]
  },
  {
   "cell_type": "markdown",
   "id": "c14fb500",
   "metadata": {},
   "source": [
    "Let's just assume that there were no children."
   ]
  },
  {
   "cell_type": "code",
   "execution_count": 21,
   "id": "5ce57bc2",
   "metadata": {
    "ExecuteTime": {
     "end_time": "2022-07-28T16:07:17.036346Z",
     "start_time": "2022-07-28T16:07:17.023341Z"
    }
   },
   "outputs": [],
   "source": [
    "hotel['children'].fillna(0,inplace=True)"
   ]
  },
  {
   "cell_type": "markdown",
   "id": "79da92bc",
   "metadata": {},
   "source": [
    "### Country"
   ]
  },
  {
   "cell_type": "code",
   "execution_count": 22,
   "id": "10a877ab",
   "metadata": {
    "ExecuteTime": {
     "end_time": "2022-07-28T16:07:17.362720Z",
     "start_time": "2022-07-28T16:07:17.344781Z"
    }
   },
   "outputs": [
    {
     "data": {
      "text/plain": [
       "488"
      ]
     },
     "execution_count": 22,
     "metadata": {},
     "output_type": "execute_result"
    }
   ],
   "source": [
    "hotel['country'].isna().sum()"
   ]
  },
  {
   "cell_type": "markdown",
   "id": "3f7c87ed",
   "metadata": {},
   "source": [
    "We can't fill this column, thus let's just perform listwise deletion of these data."
   ]
  },
  {
   "cell_type": "code",
   "execution_count": 23,
   "id": "d3f52ae6",
   "metadata": {
    "ExecuteTime": {
     "end_time": "2022-07-28T16:07:17.707208Z",
     "start_time": "2022-07-28T16:07:17.682208Z"
    }
   },
   "outputs": [],
   "source": [
    "index=hotel[hotel['country'].isna()].index\n",
    "hotel.drop(index,inplace=True)"
   ]
  },
  {
   "cell_type": "markdown",
   "id": "b753ac43",
   "metadata": {},
   "source": [
    "## Latest Dataset"
   ]
  },
  {
   "cell_type": "code",
   "execution_count": 24,
   "id": "4c9cc7f2",
   "metadata": {
    "ExecuteTime": {
     "end_time": "2022-07-28T16:07:18.055274Z",
     "start_time": "2022-07-28T16:07:18.012208Z"
    }
   },
   "outputs": [
    {
     "name": "stdout",
     "output_type": "stream",
     "text": [
      "<class 'pandas.core.frame.DataFrame'>\n",
      "Int64Index: 118902 entries, 0 to 119389\n",
      "Data columns (total 19 columns):\n",
      " #   Column                          Non-Null Count   Dtype  \n",
      "---  ------                          --------------   -----  \n",
      " 0   is_canceled                     118902 non-null  int64  \n",
      " 1   hotel                           118902 non-null  object \n",
      " 2   adults                          118902 non-null  int64  \n",
      " 3   babies                          118902 non-null  int64  \n",
      " 4   children                        118902 non-null  float64\n",
      " 5   country                         118902 non-null  object \n",
      " 6   is_repeated_guest               118902 non-null  int64  \n",
      " 7   meal                            118902 non-null  object \n",
      " 8   reserved_room_type              118902 non-null  object \n",
      " 9   deposit_type                    118902 non-null  object \n",
      " 10  required_car_parking_spaces     118902 non-null  int64  \n",
      " 11  total_of_special_requests       118902 non-null  int64  \n",
      " 12  market_segment                  118902 non-null  object \n",
      " 13  distribution_channel            118902 non-null  object \n",
      " 14  customer_type                   118902 non-null  object \n",
      " 15  previous_bookings_not_canceled  118902 non-null  int64  \n",
      " 16  previous_cancellations          118902 non-null  int64  \n",
      " 17  booking_changes                 118902 non-null  int64  \n",
      " 18  days_in_waiting_list            118902 non-null  int64  \n",
      "dtypes: float64(1), int64(10), object(8)\n",
      "memory usage: 18.1+ MB\n"
     ]
    }
   ],
   "source": [
    "hotel.info()"
   ]
  },
  {
   "cell_type": "markdown",
   "id": "233ab3b9",
   "metadata": {},
   "source": [
    "We have 119390 data after deleting rows based on the missing value of country, with 18 features."
   ]
  },
  {
   "cell_type": "markdown",
   "id": "976b12f4",
   "metadata": {},
   "source": [
    "# Exploratory Data Analysis (EDA)"
   ]
  },
  {
   "cell_type": "markdown",
   "id": "6dc16bd4",
   "metadata": {},
   "source": [
    "<div style=\"text-align: justify\">\n",
    "This step will help us to understand the characteristics of label and features, including their distribution, unique values, and their correlation to each other. By understanding our data, we can gain insights that will help the business decision-making or strategies, also how to do feature engineering and data preprocessing.\n",
    "</div>"
   ]
  },
  {
   "cell_type": "code",
   "execution_count": 25,
   "id": "ba19a9cb",
   "metadata": {
    "ExecuteTime": {
     "end_time": "2022-07-28T16:07:18.737038Z",
     "start_time": "2022-07-28T16:07:18.720038Z"
    }
   },
   "outputs": [
    {
     "data": {
      "text/html": [
       "<div>\n",
       "<style scoped>\n",
       "    .dataframe tbody tr th:only-of-type {\n",
       "        vertical-align: middle;\n",
       "    }\n",
       "\n",
       "    .dataframe tbody tr th {\n",
       "        vertical-align: top;\n",
       "    }\n",
       "\n",
       "    .dataframe thead th {\n",
       "        text-align: right;\n",
       "    }\n",
       "</style>\n",
       "<table border=\"1\" class=\"dataframe\">\n",
       "  <thead>\n",
       "    <tr style=\"text-align: right;\">\n",
       "      <th></th>\n",
       "      <th>is_canceled</th>\n",
       "      <th>hotel</th>\n",
       "      <th>adults</th>\n",
       "      <th>babies</th>\n",
       "      <th>children</th>\n",
       "      <th>country</th>\n",
       "      <th>is_repeated_guest</th>\n",
       "      <th>meal</th>\n",
       "      <th>reserved_room_type</th>\n",
       "      <th>deposit_type</th>\n",
       "      <th>required_car_parking_spaces</th>\n",
       "      <th>total_of_special_requests</th>\n",
       "      <th>market_segment</th>\n",
       "      <th>distribution_channel</th>\n",
       "      <th>customer_type</th>\n",
       "      <th>previous_bookings_not_canceled</th>\n",
       "      <th>previous_cancellations</th>\n",
       "      <th>booking_changes</th>\n",
       "      <th>days_in_waiting_list</th>\n",
       "    </tr>\n",
       "  </thead>\n",
       "  <tbody>\n",
       "    <tr>\n",
       "      <th>0</th>\n",
       "      <td>0</td>\n",
       "      <td>Resort Hotel</td>\n",
       "      <td>2</td>\n",
       "      <td>0</td>\n",
       "      <td>0.0</td>\n",
       "      <td>PRT</td>\n",
       "      <td>0</td>\n",
       "      <td>BB</td>\n",
       "      <td>C</td>\n",
       "      <td>No Deposit</td>\n",
       "      <td>0</td>\n",
       "      <td>0</td>\n",
       "      <td>Direct</td>\n",
       "      <td>Direct</td>\n",
       "      <td>Transient</td>\n",
       "      <td>0</td>\n",
       "      <td>0</td>\n",
       "      <td>3</td>\n",
       "      <td>0</td>\n",
       "    </tr>\n",
       "    <tr>\n",
       "      <th>1</th>\n",
       "      <td>0</td>\n",
       "      <td>Resort Hotel</td>\n",
       "      <td>2</td>\n",
       "      <td>0</td>\n",
       "      <td>0.0</td>\n",
       "      <td>PRT</td>\n",
       "      <td>0</td>\n",
       "      <td>BB</td>\n",
       "      <td>C</td>\n",
       "      <td>No Deposit</td>\n",
       "      <td>0</td>\n",
       "      <td>0</td>\n",
       "      <td>Direct</td>\n",
       "      <td>Direct</td>\n",
       "      <td>Transient</td>\n",
       "      <td>0</td>\n",
       "      <td>0</td>\n",
       "      <td>4</td>\n",
       "      <td>0</td>\n",
       "    </tr>\n",
       "    <tr>\n",
       "      <th>2</th>\n",
       "      <td>0</td>\n",
       "      <td>Resort Hotel</td>\n",
       "      <td>1</td>\n",
       "      <td>0</td>\n",
       "      <td>0.0</td>\n",
       "      <td>GBR</td>\n",
       "      <td>0</td>\n",
       "      <td>BB</td>\n",
       "      <td>A</td>\n",
       "      <td>No Deposit</td>\n",
       "      <td>0</td>\n",
       "      <td>0</td>\n",
       "      <td>Direct</td>\n",
       "      <td>Direct</td>\n",
       "      <td>Transient</td>\n",
       "      <td>0</td>\n",
       "      <td>0</td>\n",
       "      <td>0</td>\n",
       "      <td>0</td>\n",
       "    </tr>\n",
       "    <tr>\n",
       "      <th>3</th>\n",
       "      <td>0</td>\n",
       "      <td>Resort Hotel</td>\n",
       "      <td>1</td>\n",
       "      <td>0</td>\n",
       "      <td>0.0</td>\n",
       "      <td>GBR</td>\n",
       "      <td>0</td>\n",
       "      <td>BB</td>\n",
       "      <td>A</td>\n",
       "      <td>No Deposit</td>\n",
       "      <td>0</td>\n",
       "      <td>0</td>\n",
       "      <td>Corporate</td>\n",
       "      <td>Corporate</td>\n",
       "      <td>Transient</td>\n",
       "      <td>0</td>\n",
       "      <td>0</td>\n",
       "      <td>0</td>\n",
       "      <td>0</td>\n",
       "    </tr>\n",
       "    <tr>\n",
       "      <th>4</th>\n",
       "      <td>0</td>\n",
       "      <td>Resort Hotel</td>\n",
       "      <td>2</td>\n",
       "      <td>0</td>\n",
       "      <td>0.0</td>\n",
       "      <td>GBR</td>\n",
       "      <td>0</td>\n",
       "      <td>BB</td>\n",
       "      <td>A</td>\n",
       "      <td>No Deposit</td>\n",
       "      <td>0</td>\n",
       "      <td>1</td>\n",
       "      <td>Online TA</td>\n",
       "      <td>TA/TO</td>\n",
       "      <td>Transient</td>\n",
       "      <td>0</td>\n",
       "      <td>0</td>\n",
       "      <td>0</td>\n",
       "      <td>0</td>\n",
       "    </tr>\n",
       "  </tbody>\n",
       "</table>\n",
       "</div>"
      ],
      "text/plain": [
       "   is_canceled         hotel  adults  babies  children country  \\\n",
       "0            0  Resort Hotel       2       0       0.0     PRT   \n",
       "1            0  Resort Hotel       2       0       0.0     PRT   \n",
       "2            0  Resort Hotel       1       0       0.0     GBR   \n",
       "3            0  Resort Hotel       1       0       0.0     GBR   \n",
       "4            0  Resort Hotel       2       0       0.0     GBR   \n",
       "\n",
       "   is_repeated_guest meal reserved_room_type deposit_type  \\\n",
       "0                  0   BB                  C   No Deposit   \n",
       "1                  0   BB                  C   No Deposit   \n",
       "2                  0   BB                  A   No Deposit   \n",
       "3                  0   BB                  A   No Deposit   \n",
       "4                  0   BB                  A   No Deposit   \n",
       "\n",
       "   required_car_parking_spaces  total_of_special_requests market_segment  \\\n",
       "0                            0                          0         Direct   \n",
       "1                            0                          0         Direct   \n",
       "2                            0                          0         Direct   \n",
       "3                            0                          0      Corporate   \n",
       "4                            0                          1      Online TA   \n",
       "\n",
       "  distribution_channel customer_type  previous_bookings_not_canceled  \\\n",
       "0               Direct     Transient                               0   \n",
       "1               Direct     Transient                               0   \n",
       "2               Direct     Transient                               0   \n",
       "3            Corporate     Transient                               0   \n",
       "4                TA/TO     Transient                               0   \n",
       "\n",
       "   previous_cancellations  booking_changes  days_in_waiting_list  \n",
       "0                       0                3                     0  \n",
       "1                       0                4                     0  \n",
       "2                       0                0                     0  \n",
       "3                       0                0                     0  \n",
       "4                       0                0                     0  "
      ]
     },
     "execution_count": 25,
     "metadata": {},
     "output_type": "execute_result"
    }
   ],
   "source": [
    "df = hotel.copy()\n",
    "df.head()"
   ]
  },
  {
   "cell_type": "markdown",
   "id": "c476cef5",
   "metadata": {},
   "source": [
    "## How many orders were canceled?"
   ]
  },
  {
   "cell_type": "code",
   "execution_count": 26,
   "id": "40bd3388",
   "metadata": {
    "ExecuteTime": {
     "end_time": "2022-07-28T16:07:19.370870Z",
     "start_time": "2022-07-28T16:07:19.175190Z"
    }
   },
   "outputs": [
    {
     "data": {
      "text/plain": [
       "<AxesSubplot:xlabel='is_canceled', ylabel='count'>"
      ]
     },
     "execution_count": 26,
     "metadata": {},
     "output_type": "execute_result"
    },
    {
     "data": {
      "image/png": "[encoded data removed]",
      "text/plain": [
       "<Figure size 432x288 with 1 Axes>"
      ]
     },
     "metadata": {
      "needs_background": "light"
     },
     "output_type": "display_data"
    }
   ],
   "source": [
    "sns.countplot(data=df,x='is_canceled')"
   ]
  },
  {
   "cell_type": "code",
   "execution_count": 27,
   "id": "3eb859ea",
   "metadata": {
    "ExecuteTime": {
     "end_time": "2022-07-28T16:07:19.449869Z",
     "start_time": "2022-07-28T16:07:19.438874Z"
    }
   },
   "outputs": [
    {
     "name": "stdout",
     "output_type": "stream",
     "text": [
      "Total of canceled booking: 44157\n",
      "Percentage of canceled booking: 37.137 %\n"
     ]
    }
   ],
   "source": [
    "print('Total of canceled booking:',(df['is_canceled'].value_counts()[1]))\n",
    "print('Percentage of canceled booking:',round(df['is_canceled'].value_counts()[1]/df['is_canceled'].value_counts().sum(),5)*100,'%')"
   ]
  },
  {
   "cell_type": "markdown",
   "id": "a45925e3",
   "metadata": {},
   "source": [
    "Based on the graph above, it seems that the dataset is **imbalanced**. Because of the amount of canceled order is lower than the check-in order, my initial guess to handle this problem is using **undersampling** method, such as Near-Miss or Random Undersampling."
   ]
  },
  {
   "cell_type": "code",
   "execution_count": 28,
   "id": "7e4ad968",
   "metadata": {
    "ExecuteTime": {
     "end_time": "2022-07-28T16:07:20.066844Z",
     "start_time": "2022-07-28T16:07:20.042900Z"
    }
   },
   "outputs": [
    {
     "data": {
      "text/plain": [
       "hotel         is_canceled\n",
       "City Hotel    0              46226\n",
       "              1              33080\n",
       "Resort Hotel  0              28519\n",
       "              1              11077\n",
       "Name: is_canceled, dtype: int64"
      ]
     },
     "execution_count": 28,
     "metadata": {},
     "output_type": "execute_result"
    }
   ],
   "source": [
    "df.groupby('hotel')['is_canceled'].value_counts()"
   ]
  },
  {
   "cell_type": "code",
   "execution_count": 29,
   "id": "cacfe369",
   "metadata": {
    "ExecuteTime": {
     "end_time": "2022-07-28T16:07:20.441412Z",
     "start_time": "2022-07-28T16:07:20.406408Z"
    }
   },
   "outputs": [
    {
     "data": {
      "text/html": [
       "<div>\n",
       "<style scoped>\n",
       "    .dataframe tbody tr th:only-of-type {\n",
       "        vertical-align: middle;\n",
       "    }\n",
       "\n",
       "    .dataframe tbody tr th {\n",
       "        vertical-align: top;\n",
       "    }\n",
       "\n",
       "    .dataframe thead th {\n",
       "        text-align: right;\n",
       "    }\n",
       "</style>\n",
       "<table border=\"1\" class=\"dataframe\">\n",
       "  <thead>\n",
       "    <tr style=\"text-align: right;\">\n",
       "      <th>hotel</th>\n",
       "      <th>City Hotel</th>\n",
       "      <th>Resort Hotel</th>\n",
       "    </tr>\n",
       "    <tr>\n",
       "      <th>is_canceled</th>\n",
       "      <th></th>\n",
       "      <th></th>\n",
       "    </tr>\n",
       "  </thead>\n",
       "  <tbody>\n",
       "    <tr>\n",
       "      <th>0</th>\n",
       "      <td>0.582881</td>\n",
       "      <td>0.72025</td>\n",
       "    </tr>\n",
       "    <tr>\n",
       "      <th>1</th>\n",
       "      <td>0.417119</td>\n",
       "      <td>0.27975</td>\n",
       "    </tr>\n",
       "  </tbody>\n",
       "</table>\n",
       "</div>"
      ],
      "text/plain": [
       "hotel        City Hotel  Resort Hotel\n",
       "is_canceled                          \n",
       "0              0.582881       0.72025\n",
       "1              0.417119       0.27975"
      ]
     },
     "execution_count": 29,
     "metadata": {},
     "output_type": "execute_result"
    }
   ],
   "source": [
    "pd.crosstab(df['is_canceled'],df['hotel'],normalize='columns')"
   ]
  },
  {
   "cell_type": "code",
   "execution_count": 30,
   "id": "f3b3ff5c",
   "metadata": {
    "ExecuteTime": {
     "end_time": "2022-07-28T16:07:20.755406Z",
     "start_time": "2022-07-28T16:07:20.649401Z"
    }
   },
   "outputs": [
    {
     "data": {
      "text/plain": [
       "<AxesSubplot:xlabel='is_canceled', ylabel='count'>"
      ]
     },
     "execution_count": 30,
     "metadata": {},
     "output_type": "execute_result"
    },
    {
     "data": {
      "image/png": "[encoded data removed]",
      "text/plain": [
       "<Figure size 432x288 with 1 Axes>"
      ]
     },
     "metadata": {
      "needs_background": "light"
     },
     "output_type": "display_data"
    }
   ],
   "source": [
    "sns.countplot(data=df,x='is_canceled',hue='hotel')"
   ]
  },
  {
   "cell_type": "markdown",
   "id": "e7b43506",
   "metadata": {},
   "source": [
    "The amount of canceled booking at city hotel is higher compared to resort hotel."
   ]
  },
  {
   "cell_type": "markdown",
   "id": "69e170bb",
   "metadata": {},
   "source": [
    "## Which countries were planning to visit the hotels?"
   ]
  },
  {
   "cell_type": "code",
   "execution_count": 31,
   "id": "01283897",
   "metadata": {
    "ExecuteTime": {
     "end_time": "2022-07-28T16:07:44.094468Z",
     "start_time": "2022-07-28T16:07:44.076511Z"
    }
   },
   "outputs": [
    {
     "data": {
      "text/plain": [
       "177"
      ]
     },
     "execution_count": 31,
     "metadata": {},
     "output_type": "execute_result"
    }
   ],
   "source": [
    "df['country'].nunique()"
   ]
  },
  {
   "cell_type": "markdown",
   "id": "9b008bfe",
   "metadata": {},
   "source": [
    "Since the dataset consists of a lot of countries. I will present top 15 countries that were planning to visit the hotels."
   ]
  },
  {
   "cell_type": "code",
   "execution_count": 32,
   "id": "c1e72fdd",
   "metadata": {
    "ExecuteTime": {
     "end_time": "2022-07-28T16:07:44.573653Z",
     "start_time": "2022-07-28T16:07:44.565654Z"
    }
   },
   "outputs": [
    {
     "data": {
      "text/plain": [
       "PRT    48590\n",
       "GBR    12129\n",
       "FRA    10415\n",
       "ESP     8568\n",
       "DEU     7287\n",
       "ITA     3766\n",
       "IRL     3375\n",
       "BEL     2342\n",
       "BRA     2224\n",
       "NLD     2104\n",
       "USA     2097\n",
       "CHE     1730\n",
       "CN      1279\n",
       "AUT     1263\n",
       "SWE     1024\n",
       "CHN      999\n",
       "POL      919\n",
       "ISR      669\n",
       "RUS      632\n",
       "NOR      607\n",
       "Name: country, dtype: int64"
      ]
     },
     "execution_count": 32,
     "metadata": {},
     "output_type": "execute_result"
    }
   ],
   "source": [
    "df['country'].value_counts()[:20]"
   ]
  },
  {
   "cell_type": "code",
   "execution_count": 33,
   "id": "1ef8dde4",
   "metadata": {
    "ExecuteTime": {
     "end_time": "2022-07-28T16:07:44.838220Z",
     "start_time": "2022-07-28T16:07:44.697062Z"
    }
   },
   "outputs": [
    {
     "data": {
      "text/plain": [
       "<AxesSubplot:xlabel='country', ylabel='count'>"
      ]
     },
     "execution_count": 33,
     "metadata": {},
     "output_type": "execute_result"
    },
    {
     "data": {
      "image/png": "[encoded data removed]",
      "text/plain": [
       "<Figure size 720x720 with 1 Axes>"
      ]
     },
     "metadata": {
      "needs_background": "light"
     },
     "output_type": "display_data"
    }
   ],
   "source": [
    "plt.figure(figsize=(10,10))\n",
    "sns.countplot(x=\"country\", data=df,\n",
    "              order=df.country.value_counts().iloc[:15].index)"
   ]
  },
  {
   "cell_type": "markdown",
   "id": "78370f96",
   "metadata": {},
   "source": [
    "## Which countries have the most canceled booking?"
   ]
  },
  {
   "cell_type": "code",
   "execution_count": 34,
   "id": "98c8f7b8",
   "metadata": {
    "ExecuteTime": {
     "end_time": "2022-07-28T16:07:45.310990Z",
     "start_time": "2022-07-28T16:07:45.045698Z"
    }
   },
   "outputs": [
    {
     "data": {
      "text/plain": [
       "<AxesSubplot:xlabel='country', ylabel='is_canceled'>"
      ]
     },
     "execution_count": 34,
     "metadata": {},
     "output_type": "execute_result"
    },
    {
     "data": {
      "image/png": "[encoded data removed]",
      "text/plain": [
       "<Figure size 1440x720 with 2 Axes>"
      ]
     },
     "metadata": {
      "needs_background": "light"
     },
     "output_type": "display_data"
    }
   ],
   "source": [
    "plt.figure(figsize=(20,10))\n",
    "sns.heatmap(pd.crosstab(df['is_canceled'],df[df['country'].isin(list(df.country.value_counts().iloc[:20].index))]['country'],normalize='columns'), annot=True)"
   ]
  },
  {
   "cell_type": "markdown",
   "id": "e686c59c",
   "metadata": {},
   "source": [
    "Portugal has the most canceled booking, followed by China, Russia, Brazil, and Italy."
   ]
  },
  {
   "cell_type": "markdown",
   "id": "1b3a10e8",
   "metadata": {},
   "source": [
    "## Is deposit type affecting the canceled booking?"
   ]
  },
  {
   "cell_type": "code",
   "execution_count": 35,
   "id": "5633d0d3",
   "metadata": {
    "ExecuteTime": {
     "end_time": "2022-07-28T16:07:45.701460Z",
     "start_time": "2022-07-28T16:07:45.594234Z"
    }
   },
   "outputs": [
    {
     "data": {
      "text/plain": [
       "<AxesSubplot:xlabel='deposit_type', ylabel='count'>"
      ]
     },
     "execution_count": 35,
     "metadata": {},
     "output_type": "execute_result"
    },
    {
     "data": {
      "image/png": "[encoded data removed]",
      "text/plain": [
       "<Figure size 432x288 with 1 Axes>"
      ]
     },
     "metadata": {
      "needs_background": "light"
     },
     "output_type": "display_data"
    }
   ],
   "source": [
    "sns.countplot(data=df,x='deposit_type')"
   ]
  },
  {
   "cell_type": "code",
   "execution_count": 36,
   "id": "abdc4ec9",
   "metadata": {
    "ExecuteTime": {
     "end_time": "2022-07-28T16:07:45.780271Z",
     "start_time": "2022-07-28T16:07:45.771344Z"
    }
   },
   "outputs": [
    {
     "data": {
      "text/plain": [
       "No Deposit    104167\n",
       "Non Refund     14573\n",
       "Refundable       162\n",
       "Name: deposit_type, dtype: int64"
      ]
     },
     "execution_count": 36,
     "metadata": {},
     "output_type": "execute_result"
    }
   ],
   "source": [
    "df['deposit_type'].value_counts()"
   ]
  },
  {
   "cell_type": "code",
   "execution_count": 37,
   "id": "be8f0667",
   "metadata": {
    "ExecuteTime": {
     "end_time": "2022-07-28T16:07:46.062706Z",
     "start_time": "2022-07-28T16:07:45.949717Z"
    }
   },
   "outputs": [
    {
     "data": {
      "text/plain": [
       "<AxesSubplot:xlabel='deposit_type', ylabel='is_canceled'>"
      ]
     },
     "execution_count": 37,
     "metadata": {},
     "output_type": "execute_result"
    },
    {
     "data": {
      "image/png": "[encoded data removed]",
      "text/plain": [
       "<Figure size 720x360 with 2 Axes>"
      ]
     },
     "metadata": {
      "needs_background": "light"
     },
     "output_type": "display_data"
    }
   ],
   "source": [
    "plt.figure(figsize=(10,5))\n",
    "sns.heatmap(pd.crosstab(df['is_canceled'],df['deposit_type'],normalize='columns'), annot=True)"
   ]
  },
  {
   "cell_type": "markdown",
   "id": "e5ea5c0a",
   "metadata": {},
   "source": [
    "Based on its proportion, there were no difference between no deposit and refundable in booking status, while it is really weird that most of the non refund type were resulting in canceled booking."
   ]
  },
  {
   "cell_type": "code",
   "execution_count": 38,
   "id": "05628d51",
   "metadata": {
    "ExecuteTime": {
     "end_time": "2022-07-28T16:07:46.312128Z",
     "start_time": "2022-07-28T16:07:46.297129Z"
    }
   },
   "outputs": [
    {
     "data": {
      "text/plain": [
       "hotel         is_canceled\n",
       "City Hotel    1              12830\n",
       "              0                 24\n",
       "Resort Hotel  1               1650\n",
       "              0                 69\n",
       "Name: is_canceled, dtype: int64"
      ]
     },
     "execution_count": 38,
     "metadata": {},
     "output_type": "execute_result"
    }
   ],
   "source": [
    "df[df['deposit_type']=='Non Refund'].groupby('hotel')['is_canceled'].value_counts()"
   ]
  },
  {
   "cell_type": "markdown",
   "id": "18e0c8be",
   "metadata": {},
   "source": [
    "<div style=\"text-align: justify\">\n",
    "My best guess is that since this kind of deposit includes a full value of the total cost of stay and it is also labeled as non-refund, it is the most risky of all deposit types. Thus, not surprisingly that most of the customers canceled their booking, before submitting the deposit.\n",
    "</div>"
   ]
  },
  {
   "cell_type": "markdown",
   "id": "a8a10eb6",
   "metadata": {
    "ExecuteTime": {
     "end_time": "2022-07-28T10:03:49.920945Z",
     "start_time": "2022-07-28T10:03:49.879941Z"
    }
   },
   "source": [
    "## Which room type is the most popular?"
   ]
  },
  {
   "cell_type": "code",
   "execution_count": 39,
   "id": "db1ddc77",
   "metadata": {
    "ExecuteTime": {
     "end_time": "2022-07-28T16:07:46.765684Z",
     "start_time": "2022-07-28T16:07:46.743680Z"
    }
   },
   "outputs": [
    {
     "data": {
      "text/plain": [
       "A    85601\n",
       "D    19173\n",
       "E     6497\n",
       "F     2890\n",
       "G     2083\n",
       "B     1118\n",
       "C      931\n",
       "H      601\n",
       "L        6\n",
       "P        2\n",
       "Name: reserved_room_type, dtype: int64"
      ]
     },
     "execution_count": 39,
     "metadata": {},
     "output_type": "execute_result"
    }
   ],
   "source": [
    "df['reserved_room_type'].value_counts()"
   ]
  },
  {
   "cell_type": "code",
   "execution_count": 40,
   "id": "7e4a722a",
   "metadata": {
    "ExecuteTime": {
     "end_time": "2022-07-28T16:07:47.032222Z",
     "start_time": "2022-07-28T16:07:46.903788Z"
    }
   },
   "outputs": [
    {
     "data": {
      "text/plain": [
       "<AxesSubplot:xlabel='reserved_room_type', ylabel='count'>"
      ]
     },
     "execution_count": 40,
     "metadata": {},
     "output_type": "execute_result"
    },
    {
     "data": {
      "image/png": "[encoded data removed]",
      "text/plain": [
       "<Figure size 432x288 with 1 Axes>"
      ]
     },
     "metadata": {
      "needs_background": "light"
     },
     "output_type": "display_data"
    }
   ],
   "source": [
    "sns.countplot(data=df,x='reserved_room_type',order=df.reserved_room_type.value_counts().index)"
   ]
  },
  {
   "cell_type": "markdown",
   "id": "12390333",
   "metadata": {},
   "source": [
    "## Which room type booking are resulting in cancel?"
   ]
  },
  {
   "cell_type": "code",
   "execution_count": 41,
   "id": "0c57cd48",
   "metadata": {
    "ExecuteTime": {
     "end_time": "2022-07-28T16:07:47.327251Z",
     "start_time": "2022-07-28T16:07:47.178956Z"
    }
   },
   "outputs": [
    {
     "data": {
      "text/plain": [
       "<AxesSubplot:xlabel='reserved_room_type', ylabel='is_canceled'>"
      ]
     },
     "execution_count": 41,
     "metadata": {},
     "output_type": "execute_result"
    },
    {
     "data": {
      "image/png": "[encoded data removed]",
      "text/plain": [
       "<Figure size 720x360 with 2 Axes>"
      ]
     },
     "metadata": {
      "needs_background": "light"
     },
     "output_type": "display_data"
    }
   ],
   "source": [
    "plt.figure(figsize=(10,5))\n",
    "sns.heatmap(pd.crosstab(df['is_canceled'],df['reserved_room_type'],normalize='columns'), annot=True)"
   ]
  },
  {
   "cell_type": "markdown",
   "id": "f09b27c1",
   "metadata": {},
   "source": [
    "My best guess here is that P is the most expensive one because of low booking count and that all of the booking were canceled. Based on its cancel, not cancel proportions, room H has the most count, followed by A and G."
   ]
  },
  {
   "cell_type": "markdown",
   "id": "41de34d9",
   "metadata": {},
   "source": [
    "## Others"
   ]
  },
  {
   "cell_type": "markdown",
   "id": "e422190e",
   "metadata": {},
   "source": [
    "### Meal"
   ]
  },
  {
   "cell_type": "code",
   "execution_count": 42,
   "id": "79df90bb",
   "metadata": {
    "ExecuteTime": {
     "end_time": "2022-07-28T16:07:47.859185Z",
     "start_time": "2022-07-28T16:07:47.763700Z"
    }
   },
   "outputs": [
    {
     "data": {
      "text/plain": [
       "<AxesSubplot:xlabel='meal', ylabel='count'>"
      ]
     },
     "execution_count": 42,
     "metadata": {},
     "output_type": "execute_result"
    },
    {
     "data": {
      "image/png": "[encoded data removed]",
      "text/plain": [
       "<Figure size 432x288 with 1 Axes>"
      ]
     },
     "metadata": {
      "needs_background": "light"
     },
     "output_type": "display_data"
    }
   ],
   "source": [
    "sns.countplot(data=df,x='meal')"
   ]
  },
  {
   "cell_type": "markdown",
   "id": "449bf8a5",
   "metadata": {},
   "source": [
    "Based on column description, I think it's best to combine SC and undefined groups into one."
   ]
  },
  {
   "cell_type": "markdown",
   "id": "380c3444",
   "metadata": {},
   "source": [
    "### Market Segment"
   ]
  },
  {
   "cell_type": "code",
   "execution_count": 43,
   "id": "927682b5",
   "metadata": {
    "ExecuteTime": {
     "end_time": "2022-07-28T16:07:48.327999Z",
     "start_time": "2022-07-28T16:07:48.205699Z"
    }
   },
   "outputs": [
    {
     "data": {
      "image/png": "[encoded data removed]",
      "text/plain": [
       "<Figure size 432x288 with 1 Axes>"
      ]
     },
     "metadata": {
      "needs_background": "light"
     },
     "output_type": "display_data"
    }
   ],
   "source": [
    "sns.countplot(data=df,x='market_segment')\n",
    "plt.xticks(rotation=45)\n",
    "plt.show()"
   ]
  },
  {
   "cell_type": "code",
   "execution_count": 44,
   "id": "40db9aa4",
   "metadata": {
    "ExecuteTime": {
     "end_time": "2022-07-28T16:07:48.375768Z",
     "start_time": "2022-07-28T16:07:48.362768Z"
    }
   },
   "outputs": [
    {
     "data": {
      "text/html": [
       "<div>\n",
       "<style scoped>\n",
       "    .dataframe tbody tr th:only-of-type {\n",
       "        vertical-align: middle;\n",
       "    }\n",
       "\n",
       "    .dataframe tbody tr th {\n",
       "        vertical-align: top;\n",
       "    }\n",
       "\n",
       "    .dataframe thead th {\n",
       "        text-align: right;\n",
       "    }\n",
       "</style>\n",
       "<table border=\"1\" class=\"dataframe\">\n",
       "  <thead>\n",
       "    <tr style=\"text-align: right;\">\n",
       "      <th></th>\n",
       "      <th>distribution_channel</th>\n",
       "      <th>market_segment</th>\n",
       "    </tr>\n",
       "  </thead>\n",
       "  <tbody>\n",
       "    <tr>\n",
       "      <th>40600</th>\n",
       "      <td>Undefined</td>\n",
       "      <td>Undefined</td>\n",
       "    </tr>\n",
       "    <tr>\n",
       "      <th>40679</th>\n",
       "      <td>Undefined</td>\n",
       "      <td>Undefined</td>\n",
       "    </tr>\n",
       "  </tbody>\n",
       "</table>\n",
       "</div>"
      ],
      "text/plain": [
       "      distribution_channel market_segment\n",
       "40600            Undefined      Undefined\n",
       "40679            Undefined      Undefined"
      ]
     },
     "execution_count": 44,
     "metadata": {},
     "output_type": "execute_result"
    }
   ],
   "source": [
    "df[df['market_segment']=='Undefined'][['distribution_channel','market_segment']]"
   ]
  },
  {
   "cell_type": "markdown",
   "id": "0beeb3d2",
   "metadata": {},
   "source": [
    "I think we can put aviation into corporate, also deleting the undefined data of market segment."
   ]
  },
  {
   "cell_type": "markdown",
   "id": "4d79891b",
   "metadata": {},
   "source": [
    "### Distribution Channel"
   ]
  },
  {
   "cell_type": "code",
   "execution_count": 45,
   "id": "efe93b81",
   "metadata": {
    "ExecuteTime": {
     "end_time": "2022-07-28T16:07:48.982070Z",
     "start_time": "2022-07-28T16:07:48.836675Z"
    }
   },
   "outputs": [
    {
     "data": {
      "text/plain": [
       "<AxesSubplot:xlabel='distribution_channel', ylabel='count'>"
      ]
     },
     "execution_count": 45,
     "metadata": {},
     "output_type": "execute_result"
    },
    {
     "data": {
      "image/png": "[encoded data removed]",
      "text/plain": [
       "<Figure size 432x288 with 1 Axes>"
      ]
     },
     "metadata": {
      "needs_background": "light"
     },
     "output_type": "display_data"
    }
   ],
   "source": [
    "sns.countplot(data=df,x='distribution_channel')"
   ]
  },
  {
   "cell_type": "code",
   "execution_count": 46,
   "id": "dd4728bd",
   "metadata": {
    "ExecuteTime": {
     "end_time": "2022-07-28T16:07:49.014066Z",
     "start_time": "2022-07-28T16:07:48.999065Z"
    }
   },
   "outputs": [
    {
     "data": {
      "text/html": [
       "<div>\n",
       "<style scoped>\n",
       "    .dataframe tbody tr th:only-of-type {\n",
       "        vertical-align: middle;\n",
       "    }\n",
       "\n",
       "    .dataframe tbody tr th {\n",
       "        vertical-align: top;\n",
       "    }\n",
       "\n",
       "    .dataframe thead th {\n",
       "        text-align: right;\n",
       "    }\n",
       "</style>\n",
       "<table border=\"1\" class=\"dataframe\">\n",
       "  <thead>\n",
       "    <tr style=\"text-align: right;\">\n",
       "      <th></th>\n",
       "      <th>distribution_channel</th>\n",
       "      <th>market_segment</th>\n",
       "    </tr>\n",
       "  </thead>\n",
       "  <tbody>\n",
       "    <tr>\n",
       "      <th>14594</th>\n",
       "      <td>Undefined</td>\n",
       "      <td>Direct</td>\n",
       "    </tr>\n",
       "    <tr>\n",
       "      <th>40600</th>\n",
       "      <td>Undefined</td>\n",
       "      <td>Undefined</td>\n",
       "    </tr>\n",
       "    <tr>\n",
       "      <th>40667</th>\n",
       "      <td>Undefined</td>\n",
       "      <td>Direct</td>\n",
       "    </tr>\n",
       "    <tr>\n",
       "      <th>40679</th>\n",
       "      <td>Undefined</td>\n",
       "      <td>Undefined</td>\n",
       "    </tr>\n",
       "    <tr>\n",
       "      <th>41160</th>\n",
       "      <td>Undefined</td>\n",
       "      <td>Online TA</td>\n",
       "    </tr>\n",
       "  </tbody>\n",
       "</table>\n",
       "</div>"
      ],
      "text/plain": [
       "      distribution_channel market_segment\n",
       "14594            Undefined         Direct\n",
       "40600            Undefined      Undefined\n",
       "40667            Undefined         Direct\n",
       "40679            Undefined      Undefined\n",
       "41160            Undefined      Online TA"
      ]
     },
     "execution_count": 46,
     "metadata": {},
     "output_type": "execute_result"
    }
   ],
   "source": [
    "df[df['distribution_channel']=='Undefined'][['distribution_channel','market_segment']]"
   ]
  },
  {
   "cell_type": "markdown",
   "id": "b9100dbb",
   "metadata": {},
   "source": [
    "GDS should be inputted into TA/TO. We can match the distribution channel with its market segment."
   ]
  },
  {
   "cell_type": "markdown",
   "id": "3bb2d2b6",
   "metadata": {},
   "source": [
    "### Customer Type"
   ]
  },
  {
   "cell_type": "code",
   "execution_count": 47,
   "id": "836c0e32",
   "metadata": {
    "ExecuteTime": {
     "end_time": "2022-07-28T16:07:49.533312Z",
     "start_time": "2022-07-28T16:07:49.396410Z"
    }
   },
   "outputs": [
    {
     "data": {
      "text/plain": [
       "<AxesSubplot:xlabel='customer_type', ylabel='count'>"
      ]
     },
     "execution_count": 47,
     "metadata": {},
     "output_type": "execute_result"
    },
    {
     "data": {
      "image/png": "[encoded data removed]",
      "text/plain": [
       "<Figure size 432x288 with 1 Axes>"
      ]
     },
     "metadata": {
      "needs_background": "light"
     },
     "output_type": "display_data"
    }
   ],
   "source": [
    "sns.countplot(data=df,x='customer_type',hue='is_canceled')"
   ]
  },
  {
   "cell_type": "code",
   "execution_count": 48,
   "id": "55527891",
   "metadata": {
    "ExecuteTime": {
     "end_time": "2022-07-28T16:07:49.676308Z",
     "start_time": "2022-07-28T16:07:49.552313Z"
    }
   },
   "outputs": [
    {
     "data": {
      "text/plain": [
       "<AxesSubplot:xlabel='customer_type', ylabel='is_canceled'>"
      ]
     },
     "execution_count": 48,
     "metadata": {},
     "output_type": "execute_result"
    },
    {
     "data": {
      "image/png": "[encoded data removed]",
      "text/plain": [
       "<Figure size 720x360 with 2 Axes>"
      ]
     },
     "metadata": {
      "needs_background": "light"
     },
     "output_type": "display_data"
    }
   ],
   "source": [
    "plt.figure(figsize=(10,5))\n",
    "sns.heatmap(pd.crosstab(df['is_canceled'],df['customer_type'],normalize='columns'), annot=True)"
   ]
  },
  {
   "cell_type": "markdown",
   "id": "d30e8f86",
   "metadata": {},
   "source": [
    "Most of the group customer type were resulting in check-in. While transient class has the most canceled booking."
   ]
  },
  {
   "cell_type": "markdown",
   "id": "031a8767",
   "metadata": {},
   "source": [
    "### Repeated Guest and Number of Previous Cancel/Not Cancel"
   ]
  },
  {
   "cell_type": "code",
   "execution_count": 49,
   "id": "f0cec0bf",
   "metadata": {
    "ExecuteTime": {
     "end_time": "2022-07-28T16:07:50.004293Z",
     "start_time": "2022-07-28T16:07:49.992304Z"
    }
   },
   "outputs": [
    {
     "data": {
      "text/plain": [
       "0    115096\n",
       "1      3806\n",
       "Name: is_repeated_guest, dtype: int64"
      ]
     },
     "execution_count": 49,
     "metadata": {},
     "output_type": "execute_result"
    }
   ],
   "source": [
    "df['is_repeated_guest'].value_counts()"
   ]
  },
  {
   "cell_type": "code",
   "execution_count": 50,
   "id": "fb649e9e",
   "metadata": {
    "ExecuteTime": {
     "end_time": "2022-07-28T16:07:50.145516Z",
     "start_time": "2022-07-28T16:07:50.131517Z"
    }
   },
   "outputs": [
    {
     "data": {
      "text/html": [
       "<div>\n",
       "<style scoped>\n",
       "    .dataframe tbody tr th:only-of-type {\n",
       "        vertical-align: middle;\n",
       "    }\n",
       "\n",
       "    .dataframe tbody tr th {\n",
       "        vertical-align: top;\n",
       "    }\n",
       "\n",
       "    .dataframe thead th {\n",
       "        text-align: right;\n",
       "    }\n",
       "</style>\n",
       "<table border=\"1\" class=\"dataframe\">\n",
       "  <thead>\n",
       "    <tr style=\"text-align: right;\">\n",
       "      <th></th>\n",
       "      <th>is_canceled</th>\n",
       "      <th>previous_cancellations</th>\n",
       "      <th>previous_bookings_not_canceled</th>\n",
       "    </tr>\n",
       "  </thead>\n",
       "  <tbody>\n",
       "    <tr>\n",
       "      <th>80059</th>\n",
       "      <td>1</td>\n",
       "      <td>11</td>\n",
       "      <td>25</td>\n",
       "    </tr>\n",
       "    <tr>\n",
       "      <th>80060</th>\n",
       "      <td>1</td>\n",
       "      <td>11</td>\n",
       "      <td>25</td>\n",
       "    </tr>\n",
       "    <tr>\n",
       "      <th>80061</th>\n",
       "      <td>1</td>\n",
       "      <td>11</td>\n",
       "      <td>25</td>\n",
       "    </tr>\n",
       "    <tr>\n",
       "      <th>80062</th>\n",
       "      <td>1</td>\n",
       "      <td>11</td>\n",
       "      <td>25</td>\n",
       "    </tr>\n",
       "    <tr>\n",
       "      <th>80058</th>\n",
       "      <td>1</td>\n",
       "      <td>11</td>\n",
       "      <td>25</td>\n",
       "    </tr>\n",
       "    <tr>\n",
       "      <th>...</th>\n",
       "      <td>...</td>\n",
       "      <td>...</td>\n",
       "      <td>...</td>\n",
       "    </tr>\n",
       "    <tr>\n",
       "      <th>14280</th>\n",
       "      <td>0</td>\n",
       "      <td>0</td>\n",
       "      <td>4</td>\n",
       "    </tr>\n",
       "    <tr>\n",
       "      <th>14279</th>\n",
       "      <td>0</td>\n",
       "      <td>0</td>\n",
       "      <td>3</td>\n",
       "    </tr>\n",
       "    <tr>\n",
       "      <th>14278</th>\n",
       "      <td>0</td>\n",
       "      <td>0</td>\n",
       "      <td>2</td>\n",
       "    </tr>\n",
       "    <tr>\n",
       "      <th>14277</th>\n",
       "      <td>0</td>\n",
       "      <td>0</td>\n",
       "      <td>1</td>\n",
       "    </tr>\n",
       "    <tr>\n",
       "      <th>118654</th>\n",
       "      <td>0</td>\n",
       "      <td>0</td>\n",
       "      <td>1</td>\n",
       "    </tr>\n",
       "  </tbody>\n",
       "</table>\n",
       "<p>562 rows × 3 columns</p>\n",
       "</div>"
      ],
      "text/plain": [
       "        is_canceled  previous_cancellations  previous_bookings_not_canceled\n",
       "80059             1                      11                              25\n",
       "80060             1                      11                              25\n",
       "80061             1                      11                              25\n",
       "80062             1                      11                              25\n",
       "80058             1                      11                              25\n",
       "...             ...                     ...                             ...\n",
       "14280             0                       0                               4\n",
       "14279             0                       0                               3\n",
       "14278             0                       0                               2\n",
       "14277             0                       0                               1\n",
       "118654            0                       0                               1\n",
       "\n",
       "[562 rows x 3 columns]"
      ]
     },
     "execution_count": 50,
     "metadata": {},
     "output_type": "execute_result"
    }
   ],
   "source": [
    "df[(df['is_repeated_guest']==0)&(df['previous_bookings_not_canceled']!=0)][['is_canceled','previous_cancellations','previous_bookings_not_canceled']].sort_values('previous_cancellations',ascending=False)"
   ]
  },
  {
   "cell_type": "markdown",
   "id": "a042f457",
   "metadata": {},
   "source": [
    "These data should be repeated guest (1)."
   ]
  },
  {
   "cell_type": "code",
   "execution_count": 51,
   "id": "5d83467b",
   "metadata": {
    "ExecuteTime": {
     "end_time": "2022-07-28T16:07:50.471040Z",
     "start_time": "2022-07-28T16:07:50.461113Z"
    }
   },
   "outputs": [],
   "source": [
    "index=df[(df['is_repeated_guest']==0)&(df['previous_bookings_not_canceled']!=0)].index\n",
    "df.loc[index,'is_repeated_guest']=1"
   ]
  },
  {
   "cell_type": "code",
   "execution_count": 52,
   "id": "2e3202b8",
   "metadata": {
    "ExecuteTime": {
     "end_time": "2022-07-28T16:07:50.657787Z",
     "start_time": "2022-07-28T16:07:50.637787Z"
    }
   },
   "outputs": [
    {
     "data": {
      "text/html": [
       "<div>\n",
       "<style scoped>\n",
       "    .dataframe tbody tr th:only-of-type {\n",
       "        vertical-align: middle;\n",
       "    }\n",
       "\n",
       "    .dataframe tbody tr th {\n",
       "        vertical-align: top;\n",
       "    }\n",
       "\n",
       "    .dataframe thead th {\n",
       "        text-align: right;\n",
       "    }\n",
       "</style>\n",
       "<table border=\"1\" class=\"dataframe\">\n",
       "  <thead>\n",
       "    <tr style=\"text-align: right;\">\n",
       "      <th></th>\n",
       "      <th>is_canceled</th>\n",
       "      <th>previous_cancellations</th>\n",
       "      <th>previous_bookings_not_canceled</th>\n",
       "    </tr>\n",
       "  </thead>\n",
       "  <tbody>\n",
       "    <tr>\n",
       "      <th>15446</th>\n",
       "      <td>0</td>\n",
       "      <td>0</td>\n",
       "      <td>0</td>\n",
       "    </tr>\n",
       "    <tr>\n",
       "      <th>85055</th>\n",
       "      <td>0</td>\n",
       "      <td>0</td>\n",
       "      <td>0</td>\n",
       "    </tr>\n",
       "    <tr>\n",
       "      <th>83351</th>\n",
       "      <td>0</td>\n",
       "      <td>0</td>\n",
       "      <td>0</td>\n",
       "    </tr>\n",
       "    <tr>\n",
       "      <th>83353</th>\n",
       "      <td>0</td>\n",
       "      <td>0</td>\n",
       "      <td>0</td>\n",
       "    </tr>\n",
       "    <tr>\n",
       "      <th>83355</th>\n",
       "      <td>0</td>\n",
       "      <td>0</td>\n",
       "      <td>0</td>\n",
       "    </tr>\n",
       "    <tr>\n",
       "      <th>...</th>\n",
       "      <td>...</td>\n",
       "      <td>...</td>\n",
       "      <td>...</td>\n",
       "    </tr>\n",
       "    <tr>\n",
       "      <th>30668</th>\n",
       "      <td>0</td>\n",
       "      <td>0</td>\n",
       "      <td>0</td>\n",
       "    </tr>\n",
       "    <tr>\n",
       "      <th>30756</th>\n",
       "      <td>0</td>\n",
       "      <td>0</td>\n",
       "      <td>0</td>\n",
       "    </tr>\n",
       "    <tr>\n",
       "      <th>30904</th>\n",
       "      <td>0</td>\n",
       "      <td>0</td>\n",
       "      <td>0</td>\n",
       "    </tr>\n",
       "    <tr>\n",
       "      <th>31065</th>\n",
       "      <td>0</td>\n",
       "      <td>0</td>\n",
       "      <td>0</td>\n",
       "    </tr>\n",
       "    <tr>\n",
       "      <th>119070</th>\n",
       "      <td>0</td>\n",
       "      <td>0</td>\n",
       "      <td>0</td>\n",
       "    </tr>\n",
       "  </tbody>\n",
       "</table>\n",
       "<p>589 rows × 3 columns</p>\n",
       "</div>"
      ],
      "text/plain": [
       "        is_canceled  previous_cancellations  previous_bookings_not_canceled\n",
       "15446             0                       0                               0\n",
       "85055             0                       0                               0\n",
       "83351             0                       0                               0\n",
       "83353             0                       0                               0\n",
       "83355             0                       0                               0\n",
       "...             ...                     ...                             ...\n",
       "30668             0                       0                               0\n",
       "30756             0                       0                               0\n",
       "30904             0                       0                               0\n",
       "31065             0                       0                               0\n",
       "119070            0                       0                               0\n",
       "\n",
       "[589 rows x 3 columns]"
      ]
     },
     "execution_count": 52,
     "metadata": {},
     "output_type": "execute_result"
    }
   ],
   "source": [
    "df[(df['is_repeated_guest']==1)&((df['previous_bookings_not_canceled']==0)&(df['previous_cancellations']==0))][['is_canceled','previous_cancellations','previous_bookings_not_canceled']].sort_values('previous_cancellations',ascending=False)"
   ]
  },
  {
   "cell_type": "markdown",
   "id": "15d6c9aa",
   "metadata": {},
   "source": [
    "These data should be not repeated guest (0)."
   ]
  },
  {
   "cell_type": "code",
   "execution_count": 53,
   "id": "235d70de",
   "metadata": {
    "ExecuteTime": {
     "end_time": "2022-07-28T16:07:50.971531Z",
     "start_time": "2022-07-28T16:07:50.957531Z"
    }
   },
   "outputs": [],
   "source": [
    "index=df[(df['is_repeated_guest']==1)&((df['previous_bookings_not_canceled']==0)&(df['previous_cancellations']==0))].index\n",
    "df.loc[index,'is_repeated_guest']=0"
   ]
  },
  {
   "cell_type": "markdown",
   "id": "bffd4f74",
   "metadata": {},
   "source": [
    "# Feature Engineering and Final Data Wrangling"
   ]
  },
  {
   "cell_type": "markdown",
   "id": "5425400d",
   "metadata": {},
   "source": [
    "Based on informations from EDA, I will do the following:"
   ]
  },
  {
   "cell_type": "markdown",
   "id": "dd2cd391",
   "metadata": {},
   "source": [
    "## Combining SC and Undefined in Meal"
   ]
  },
  {
   "cell_type": "markdown",
   "id": "b662de89",
   "metadata": {},
   "source": [
    "Let's put them together in 'No Meal' category."
   ]
  },
  {
   "cell_type": "code",
   "execution_count": 54,
   "id": "27467848",
   "metadata": {
    "ExecuteTime": {
     "end_time": "2022-07-28T16:07:51.820238Z",
     "start_time": "2022-07-28T16:07:51.799238Z"
    }
   },
   "outputs": [],
   "source": [
    "index1=df[df['meal']=='SC'].index\n",
    "index2=df[df['meal']=='Undefined'].index\n",
    "df.loc[index1,'meal']='No Meal'\n",
    "df.loc[index2,'meal']='No Meal'"
   ]
  },
  {
   "cell_type": "code",
   "execution_count": 55,
   "id": "e188cff8",
   "metadata": {
    "ExecuteTime": {
     "end_time": "2022-07-28T16:07:52.281473Z",
     "start_time": "2022-07-28T16:07:52.269483Z"
    }
   },
   "outputs": [
    {
     "data": {
      "text/plain": [
       "BB         91867\n",
       "HB         14434\n",
       "No Meal    11803\n",
       "FB           798\n",
       "Name: meal, dtype: int64"
      ]
     },
     "execution_count": 55,
     "metadata": {},
     "output_type": "execute_result"
    }
   ],
   "source": [
    "df['meal'].value_counts()"
   ]
  },
  {
   "cell_type": "markdown",
   "id": "5c2db528",
   "metadata": {},
   "source": [
    "## Deleting Undefined Data in Market Segment"
   ]
  },
  {
   "cell_type": "code",
   "execution_count": 56,
   "id": "7e646119",
   "metadata": {
    "ExecuteTime": {
     "end_time": "2022-07-28T16:07:52.658976Z",
     "start_time": "2022-07-28T16:07:52.636971Z"
    }
   },
   "outputs": [],
   "source": [
    "index=df[df['market_segment']=='Undefined'].index\n",
    "df.drop(index,inplace=True)"
   ]
  },
  {
   "cell_type": "markdown",
   "id": "5f1e41e0",
   "metadata": {},
   "source": [
    "## Filling Undefined Data in Distribution Channel"
   ]
  },
  {
   "cell_type": "code",
   "execution_count": 57,
   "id": "d3dd2708",
   "metadata": {
    "ExecuteTime": {
     "end_time": "2022-07-28T16:07:52.984669Z",
     "start_time": "2022-07-28T16:07:52.976665Z"
    }
   },
   "outputs": [],
   "source": [
    "df.reset_index(drop=True,inplace=True)"
   ]
  },
  {
   "cell_type": "code",
   "execution_count": 58,
   "id": "aeee889b",
   "metadata": {
    "ExecuteTime": {
     "end_time": "2022-07-28T16:07:53.217340Z",
     "start_time": "2022-07-28T16:07:53.197336Z"
    }
   },
   "outputs": [
    {
     "data": {
      "text/html": [
       "<div>\n",
       "<style scoped>\n",
       "    .dataframe tbody tr th:only-of-type {\n",
       "        vertical-align: middle;\n",
       "    }\n",
       "\n",
       "    .dataframe tbody tr th {\n",
       "        vertical-align: top;\n",
       "    }\n",
       "\n",
       "    .dataframe thead th {\n",
       "        text-align: right;\n",
       "    }\n",
       "</style>\n",
       "<table border=\"1\" class=\"dataframe\">\n",
       "  <thead>\n",
       "    <tr style=\"text-align: right;\">\n",
       "      <th></th>\n",
       "      <th>distribution_channel</th>\n",
       "      <th>market_segment</th>\n",
       "    </tr>\n",
       "  </thead>\n",
       "  <tbody>\n",
       "    <tr>\n",
       "      <th>14185</th>\n",
       "      <td>Undefined</td>\n",
       "      <td>Direct</td>\n",
       "    </tr>\n",
       "    <tr>\n",
       "      <th>40202</th>\n",
       "      <td>Undefined</td>\n",
       "      <td>Direct</td>\n",
       "    </tr>\n",
       "    <tr>\n",
       "      <th>40694</th>\n",
       "      <td>Undefined</td>\n",
       "      <td>Online TA</td>\n",
       "    </tr>\n",
       "  </tbody>\n",
       "</table>\n",
       "</div>"
      ],
      "text/plain": [
       "      distribution_channel market_segment\n",
       "14185            Undefined         Direct\n",
       "40202            Undefined         Direct\n",
       "40694            Undefined      Online TA"
      ]
     },
     "execution_count": 58,
     "metadata": {},
     "output_type": "execute_result"
    }
   ],
   "source": [
    "df[df['distribution_channel']=='Undefined'][['distribution_channel','market_segment']]"
   ]
  },
  {
   "cell_type": "code",
   "execution_count": 59,
   "id": "5701837c",
   "metadata": {
    "ExecuteTime": {
     "end_time": "2022-07-28T16:07:53.342023Z",
     "start_time": "2022-07-28T16:07:53.324092Z"
    }
   },
   "outputs": [
    {
     "data": {
      "text/plain": [
       "array(['Direct', 'Corporate', 'TA/TO', 'Undefined', 'GDS'], dtype=object)"
      ]
     },
     "execution_count": 59,
     "metadata": {},
     "output_type": "execute_result"
    }
   ],
   "source": [
    "df['distribution_channel'].unique()"
   ]
  },
  {
   "cell_type": "code",
   "execution_count": 60,
   "id": "fc35d773",
   "metadata": {
    "ExecuteTime": {
     "end_time": "2022-07-28T16:07:53.530849Z",
     "start_time": "2022-07-28T16:07:53.516849Z"
    }
   },
   "outputs": [],
   "source": [
    "df.loc[14185,'distribution_channel']='Direct'\n",
    "df.loc[40202,'distribution_channel']='Direct'\n",
    "df.loc[40694,'distribution_channel']='TA/TO'"
   ]
  },
  {
   "cell_type": "markdown",
   "id": "88fedb0b",
   "metadata": {},
   "source": [
    "## New Feature: Region, Distance"
   ]
  },
  {
   "cell_type": "markdown",
   "id": "0ede6c1d",
   "metadata": {},
   "source": [
    "We will make Region that will classify the country, somehow will indicating distance to Portugal."
   ]
  },
  {
   "cell_type": "code",
   "execution_count": 63,
   "id": "105e4237",
   "metadata": {
    "ExecuteTime": {
     "end_time": "2022-07-28T16:08:08.248858Z",
     "start_time": "2022-07-28T16:08:08.221858Z"
    }
   },
   "outputs": [
    {
     "data": {
      "text/html": [
       "<div>\n",
       "<style scoped>\n",
       "    .dataframe tbody tr th:only-of-type {\n",
       "        vertical-align: middle;\n",
       "    }\n",
       "\n",
       "    .dataframe tbody tr th {\n",
       "        vertical-align: top;\n",
       "    }\n",
       "\n",
       "    .dataframe thead th {\n",
       "        text-align: right;\n",
       "    }\n",
       "</style>\n",
       "<table border=\"1\" class=\"dataframe\">\n",
       "  <thead>\n",
       "    <tr style=\"text-align: right;\">\n",
       "      <th></th>\n",
       "      <th>Tables_in_world</th>\n",
       "    </tr>\n",
       "  </thead>\n",
       "  <tbody>\n",
       "    <tr>\n",
       "      <th>0</th>\n",
       "      <td>city</td>\n",
       "    </tr>\n",
       "    <tr>\n",
       "      <th>1</th>\n",
       "      <td>country</td>\n",
       "    </tr>\n",
       "    <tr>\n",
       "      <th>2</th>\n",
       "      <td>countrylanguage</td>\n",
       "    </tr>\n",
       "    <tr>\n",
       "      <th>3</th>\n",
       "      <td>countrypop</td>\n",
       "    </tr>\n",
       "  </tbody>\n",
       "</table>\n",
       "</div>"
      ],
      "text/plain": [
       "   Tables_in_world\n",
       "0             city\n",
       "1          country\n",
       "2  countrylanguage\n",
       "3       countrypop"
      ]
     },
     "execution_count": 63,
     "metadata": {},
     "output_type": "execute_result"
    }
   ],
   "source": [
    "import mysql.connector\n",
    "# Creating connection\n",
    "mydb=mysql.connector.connect(\n",
    "    host='localhost',\n",
    "    user='root',\n",
    "    passwd='********',\n",
    "    database='world')\n",
    "\n",
    "mycursor=mydb.cursor()\n",
    "# Create access to database\n",
    "query='show tables;'\n",
    "# Query\n",
    "mycursor.execute(query)\n",
    "# Execute query\n",
    "result=mycursor.fetchall()\n",
    "# Save result\n",
    "dfsql=pd.DataFrame(result,columns=mycursor.column_names)\n",
    "dfsql.head()"
   ]
  },
  {
   "cell_type": "code",
   "execution_count": 64,
   "id": "60383981",
   "metadata": {
    "ExecuteTime": {
     "end_time": "2022-07-28T16:08:20.237516Z",
     "start_time": "2022-07-28T16:08:20.228432Z"
    }
   },
   "outputs": [],
   "source": [
    "# Creating Function\n",
    "mycursor=mydb.cursor()\n",
    "def sql(query):\n",
    "    mycursor.execute(query)\n",
    "    result=mycursor.fetchall()\n",
    "    dfsql=pd.DataFrame(result,columns=mycursor.column_names)\n",
    "    return dfsql"
   ]
  },
  {
   "cell_type": "code",
   "execution_count": 65,
   "id": "bde539bb",
   "metadata": {
    "ExecuteTime": {
     "end_time": "2022-07-28T16:08:20.507441Z",
     "start_time": "2022-07-28T16:08:20.487511Z"
    }
   },
   "outputs": [
    {
     "data": {
      "text/html": [
       "<div>\n",
       "<style scoped>\n",
       "    .dataframe tbody tr th:only-of-type {\n",
       "        vertical-align: middle;\n",
       "    }\n",
       "\n",
       "    .dataframe tbody tr th {\n",
       "        vertical-align: top;\n",
       "    }\n",
       "\n",
       "    .dataframe thead th {\n",
       "        text-align: right;\n",
       "    }\n",
       "</style>\n",
       "<table border=\"1\" class=\"dataframe\">\n",
       "  <thead>\n",
       "    <tr style=\"text-align: right;\">\n",
       "      <th></th>\n",
       "      <th>Code</th>\n",
       "      <th>Region</th>\n",
       "    </tr>\n",
       "  </thead>\n",
       "  <tbody>\n",
       "    <tr>\n",
       "      <th>0</th>\n",
       "      <td>ALB</td>\n",
       "      <td>Southern Europe</td>\n",
       "    </tr>\n",
       "    <tr>\n",
       "      <th>1</th>\n",
       "      <td>AND</td>\n",
       "      <td>Southern Europe</td>\n",
       "    </tr>\n",
       "    <tr>\n",
       "      <th>2</th>\n",
       "      <td>AUT</td>\n",
       "      <td>Western Europe</td>\n",
       "    </tr>\n",
       "    <tr>\n",
       "      <th>3</th>\n",
       "      <td>BEL</td>\n",
       "      <td>Western Europe</td>\n",
       "    </tr>\n",
       "    <tr>\n",
       "      <th>4</th>\n",
       "      <td>BEN</td>\n",
       "      <td>Western Africa</td>\n",
       "    </tr>\n",
       "  </tbody>\n",
       "</table>\n",
       "</div>"
      ],
      "text/plain": [
       "  Code           Region\n",
       "0  ALB  Southern Europe\n",
       "1  AND  Southern Europe\n",
       "2  AUT   Western Europe\n",
       "3  BEL   Western Europe\n",
       "4  BEN   Western Africa"
      ]
     },
     "execution_count": 65,
     "metadata": {},
     "output_type": "execute_result"
    }
   ],
   "source": [
    "country=sql('''\n",
    "SELECT Code, Region FROM country\n",
    "WHERE Region = 'Western Africa' OR Region = 'Northern Africa' OR\n",
    "Continent = 'Europe'\n",
    "''')\n",
    "country.head()"
   ]
  },
  {
   "cell_type": "code",
   "execution_count": 66,
   "id": "65269d2e",
   "metadata": {
    "ExecuteTime": {
     "end_time": "2022-07-28T16:08:21.101769Z",
     "start_time": "2022-07-28T16:08:21.024458Z"
    }
   },
   "outputs": [],
   "source": [
    "df=pd.merge(df,country,left_on='country',right_on='Code',how='left')"
   ]
  },
  {
   "cell_type": "code",
   "execution_count": 67,
   "id": "b602eaee",
   "metadata": {
    "ExecuteTime": {
     "end_time": "2022-07-28T16:08:21.492107Z",
     "start_time": "2022-07-28T16:08:21.457175Z"
    }
   },
   "outputs": [],
   "source": [
    "df.drop(columns=['Code'],inplace=True)"
   ]
  },
  {
   "cell_type": "code",
   "execution_count": 68,
   "id": "57f69316",
   "metadata": {
    "ExecuteTime": {
     "end_time": "2022-07-28T16:08:21.677568Z",
     "start_time": "2022-07-28T16:08:21.653637Z"
    }
   },
   "outputs": [],
   "source": [
    "index=df[df['Region'].isna()].index\n",
    "df.loc[index,'Region']='Others'"
   ]
  },
  {
   "cell_type": "markdown",
   "id": "214296e2",
   "metadata": {},
   "source": [
    "## Final Dataset"
   ]
  },
  {
   "cell_type": "code",
   "execution_count": 69,
   "id": "72299a94",
   "metadata": {
    "ExecuteTime": {
     "end_time": "2022-07-28T16:08:22.008527Z",
     "start_time": "2022-07-28T16:08:21.960588Z"
    }
   },
   "outputs": [
    {
     "name": "stdout",
     "output_type": "stream",
     "text": [
      "<class 'pandas.core.frame.DataFrame'>\n",
      "Int64Index: 118900 entries, 0 to 118899\n",
      "Data columns (total 20 columns):\n",
      " #   Column                          Non-Null Count   Dtype  \n",
      "---  ------                          --------------   -----  \n",
      " 0   is_canceled                     118900 non-null  int64  \n",
      " 1   hotel                           118900 non-null  object \n",
      " 2   adults                          118900 non-null  int64  \n",
      " 3   babies                          118900 non-null  int64  \n",
      " 4   children                        118900 non-null  float64\n",
      " 5   country                         118900 non-null  object \n",
      " 6   is_repeated_guest               118900 non-null  int64  \n",
      " 7   meal                            118900 non-null  object \n",
      " 8   reserved_room_type              118900 non-null  object \n",
      " 9   deposit_type                    118900 non-null  object \n",
      " 10  required_car_parking_spaces     118900 non-null  int64  \n",
      " 11  total_of_special_requests       118900 non-null  int64  \n",
      " 12  market_segment                  118900 non-null  object \n",
      " 13  distribution_channel            118900 non-null  object \n",
      " 14  customer_type                   118900 non-null  object \n",
      " 15  previous_bookings_not_canceled  118900 non-null  int64  \n",
      " 16  previous_cancellations          118900 non-null  int64  \n",
      " 17  booking_changes                 118900 non-null  int64  \n",
      " 18  days_in_waiting_list            118900 non-null  int64  \n",
      " 19  Region                          118900 non-null  object \n",
      "dtypes: float64(1), int64(10), object(9)\n",
      "memory usage: 23.1+ MB\n"
     ]
    }
   ],
   "source": [
    "df.info()"
   ]
  },
  {
   "cell_type": "markdown",
   "id": "4575484a",
   "metadata": {},
   "source": [
    "# Splitting Data"
   ]
  },
  {
   "cell_type": "code",
   "execution_count": 70,
   "id": "e75a358c",
   "metadata": {
    "ExecuteTime": {
     "end_time": "2022-07-28T16:08:22.707611Z",
     "start_time": "2022-07-28T16:08:22.567745Z"
    }
   },
   "outputs": [],
   "source": [
    "from sklearn.model_selection import train_test_split"
   ]
  },
  {
   "cell_type": "code",
   "execution_count": 71,
   "id": "9625c62b",
   "metadata": {
    "ExecuteTime": {
     "end_time": "2022-07-28T16:08:23.188762Z",
     "start_time": "2022-07-28T16:08:23.169830Z"
    }
   },
   "outputs": [
    {
     "data": {
      "text/plain": [
       "Index(['is_canceled', 'hotel', 'adults', 'babies', 'children', 'country',\n",
       "       'is_repeated_guest', 'meal', 'reserved_room_type', 'deposit_type',\n",
       "       'required_car_parking_spaces', 'total_of_special_requests',\n",
       "       'market_segment', 'distribution_channel', 'customer_type',\n",
       "       'previous_bookings_not_canceled', 'previous_cancellations',\n",
       "       'booking_changes', 'days_in_waiting_list', 'Region'],\n",
       "      dtype='object')"
      ]
     },
     "execution_count": 71,
     "metadata": {},
     "output_type": "execute_result"
    }
   ],
   "source": [
    "df.columns"
   ]
  },
  {
   "cell_type": "code",
   "execution_count": 72,
   "id": "09fd327f",
   "metadata": {
    "ExecuteTime": {
     "end_time": "2022-07-28T16:08:23.531229Z",
     "start_time": "2022-07-28T16:08:23.509229Z"
    }
   },
   "outputs": [],
   "source": [
    "x=df.drop(columns=['is_canceled','hotel'])\n",
    "y=df['is_canceled']"
   ]
  },
  {
   "cell_type": "code",
   "execution_count": 73,
   "id": "a4a7f3e1",
   "metadata": {
    "ExecuteTime": {
     "end_time": "2022-07-28T16:08:23.818962Z",
     "start_time": "2022-07-28T16:08:23.739963Z"
    }
   },
   "outputs": [],
   "source": [
    "x_train, x_test, y_train, y_test=train_test_split(x,y,stratify=y,test_size=0.2,random_state=2020)"
   ]
  },
  {
   "cell_type": "markdown",
   "id": "8623bad5",
   "metadata": {},
   "source": [
    "# Preprocessing"
   ]
  },
  {
   "cell_type": "code",
   "execution_count": 74,
   "id": "241280eb",
   "metadata": {
    "ExecuteTime": {
     "end_time": "2022-07-28T16:08:24.439962Z",
     "start_time": "2022-07-28T16:08:24.274963Z"
    }
   },
   "outputs": [],
   "source": [
    "from sklearn.compose import ColumnTransformer\n",
    "\n",
    "import category_encoders as ce\n",
    "from sklearn.preprocessing import OneHotEncoder\n",
    "from sklearn.preprocessing import RobustScaler"
   ]
  },
  {
   "cell_type": "code",
   "execution_count": 75,
   "id": "d39a2e89",
   "metadata": {
    "ExecuteTime": {
     "end_time": "2022-07-28T16:08:24.725962Z",
     "start_time": "2022-07-28T16:08:24.676962Z"
    }
   },
   "outputs": [
    {
     "data": {
      "text/html": [
       "<div>\n",
       "<style scoped>\n",
       "    .dataframe tbody tr th:only-of-type {\n",
       "        vertical-align: middle;\n",
       "    }\n",
       "\n",
       "    .dataframe tbody tr th {\n",
       "        vertical-align: top;\n",
       "    }\n",
       "\n",
       "    .dataframe thead th {\n",
       "        text-align: right;\n",
       "    }\n",
       "</style>\n",
       "<table border=\"1\" class=\"dataframe\">\n",
       "  <thead>\n",
       "    <tr style=\"text-align: right;\">\n",
       "      <th></th>\n",
       "      <th>is_canceled</th>\n",
       "      <th>adults</th>\n",
       "      <th>babies</th>\n",
       "      <th>children</th>\n",
       "      <th>is_repeated_guest</th>\n",
       "      <th>required_car_parking_spaces</th>\n",
       "      <th>total_of_special_requests</th>\n",
       "      <th>previous_bookings_not_canceled</th>\n",
       "      <th>previous_cancellations</th>\n",
       "      <th>booking_changes</th>\n",
       "      <th>days_in_waiting_list</th>\n",
       "    </tr>\n",
       "  </thead>\n",
       "  <tbody>\n",
       "    <tr>\n",
       "      <th>count</th>\n",
       "      <td>118900.000000</td>\n",
       "      <td>118900.000000</td>\n",
       "      <td>118900.000000</td>\n",
       "      <td>118900.000000</td>\n",
       "      <td>118900.000000</td>\n",
       "      <td>118900.000000</td>\n",
       "      <td>118900.000000</td>\n",
       "      <td>118900.000000</td>\n",
       "      <td>118900.000000</td>\n",
       "      <td>118900.000000</td>\n",
       "      <td>118900.000000</td>\n",
       "    </tr>\n",
       "    <tr>\n",
       "      <th>mean</th>\n",
       "      <td>0.371362</td>\n",
       "      <td>1.865004</td>\n",
       "      <td>0.007813</td>\n",
       "      <td>0.103759</td>\n",
       "      <td>0.031783</td>\n",
       "      <td>0.061884</td>\n",
       "      <td>0.571690</td>\n",
       "      <td>0.131632</td>\n",
       "      <td>0.087140</td>\n",
       "      <td>0.221177</td>\n",
       "      <td>2.330715</td>\n",
       "    </tr>\n",
       "    <tr>\n",
       "      <th>std</th>\n",
       "      <td>0.483171</td>\n",
       "      <td>0.568640</td>\n",
       "      <td>0.093513</td>\n",
       "      <td>0.398495</td>\n",
       "      <td>0.175423</td>\n",
       "      <td>0.244170</td>\n",
       "      <td>0.792673</td>\n",
       "      <td>1.484660</td>\n",
       "      <td>0.845862</td>\n",
       "      <td>0.652780</td>\n",
       "      <td>17.630307</td>\n",
       "    </tr>\n",
       "    <tr>\n",
       "      <th>min</th>\n",
       "      <td>0.000000</td>\n",
       "      <td>1.000000</td>\n",
       "      <td>0.000000</td>\n",
       "      <td>0.000000</td>\n",
       "      <td>0.000000</td>\n",
       "      <td>0.000000</td>\n",
       "      <td>0.000000</td>\n",
       "      <td>0.000000</td>\n",
       "      <td>0.000000</td>\n",
       "      <td>0.000000</td>\n",
       "      <td>0.000000</td>\n",
       "    </tr>\n",
       "    <tr>\n",
       "      <th>25%</th>\n",
       "      <td>0.000000</td>\n",
       "      <td>2.000000</td>\n",
       "      <td>0.000000</td>\n",
       "      <td>0.000000</td>\n",
       "      <td>0.000000</td>\n",
       "      <td>0.000000</td>\n",
       "      <td>0.000000</td>\n",
       "      <td>0.000000</td>\n",
       "      <td>0.000000</td>\n",
       "      <td>0.000000</td>\n",
       "      <td>0.000000</td>\n",
       "    </tr>\n",
       "    <tr>\n",
       "      <th>50%</th>\n",
       "      <td>0.000000</td>\n",
       "      <td>2.000000</td>\n",
       "      <td>0.000000</td>\n",
       "      <td>0.000000</td>\n",
       "      <td>0.000000</td>\n",
       "      <td>0.000000</td>\n",
       "      <td>0.000000</td>\n",
       "      <td>0.000000</td>\n",
       "      <td>0.000000</td>\n",
       "      <td>0.000000</td>\n",
       "      <td>0.000000</td>\n",
       "    </tr>\n",
       "    <tr>\n",
       "      <th>75%</th>\n",
       "      <td>1.000000</td>\n",
       "      <td>2.000000</td>\n",
       "      <td>0.000000</td>\n",
       "      <td>0.000000</td>\n",
       "      <td>0.000000</td>\n",
       "      <td>0.000000</td>\n",
       "      <td>1.000000</td>\n",
       "      <td>0.000000</td>\n",
       "      <td>0.000000</td>\n",
       "      <td>0.000000</td>\n",
       "      <td>0.000000</td>\n",
       "    </tr>\n",
       "    <tr>\n",
       "      <th>max</th>\n",
       "      <td>1.000000</td>\n",
       "      <td>55.000000</td>\n",
       "      <td>10.000000</td>\n",
       "      <td>10.000000</td>\n",
       "      <td>1.000000</td>\n",
       "      <td>8.000000</td>\n",
       "      <td>5.000000</td>\n",
       "      <td>72.000000</td>\n",
       "      <td>26.000000</td>\n",
       "      <td>21.000000</td>\n",
       "      <td>391.000000</td>\n",
       "    </tr>\n",
       "  </tbody>\n",
       "</table>\n",
       "</div>"
      ],
      "text/plain": [
       "         is_canceled         adults         babies       children  \\\n",
       "count  118900.000000  118900.000000  118900.000000  118900.000000   \n",
       "mean        0.371362       1.865004       0.007813       0.103759   \n",
       "std         0.483171       0.568640       0.093513       0.398495   \n",
       "min         0.000000       1.000000       0.000000       0.000000   \n",
       "25%         0.000000       2.000000       0.000000       0.000000   \n",
       "50%         0.000000       2.000000       0.000000       0.000000   \n",
       "75%         1.000000       2.000000       0.000000       0.000000   \n",
       "max         1.000000      55.000000      10.000000      10.000000   \n",
       "\n",
       "       is_repeated_guest  required_car_parking_spaces  \\\n",
       "count      118900.000000                118900.000000   \n",
       "mean            0.031783                     0.061884   \n",
       "std             0.175423                     0.244170   \n",
       "min             0.000000                     0.000000   \n",
       "25%             0.000000                     0.000000   \n",
       "50%             0.000000                     0.000000   \n",
       "75%             0.000000                     0.000000   \n",
       "max             1.000000                     8.000000   \n",
       "\n",
       "       total_of_special_requests  previous_bookings_not_canceled  \\\n",
       "count              118900.000000                   118900.000000   \n",
       "mean                    0.571690                        0.131632   \n",
       "std                     0.792673                        1.484660   \n",
       "min                     0.000000                        0.000000   \n",
       "25%                     0.000000                        0.000000   \n",
       "50%                     0.000000                        0.000000   \n",
       "75%                     1.000000                        0.000000   \n",
       "max                     5.000000                       72.000000   \n",
       "\n",
       "       previous_cancellations  booking_changes  days_in_waiting_list  \n",
       "count           118900.000000    118900.000000         118900.000000  \n",
       "mean                 0.087140         0.221177              2.330715  \n",
       "std                  0.845862         0.652780             17.630307  \n",
       "min                  0.000000         0.000000              0.000000  \n",
       "25%                  0.000000         0.000000              0.000000  \n",
       "50%                  0.000000         0.000000              0.000000  \n",
       "75%                  0.000000         0.000000              0.000000  \n",
       "max                 26.000000        21.000000            391.000000  "
      ]
     },
     "execution_count": 75,
     "metadata": {},
     "output_type": "execute_result"
    }
   ],
   "source": [
    "df.describe()"
   ]
  },
  {
   "cell_type": "markdown",
   "id": "04fd9108",
   "metadata": {},
   "source": [
    "Due to outliers in datasets, we will use **robust scaling** for several features: adults, babies, children, booking_changes, days_in_waiting_list, previous_bookings_not_canceled, previous_cancellations"
   ]
  },
  {
   "cell_type": "code",
   "execution_count": 76,
   "id": "c3f94172",
   "metadata": {
    "ExecuteTime": {
     "end_time": "2022-07-28T16:08:25.119043Z",
     "start_time": "2022-07-28T16:08:25.020962Z"
    }
   },
   "outputs": [
    {
     "data": {
      "text/html": [
       "<div>\n",
       "<style scoped>\n",
       "    .dataframe tbody tr th:only-of-type {\n",
       "        vertical-align: middle;\n",
       "    }\n",
       "\n",
       "    .dataframe tbody tr th {\n",
       "        vertical-align: top;\n",
       "    }\n",
       "\n",
       "    .dataframe thead th {\n",
       "        text-align: right;\n",
       "    }\n",
       "</style>\n",
       "<table border=\"1\" class=\"dataframe\">\n",
       "  <thead>\n",
       "    <tr style=\"text-align: right;\">\n",
       "      <th></th>\n",
       "      <th>hotel</th>\n",
       "      <th>country</th>\n",
       "      <th>meal</th>\n",
       "      <th>reserved_room_type</th>\n",
       "      <th>deposit_type</th>\n",
       "      <th>market_segment</th>\n",
       "      <th>distribution_channel</th>\n",
       "      <th>customer_type</th>\n",
       "      <th>Region</th>\n",
       "    </tr>\n",
       "  </thead>\n",
       "  <tbody>\n",
       "    <tr>\n",
       "      <th>count</th>\n",
       "      <td>118900</td>\n",
       "      <td>118900</td>\n",
       "      <td>118900</td>\n",
       "      <td>118900</td>\n",
       "      <td>118900</td>\n",
       "      <td>118900</td>\n",
       "      <td>118900</td>\n",
       "      <td>118900</td>\n",
       "      <td>118900</td>\n",
       "    </tr>\n",
       "    <tr>\n",
       "      <th>unique</th>\n",
       "      <td>2</td>\n",
       "      <td>177</td>\n",
       "      <td>4</td>\n",
       "      <td>10</td>\n",
       "      <td>3</td>\n",
       "      <td>7</td>\n",
       "      <td>4</td>\n",
       "      <td>4</td>\n",
       "      <td>9</td>\n",
       "    </tr>\n",
       "    <tr>\n",
       "      <th>top</th>\n",
       "      <td>City Hotel</td>\n",
       "      <td>PRT</td>\n",
       "      <td>BB</td>\n",
       "      <td>A</td>\n",
       "      <td>No Deposit</td>\n",
       "      <td>Online TA</td>\n",
       "      <td>TA/TO</td>\n",
       "      <td>Transient</td>\n",
       "      <td>Southern Europe</td>\n",
       "    </tr>\n",
       "    <tr>\n",
       "      <th>freq</th>\n",
       "      <td>79304</td>\n",
       "      <td>48588</td>\n",
       "      <td>91865</td>\n",
       "      <td>85601</td>\n",
       "      <td>104165</td>\n",
       "      <td>56403</td>\n",
       "      <td>97731</td>\n",
       "      <td>89174</td>\n",
       "      <td>61286</td>\n",
       "    </tr>\n",
       "  </tbody>\n",
       "</table>\n",
       "</div>"
      ],
      "text/plain": [
       "             hotel country    meal reserved_room_type deposit_type  \\\n",
       "count       118900  118900  118900             118900       118900   \n",
       "unique           2     177       4                 10            3   \n",
       "top     City Hotel     PRT      BB                  A   No Deposit   \n",
       "freq         79304   48588   91865              85601       104165   \n",
       "\n",
       "       market_segment distribution_channel customer_type           Region  \n",
       "count          118900               118900        118900           118900  \n",
       "unique              7                    4             4                9  \n",
       "top         Online TA                TA/TO     Transient  Southern Europe  \n",
       "freq            56403                97731         89174            61286  "
      ]
     },
     "execution_count": 76,
     "metadata": {},
     "output_type": "execute_result"
    }
   ],
   "source": [
    "df.describe(include='object')"
   ]
  },
  {
   "cell_type": "markdown",
   "id": "b612d07a",
   "metadata": {},
   "source": [
    "Based of its number of unique values, we will do the following:\n",
    "1. **Binary encoding**: meal, country, market_segment, reserved_room_type, Region\n",
    "2. **One hot encoding**: distribution_channel, deposit_type, customer_type"
   ]
  },
  {
   "cell_type": "code",
   "execution_count": 108,
   "id": "3e9aafea",
   "metadata": {
    "ExecuteTime": {
     "end_time": "2022-07-28T16:40:01.313278Z",
     "start_time": "2022-07-28T16:40:01.307273Z"
    }
   },
   "outputs": [],
   "source": [
    "transformer = ColumnTransformer([\n",
    "    ('one hot',OneHotEncoder(drop='first'),['distribution_channel','deposit_type','customer_type']),\n",
    "    ('binary', ce.BinaryEncoder(), ['meal','country','market_segment','reserved_room_type','Region']),\n",
    "    ('robust', RobustScaler(), ['adults','babies','children','booking_changes','days_in_waiting_list','previous_bookings_not_canceled','previous_cancellations'])\n",
    "], remainder = 'passthrough')"
   ]
  },
  {
   "cell_type": "markdown",
   "id": "3aa4526c",
   "metadata": {},
   "source": [
    "# Evaluation Metric"
   ]
  },
  {
   "attachments": {
    "Picture1.png": {
     "image/png": "[encoded data removed]"
    }
   },
   "cell_type": "markdown",
   "id": "06576a10",
   "metadata": {},
   "source": [
    "![Picture1.png](attachment:Picture1.png)"
   ]
  },
  {
   "cell_type": "markdown",
   "id": "b51030a7",
   "metadata": {},
   "source": [
    "<div style=\"text-align: justify\">\n",
    "To select the appropriate evaluation metric, we need to understand about the risk of false negative and false positive in our prediction case. In short term point-of-view (POV), false negative of booking cancellation prediction is more likely resulting in profit-loss because of unnecessary preparation of the hotel towards non-existent customer. But in the long term POV, failing to prepare for the customer's arrival also will reduce our customer's experience, resulting in unseen profit/opportunity-loss in the future (false positive). So, balancing false positive and false negative (<strong>F1 score</strong>) is necessity for this prediction model building.\n",
    "</div>"
   ]
  },
  {
   "cell_type": "markdown",
   "id": "3d3c9486",
   "metadata": {},
   "source": [
    "# Method Selection"
   ]
  },
  {
   "cell_type": "markdown",
   "id": "de4ee837",
   "metadata": {},
   "source": [
    "To build the machine learning model, we need to select the best model as our base learner."
   ]
  },
  {
   "cell_type": "markdown",
   "id": "0911ad96",
   "metadata": {},
   "source": [
    "## Models"
   ]
  },
  {
   "cell_type": "markdown",
   "id": "e6c25886",
   "metadata": {},
   "source": [
    "For this project, we will use logistic regression as our basic binary classification model, KNN as instance-based machine learning model, Forest as bagging ensemble method, and XGBoost as boosting ensemble method."
   ]
  },
  {
   "cell_type": "code",
   "execution_count": 109,
   "id": "84fe2b82",
   "metadata": {
    "ExecuteTime": {
     "end_time": "2022-07-28T16:40:03.816485Z",
     "start_time": "2022-07-28T16:40:03.798483Z"
    }
   },
   "outputs": [],
   "source": [
    "from sklearn.tree import DecisionTreeClassifier, plot_tree\n",
    "from sklearn.neighbors import KNeighborsClassifier\n",
    "from sklearn.linear_model import LogisticRegression\n",
    "from sklearn.ensemble import AdaBoostClassifier, GradientBoostingClassifier,RandomForestClassifier\n",
    "from xgboost.sklearn import XGBClassifier"
   ]
  },
  {
   "cell_type": "code",
   "execution_count": 110,
   "id": "8d0b6f77",
   "metadata": {
    "ExecuteTime": {
     "end_time": "2022-07-28T16:40:04.302824Z",
     "start_time": "2022-07-28T16:40:04.287865Z"
    }
   },
   "outputs": [],
   "source": [
    "model_logreg = LogisticRegression(solver='liblinear',random_state=10)\n",
    "model_knn= KNeighborsClassifier()\n",
    "model_xgbc= XGBClassifier(random_state=10)\n",
    "model_forest= RandomForestClassifier(random_state=10)"
   ]
  },
  {
   "cell_type": "markdown",
   "id": "c6577ab0",
   "metadata": {},
   "source": [
    "## Random Undersampler"
   ]
  },
  {
   "cell_type": "markdown",
   "id": "ba0bc033",
   "metadata": {},
   "source": [
    "For simplicity, we will random undersampling method to reduce the amount of majority class, which is not canceled data."
   ]
  },
  {
   "cell_type": "code",
   "execution_count": 111,
   "id": "96ff430d",
   "metadata": {
    "ExecuteTime": {
     "end_time": "2022-07-28T16:40:05.259572Z",
     "start_time": "2022-07-28T16:40:05.254578Z"
    }
   },
   "outputs": [],
   "source": [
    "from imblearn.under_sampling import RandomUnderSampler"
   ]
  },
  {
   "cell_type": "code",
   "execution_count": 112,
   "id": "69118940",
   "metadata": {
    "ExecuteTime": {
     "end_time": "2022-07-28T16:40:05.709307Z",
     "start_time": "2022-07-28T16:40:05.704308Z"
    }
   },
   "outputs": [],
   "source": [
    "rus = RandomUnderSampler(random_state=10)"
   ]
  },
  {
   "cell_type": "markdown",
   "id": "03568196",
   "metadata": {},
   "source": [
    "## Cross-Validation "
   ]
  },
  {
   "cell_type": "code",
   "execution_count": 113,
   "id": "11852526",
   "metadata": {
    "ExecuteTime": {
     "end_time": "2022-07-28T16:40:06.396720Z",
     "start_time": "2022-07-28T16:40:06.387721Z"
    }
   },
   "outputs": [],
   "source": [
    "from sklearn.model_selection import GridSearchCV, StratifiedKFold\n",
    "from sklearn.metrics import classification_report\n",
    "from sklearn.model_selection import cross_val_score\n",
    "from imblearn.pipeline import Pipeline"
   ]
  },
  {
   "cell_type": "code",
   "execution_count": 114,
   "id": "acef5926",
   "metadata": {
    "ExecuteTime": {
     "end_time": "2022-07-28T16:40:06.759425Z",
     "start_time": "2022-07-28T16:40:06.750421Z"
    }
   },
   "outputs": [],
   "source": [
    "estimator=Pipeline([\n",
    "    ('preprocess',transformer),\n",
    "    ('resampling',rus),\n",
    "    ('model',model_xgbc)\n",
    "])"
   ]
  },
  {
   "cell_type": "code",
   "execution_count": 115,
   "id": "770a4278",
   "metadata": {
    "ExecuteTime": {
     "end_time": "2022-07-28T16:40:07.276931Z",
     "start_time": "2022-07-28T16:40:07.268975Z"
    }
   },
   "outputs": [],
   "source": [
    "hyperparam_space={\n",
    "    'model':[model_logreg,model_xgbc,model_knn,model_forest]\n",
    "}"
   ]
  },
  {
   "cell_type": "code",
   "execution_count": 116,
   "id": "3711152a",
   "metadata": {
    "ExecuteTime": {
     "end_time": "2022-07-28T16:40:07.884219Z",
     "start_time": "2022-07-28T16:40:07.875221Z"
    }
   },
   "outputs": [],
   "source": [
    "skfold=StratifiedKFold(n_splits=2)\n",
    "grid=GridSearchCV(\n",
    "    estimator,\n",
    "    param_grid=hyperparam_space,\n",
    "    cv=skfold,\n",
    "    scoring='f1',\n",
    "    n_jobs=-1\n",
    ")"
   ]
  },
  {
   "cell_type": "code",
   "execution_count": 117,
   "id": "19e7eb60",
   "metadata": {
    "ExecuteTime": {
     "end_time": "2022-07-28T16:40:45.370509Z",
     "start_time": "2022-07-28T16:40:08.713034Z"
    }
   },
   "outputs": [
    {
     "name": "stderr",
     "output_type": "stream",
     "text": [
      "C:\\Anaconda\\lib\\site-packages\\xgboost\\sklearn.py:1224: UserWarning: The use of label encoder in XGBClassifier is deprecated and will be removed in a future release. To remove this warning, do the following: 1) Pass option use_label_encoder=False when constructing XGBClassifier object; and 2) Encode your labels (y) as integers starting with 0, i.e. 0, 1, 2, ..., [num_class - 1].\n",
      "  warnings.warn(label_encoder_deprecation_msg, UserWarning)\n"
     ]
    },
    {
     "name": "stdout",
     "output_type": "stream",
     "text": [
      "[23:40:44] WARNING: C:/Users/Administrator/workspace/xgboost-win64_release_1.5.1/src/learner.cc:1115: Starting in XGBoost 1.3.0, the default evaluation metric used with the objective 'binary:logistic' was changed from 'error' to 'logloss'. Explicitly set eval_metric if you'd like to restore the old behavior.\n"
     ]
    },
    {
     "data": {
      "text/plain": [
       "GridSearchCV(cv=StratifiedKFold(n_splits=2, random_state=None, shuffle=False),\n",
       "             estimator=Pipeline(steps=[('preprocess',\n",
       "                                        ColumnTransformer(remainder='passthrough',\n",
       "                                                          transformers=[('one '\n",
       "                                                                         'hot',\n",
       "                                                                         OneHotEncoder(drop='first'),\n",
       "                                                                         ['distribution_channel',\n",
       "                                                                          'deposit_type',\n",
       "                                                                          'customer_type']),\n",
       "                                                                        ('binary',\n",
       "                                                                         BinaryEncoder(),\n",
       "                                                                         ['meal',\n",
       "                                                                          'country',\n",
       "                                                                          'market_segment',\n",
       "                                                                          'reserved_room_type'...\n",
       "                                                 max_depth=None,\n",
       "                                                 min_child_weight=None,\n",
       "                                                 missing=nan,\n",
       "                                                 monotone_constraints=None,\n",
       "                                                 n_estimators=100, n_jobs=None,\n",
       "                                                 num_parallel_tree=None,\n",
       "                                                 predictor=None,\n",
       "                                                 random_state=10,\n",
       "                                                 reg_alpha=None,\n",
       "                                                 reg_lambda=None,\n",
       "                                                 scale_pos_weight=None,\n",
       "                                                 subsample=None,\n",
       "                                                 tree_method=None,\n",
       "                                                 validate_parameters=None,\n",
       "                                                 verbosity=None),\n",
       "                                   KNeighborsClassifier(),\n",
       "                                   RandomForestClassifier(random_state=10)]},\n",
       "             scoring='f1')"
      ]
     },
     "execution_count": 117,
     "metadata": {},
     "output_type": "execute_result"
    }
   ],
   "source": [
    "grid.fit(x_train,y_train)"
   ]
  },
  {
   "cell_type": "code",
   "execution_count": 118,
   "id": "891f83ce",
   "metadata": {
    "ExecuteTime": {
     "end_time": "2022-07-28T16:40:57.850898Z",
     "start_time": "2022-07-28T16:40:57.832900Z"
    },
    "scrolled": true
   },
   "outputs": [
    {
     "data": {
      "text/html": [
       "<div>\n",
       "<style scoped>\n",
       "    .dataframe tbody tr th:only-of-type {\n",
       "        vertical-align: middle;\n",
       "    }\n",
       "\n",
       "    .dataframe tbody tr th {\n",
       "        vertical-align: top;\n",
       "    }\n",
       "\n",
       "    .dataframe thead th {\n",
       "        text-align: right;\n",
       "    }\n",
       "</style>\n",
       "<table border=\"1\" class=\"dataframe\">\n",
       "  <thead>\n",
       "    <tr style=\"text-align: right;\">\n",
       "      <th></th>\n",
       "      <th>params</th>\n",
       "      <th>mean_test_score</th>\n",
       "      <th>std_test_score</th>\n",
       "      <th>rank_test_score</th>\n",
       "    </tr>\n",
       "  </thead>\n",
       "  <tbody>\n",
       "    <tr>\n",
       "      <th>0</th>\n",
       "      <td>{'model': LogisticRegression(random_state=10, ...</td>\n",
       "      <td>0.704413</td>\n",
       "      <td>0.002203</td>\n",
       "      <td>4</td>\n",
       "    </tr>\n",
       "    <tr>\n",
       "      <th>1</th>\n",
       "      <td>{'model': XGBClassifier(base_score=None, boost...</td>\n",
       "      <td>0.754151</td>\n",
       "      <td>0.002453</td>\n",
       "      <td>1</td>\n",
       "    </tr>\n",
       "    <tr>\n",
       "      <th>2</th>\n",
       "      <td>{'model': KNeighborsClassifier()}</td>\n",
       "      <td>0.710875</td>\n",
       "      <td>0.000398</td>\n",
       "      <td>3</td>\n",
       "    </tr>\n",
       "    <tr>\n",
       "      <th>3</th>\n",
       "      <td>{'model': RandomForestClassifier(random_state=...</td>\n",
       "      <td>0.747693</td>\n",
       "      <td>0.001389</td>\n",
       "      <td>2</td>\n",
       "    </tr>\n",
       "  </tbody>\n",
       "</table>\n",
       "</div>"
      ],
      "text/plain": [
       "                                              params  mean_test_score  \\\n",
       "0  {'model': LogisticRegression(random_state=10, ...         0.704413   \n",
       "1  {'model': XGBClassifier(base_score=None, boost...         0.754151   \n",
       "2                  {'model': KNeighborsClassifier()}         0.710875   \n",
       "3  {'model': RandomForestClassifier(random_state=...         0.747693   \n",
       "\n",
       "   std_test_score  rank_test_score  \n",
       "0        0.002203                4  \n",
       "1        0.002453                1  \n",
       "2        0.000398                3  \n",
       "3        0.001389                2  "
      ]
     },
     "execution_count": 118,
     "metadata": {},
     "output_type": "execute_result"
    }
   ],
   "source": [
    "pd.DataFrame(grid.cv_results_)[['params','mean_test_score','std_test_score','rank_test_score']]"
   ]
  },
  {
   "cell_type": "markdown",
   "id": "3ffc5261",
   "metadata": {},
   "source": [
    "XGBoost is the best model with best F1 score and comparable, low standard deviation toward other models."
   ]
  },
  {
   "cell_type": "markdown",
   "id": "b5c432a5",
   "metadata": {},
   "source": [
    "# Base Model"
   ]
  },
  {
   "cell_type": "code",
   "execution_count": 119,
   "id": "8bb72271",
   "metadata": {
    "ExecuteTime": {
     "end_time": "2022-07-28T16:41:12.281915Z",
     "start_time": "2022-07-28T16:41:10.840692Z"
    }
   },
   "outputs": [
    {
     "name": "stderr",
     "output_type": "stream",
     "text": [
      "C:\\Anaconda\\lib\\site-packages\\xgboost\\sklearn.py:1224: UserWarning: The use of label encoder in XGBClassifier is deprecated and will be removed in a future release. To remove this warning, do the following: 1) Pass option use_label_encoder=False when constructing XGBClassifier object; and 2) Encode your labels (y) as integers starting with 0, i.e. 0, 1, 2, ..., [num_class - 1].\n",
      "  warnings.warn(label_encoder_deprecation_msg, UserWarning)\n"
     ]
    },
    {
     "name": "stdout",
     "output_type": "stream",
     "text": [
      "[23:41:11] WARNING: C:/Users/Administrator/workspace/xgboost-win64_release_1.5.1/src/learner.cc:1115: Starting in XGBoost 1.3.0, the default evaluation metric used with the objective 'binary:logistic' was changed from 'error' to 'logloss'. Explicitly set eval_metric if you'd like to restore the old behavior.\n"
     ]
    },
    {
     "data": {
      "text/plain": [
       "Pipeline(steps=[('preprocessing',\n",
       "                 ColumnTransformer(remainder='passthrough',\n",
       "                                   transformers=[('one hot',\n",
       "                                                  OneHotEncoder(drop='first'),\n",
       "                                                  ['distribution_channel',\n",
       "                                                   'deposit_type',\n",
       "                                                   'customer_type']),\n",
       "                                                 ('binary', BinaryEncoder(),\n",
       "                                                  ['meal', 'country',\n",
       "                                                   'market_segment',\n",
       "                                                   'reserved_room_type',\n",
       "                                                   'Region']),\n",
       "                                                 ('robust', RobustScaler(),\n",
       "                                                  ['adults', 'babies',\n",
       "                                                   'children',\n",
       "                                                   'booking_changes',...\n",
       "                               gamma=0, gpu_id=-1, importance_type=None,\n",
       "                               interaction_constraints='',\n",
       "                               learning_rate=0.300000012, max_delta_step=0,\n",
       "                               max_depth=6, min_child_weight=1, missing=nan,\n",
       "                               monotone_constraints='()', n_estimators=100,\n",
       "                               n_jobs=16, num_parallel_tree=1, predictor='auto',\n",
       "                               random_state=10, reg_alpha=0, reg_lambda=1,\n",
       "                               scale_pos_weight=1, subsample=1,\n",
       "                               tree_method='exact', validate_parameters=1,\n",
       "                               verbosity=None))])"
      ]
     },
     "execution_count": 119,
     "metadata": {},
     "output_type": "execute_result"
    }
   ],
   "source": [
    "estimator = Pipeline([\n",
    "        ('preprocessing', transformer),\n",
    "        ('resampling', rus),\n",
    "        ('model', model_xgbc)])\n",
    "\n",
    "estimator.fit(x_train,y_train)"
   ]
  },
  {
   "cell_type": "code",
   "execution_count": 120,
   "id": "75d9f4dd",
   "metadata": {
    "ExecuteTime": {
     "end_time": "2022-07-28T16:41:12.504913Z",
     "start_time": "2022-07-28T16:41:12.410916Z"
    }
   },
   "outputs": [
    {
     "name": "stdout",
     "output_type": "stream",
     "text": [
      "              precision    recall  f1-score   support\n",
      "\n",
      "           0       0.88      0.81      0.84     14949\n",
      "           1       0.71      0.81      0.76      8831\n",
      "\n",
      "    accuracy                           0.81     23780\n",
      "   macro avg       0.79      0.81      0.80     23780\n",
      "weighted avg       0.81      0.81      0.81     23780\n",
      "\n"
     ]
    }
   ],
   "source": [
    "y_pred=estimator.predict(x_test)\n",
    "print(classification_report(y_test,y_pred))"
   ]
  },
  {
   "cell_type": "markdown",
   "id": "3fc6277a",
   "metadata": {},
   "source": [
    "Can we improve the model performance?"
   ]
  },
  {
   "cell_type": "markdown",
   "id": "4bdc3b95",
   "metadata": {},
   "source": [
    "# Hyperparameter Tuning"
   ]
  },
  {
   "cell_type": "code",
   "execution_count": 121,
   "id": "e6384b40",
   "metadata": {
    "ExecuteTime": {
     "end_time": "2022-07-28T16:41:28.783175Z",
     "start_time": "2022-07-28T16:41:28.768222Z"
    }
   },
   "outputs": [],
   "source": [
    "estimator=Pipeline([\n",
    "    ('preprocess',transformer),\n",
    "    ('resampling',rus),\n",
    "    ('model',model_xgbc)\n",
    "])"
   ]
  },
  {
   "cell_type": "code",
   "execution_count": 122,
   "id": "5fc021d6",
   "metadata": {
    "ExecuteTime": {
     "end_time": "2022-07-28T16:41:30.241132Z",
     "start_time": "2022-07-28T16:41:30.225127Z"
    },
    "scrolled": false
   },
   "outputs": [
    {
     "data": {
      "text/plain": [
       "{'memory': None,\n",
       " 'steps': [('preprocess',\n",
       "   ColumnTransformer(remainder='passthrough',\n",
       "                     transformers=[('one hot', OneHotEncoder(drop='first'),\n",
       "                                    ['distribution_channel', 'deposit_type',\n",
       "                                     'customer_type']),\n",
       "                                   ('binary', BinaryEncoder(),\n",
       "                                    ['meal', 'country', 'market_segment',\n",
       "                                     'reserved_room_type', 'Region']),\n",
       "                                   ('robust', RobustScaler(),\n",
       "                                    ['adults', 'babies', 'children',\n",
       "                                     'booking_changes', 'days_in_waiting_list',\n",
       "                                     'previous_bookings_not_canceled',\n",
       "                                     'previous_cancellations'])])),\n",
       "  ('resampling', RandomUnderSampler(random_state=10)),\n",
       "  ('model',\n",
       "   XGBClassifier(base_score=0.5, booster='gbtree', colsample_bylevel=1,\n",
       "                 colsample_bynode=1, colsample_bytree=1, enable_categorical=False,\n",
       "                 gamma=0, gpu_id=-1, importance_type=None,\n",
       "                 interaction_constraints='', learning_rate=0.300000012,\n",
       "                 max_delta_step=0, max_depth=6, min_child_weight=1, missing=nan,\n",
       "                 monotone_constraints='()', n_estimators=100, n_jobs=16,\n",
       "                 num_parallel_tree=1, predictor='auto', random_state=10,\n",
       "                 reg_alpha=0, reg_lambda=1, scale_pos_weight=1, subsample=1,\n",
       "                 tree_method='exact', validate_parameters=1, verbosity=None))],\n",
       " 'verbose': False,\n",
       " 'preprocess': ColumnTransformer(remainder='passthrough',\n",
       "                   transformers=[('one hot', OneHotEncoder(drop='first'),\n",
       "                                  ['distribution_channel', 'deposit_type',\n",
       "                                   'customer_type']),\n",
       "                                 ('binary', BinaryEncoder(),\n",
       "                                  ['meal', 'country', 'market_segment',\n",
       "                                   'reserved_room_type', 'Region']),\n",
       "                                 ('robust', RobustScaler(),\n",
       "                                  ['adults', 'babies', 'children',\n",
       "                                   'booking_changes', 'days_in_waiting_list',\n",
       "                                   'previous_bookings_not_canceled',\n",
       "                                   'previous_cancellations'])]),\n",
       " 'resampling': RandomUnderSampler(random_state=10),\n",
       " 'model': XGBClassifier(base_score=0.5, booster='gbtree', colsample_bylevel=1,\n",
       "               colsample_bynode=1, colsample_bytree=1, enable_categorical=False,\n",
       "               gamma=0, gpu_id=-1, importance_type=None,\n",
       "               interaction_constraints='', learning_rate=0.300000012,\n",
       "               max_delta_step=0, max_depth=6, min_child_weight=1, missing=nan,\n",
       "               monotone_constraints='()', n_estimators=100, n_jobs=16,\n",
       "               num_parallel_tree=1, predictor='auto', random_state=10,\n",
       "               reg_alpha=0, reg_lambda=1, scale_pos_weight=1, subsample=1,\n",
       "               tree_method='exact', validate_parameters=1, verbosity=None),\n",
       " 'preprocess__n_jobs': None,\n",
       " 'preprocess__remainder': 'passthrough',\n",
       " 'preprocess__sparse_threshold': 0.3,\n",
       " 'preprocess__transformer_weights': None,\n",
       " 'preprocess__transformers': [('one hot',\n",
       "   OneHotEncoder(drop='first'),\n",
       "   ['distribution_channel', 'deposit_type', 'customer_type']),\n",
       "  ('binary',\n",
       "   BinaryEncoder(),\n",
       "   ['meal', 'country', 'market_segment', 'reserved_room_type', 'Region']),\n",
       "  ('robust',\n",
       "   RobustScaler(),\n",
       "   ['adults',\n",
       "    'babies',\n",
       "    'children',\n",
       "    'booking_changes',\n",
       "    'days_in_waiting_list',\n",
       "    'previous_bookings_not_canceled',\n",
       "    'previous_cancellations'])],\n",
       " 'preprocess__verbose': False,\n",
       " 'preprocess__verbose_feature_names_out': True,\n",
       " 'preprocess__one hot': OneHotEncoder(drop='first'),\n",
       " 'preprocess__binary': BinaryEncoder(),\n",
       " 'preprocess__robust': RobustScaler(),\n",
       " 'preprocess__one hot__categories': 'auto',\n",
       " 'preprocess__one hot__drop': 'first',\n",
       " 'preprocess__one hot__dtype': numpy.float64,\n",
       " 'preprocess__one hot__handle_unknown': 'error',\n",
       " 'preprocess__one hot__sparse': True,\n",
       " 'preprocess__binary__cols': None,\n",
       " 'preprocess__binary__drop_invariant': False,\n",
       " 'preprocess__binary__handle_missing': 'value',\n",
       " 'preprocess__binary__handle_unknown': 'value',\n",
       " 'preprocess__binary__mapping': None,\n",
       " 'preprocess__binary__return_df': True,\n",
       " 'preprocess__binary__verbose': 0,\n",
       " 'preprocess__robust__copy': True,\n",
       " 'preprocess__robust__quantile_range': (25.0, 75.0),\n",
       " 'preprocess__robust__unit_variance': False,\n",
       " 'preprocess__robust__with_centering': True,\n",
       " 'preprocess__robust__with_scaling': True,\n",
       " 'resampling__random_state': 10,\n",
       " 'resampling__replacement': False,\n",
       " 'resampling__sampling_strategy': 'auto',\n",
       " 'model__objective': 'binary:logistic',\n",
       " 'model__use_label_encoder': True,\n",
       " 'model__base_score': 0.5,\n",
       " 'model__booster': 'gbtree',\n",
       " 'model__colsample_bylevel': 1,\n",
       " 'model__colsample_bynode': 1,\n",
       " 'model__colsample_bytree': 1,\n",
       " 'model__enable_categorical': False,\n",
       " 'model__gamma': 0,\n",
       " 'model__gpu_id': -1,\n",
       " 'model__importance_type': None,\n",
       " 'model__interaction_constraints': '',\n",
       " 'model__learning_rate': 0.300000012,\n",
       " 'model__max_delta_step': 0,\n",
       " 'model__max_depth': 6,\n",
       " 'model__min_child_weight': 1,\n",
       " 'model__missing': nan,\n",
       " 'model__monotone_constraints': '()',\n",
       " 'model__n_estimators': 100,\n",
       " 'model__n_jobs': 16,\n",
       " 'model__num_parallel_tree': 1,\n",
       " 'model__predictor': 'auto',\n",
       " 'model__random_state': 10,\n",
       " 'model__reg_alpha': 0,\n",
       " 'model__reg_lambda': 1,\n",
       " 'model__scale_pos_weight': 1,\n",
       " 'model__subsample': 1,\n",
       " 'model__tree_method': 'exact',\n",
       " 'model__validate_parameters': 1,\n",
       " 'model__verbosity': None}"
      ]
     },
     "execution_count": 122,
     "metadata": {},
     "output_type": "execute_result"
    }
   ],
   "source": [
    "estimator.get_params()"
   ]
  },
  {
   "cell_type": "code",
   "execution_count": 123,
   "id": "a24af5ee",
   "metadata": {
    "ExecuteTime": {
     "end_time": "2022-07-28T16:41:57.115045Z",
     "start_time": "2022-07-28T16:41:57.105045Z"
    }
   },
   "outputs": [],
   "source": [
    "hyperparam_space={\n",
    "    'model__max_depth':[5,10,15,20,25],\n",
    "    'model__n_estimators':[60,80,100,120,140],\n",
    "    'model__learning_rate':[0.001,0.01,0.1,0.2,0.3],\n",
    "    'model__eval_metric':['error','logloss']\n",
    "}"
   ]
  },
  {
   "cell_type": "code",
   "execution_count": 124,
   "id": "04889ba1",
   "metadata": {
    "ExecuteTime": {
     "end_time": "2022-07-28T16:41:57.896638Z",
     "start_time": "2022-07-28T16:41:57.892639Z"
    }
   },
   "outputs": [],
   "source": [
    "skfold=StratifiedKFold(n_splits=2)\n",
    "grid_search=GridSearchCV(\n",
    "    estimator,\n",
    "    param_grid=hyperparam_space,\n",
    "    cv=skfold,\n",
    "    scoring='f1',\n",
    "    n_jobs=-1\n",
    ")"
   ]
  },
  {
   "cell_type": "code",
   "execution_count": 125,
   "id": "b3e10520",
   "metadata": {
    "ExecuteTime": {
     "end_time": "2022-07-28T16:58:13.829826Z",
     "start_time": "2022-07-28T16:41:58.517681Z"
    }
   },
   "outputs": [
    {
     "name": "stderr",
     "output_type": "stream",
     "text": [
      "C:\\Anaconda\\lib\\site-packages\\xgboost\\sklearn.py:1224: UserWarning: The use of label encoder in XGBClassifier is deprecated and will be removed in a future release. To remove this warning, do the following: 1) Pass option use_label_encoder=False when constructing XGBClassifier object; and 2) Encode your labels (y) as integers starting with 0, i.e. 0, 1, 2, ..., [num_class - 1].\n",
      "  warnings.warn(label_encoder_deprecation_msg, UserWarning)\n"
     ]
    },
    {
     "data": {
      "text/plain": [
       "GridSearchCV(cv=StratifiedKFold(n_splits=2, random_state=None, shuffle=False),\n",
       "             estimator=Pipeline(steps=[('preprocess',\n",
       "                                        ColumnTransformer(remainder='passthrough',\n",
       "                                                          transformers=[('one '\n",
       "                                                                         'hot',\n",
       "                                                                         OneHotEncoder(drop='first'),\n",
       "                                                                         ['distribution_channel',\n",
       "                                                                          'deposit_type',\n",
       "                                                                          'customer_type']),\n",
       "                                                                        ('binary',\n",
       "                                                                         BinaryEncoder(),\n",
       "                                                                         ['meal',\n",
       "                                                                          'country',\n",
       "                                                                          'market_segment',\n",
       "                                                                          'reserved_room_type'...\n",
       "                                                      predictor='auto',\n",
       "                                                      random_state=10,\n",
       "                                                      reg_alpha=0, reg_lambda=1,\n",
       "                                                      scale_pos_weight=1,\n",
       "                                                      subsample=1,\n",
       "                                                      tree_method='exact',\n",
       "                                                      validate_parameters=1,\n",
       "                                                      verbosity=None))]),\n",
       "             n_jobs=-1,\n",
       "             param_grid={'model__eval_metric': ['error', 'logloss'],\n",
       "                         'model__learning_rate': [0.001, 0.01, 0.1, 0.2, 0.3],\n",
       "                         'model__max_depth': [5, 10, 15, 20, 25],\n",
       "                         'model__n_estimators': [60, 80, 100, 120, 140]},\n",
       "             scoring='f1')"
      ]
     },
     "execution_count": 125,
     "metadata": {},
     "output_type": "execute_result"
    }
   ],
   "source": [
    "grid_search.fit(x_train,y_train)"
   ]
  },
  {
   "cell_type": "code",
   "execution_count": 141,
   "id": "c09c16c4",
   "metadata": {
    "ExecuteTime": {
     "end_time": "2022-07-28T17:10:02.399307Z",
     "start_time": "2022-07-28T17:10:02.386308Z"
    }
   },
   "outputs": [
    {
     "data": {
      "text/html": [
       "<div>\n",
       "<style scoped>\n",
       "    .dataframe tbody tr th:only-of-type {\n",
       "        vertical-align: middle;\n",
       "    }\n",
       "\n",
       "    .dataframe tbody tr th {\n",
       "        vertical-align: top;\n",
       "    }\n",
       "\n",
       "    .dataframe thead th {\n",
       "        text-align: right;\n",
       "    }\n",
       "</style>\n",
       "<table border=\"1\" class=\"dataframe\">\n",
       "  <thead>\n",
       "    <tr style=\"text-align: right;\">\n",
       "      <th></th>\n",
       "      <th>params</th>\n",
       "      <th>mean_test_score</th>\n",
       "      <th>std_test_score</th>\n",
       "      <th>rank_test_score</th>\n",
       "    </tr>\n",
       "  </thead>\n",
       "  <tbody>\n",
       "    <tr>\n",
       "      <th>58</th>\n",
       "      <td>{'model__eval_metric': 'error', 'model__learning_rate': 0.1, 'model__max_depth': 10, 'model__n_estimators': 120}</td>\n",
       "      <td>0.756834</td>\n",
       "      <td>0.002681</td>\n",
       "      <td>1</td>\n",
       "    </tr>\n",
       "    <tr>\n",
       "      <th>183</th>\n",
       "      <td>{'model__eval_metric': 'logloss', 'model__learning_rate': 0.1, 'model__max_depth': 10, 'model__n_estimators': 120}</td>\n",
       "      <td>0.756834</td>\n",
       "      <td>0.002681</td>\n",
       "      <td>1</td>\n",
       "    </tr>\n",
       "    <tr>\n",
       "      <th>59</th>\n",
       "      <td>{'model__eval_metric': 'error', 'model__learning_rate': 0.1, 'model__max_depth': 10, 'model__n_estimators': 140}</td>\n",
       "      <td>0.756712</td>\n",
       "      <td>0.002272</td>\n",
       "      <td>3</td>\n",
       "    </tr>\n",
       "    <tr>\n",
       "      <th>184</th>\n",
       "      <td>{'model__eval_metric': 'logloss', 'model__learning_rate': 0.1, 'model__max_depth': 10, 'model__n_estimators': 140}</td>\n",
       "      <td>0.756712</td>\n",
       "      <td>0.002272</td>\n",
       "      <td>3</td>\n",
       "    </tr>\n",
       "    <tr>\n",
       "      <th>208</th>\n",
       "      <td>{'model__eval_metric': 'logloss', 'model__learning_rate': 0.2, 'model__max_depth': 10, 'model__n_estimators': 120}</td>\n",
       "      <td>0.756151</td>\n",
       "      <td>0.001380</td>\n",
       "      <td>5</td>\n",
       "    </tr>\n",
       "  </tbody>\n",
       "</table>\n",
       "</div>"
      ],
      "text/plain": [
       "                                                                                                                 params  mean_test_score  std_test_score  rank_test_score\n",
       "58     {'model__eval_metric': 'error', 'model__learning_rate': 0.1, 'model__max_depth': 10, 'model__n_estimators': 120}         0.756834        0.002681                1\n",
       "183  {'model__eval_metric': 'logloss', 'model__learning_rate': 0.1, 'model__max_depth': 10, 'model__n_estimators': 120}         0.756834        0.002681                1\n",
       "59     {'model__eval_metric': 'error', 'model__learning_rate': 0.1, 'model__max_depth': 10, 'model__n_estimators': 140}         0.756712        0.002272                3\n",
       "184  {'model__eval_metric': 'logloss', 'model__learning_rate': 0.1, 'model__max_depth': 10, 'model__n_estimators': 140}         0.756712        0.002272                3\n",
       "208  {'model__eval_metric': 'logloss', 'model__learning_rate': 0.2, 'model__max_depth': 10, 'model__n_estimators': 120}         0.756151        0.001380                5"
      ]
     },
     "execution_count": 141,
     "metadata": {},
     "output_type": "execute_result"
    }
   ],
   "source": [
    "pd.set_option('display.max_colwidth', None)\n",
    "pd.DataFrame(grid_search.cv_results_)[['params','mean_test_score','std_test_score','rank_test_score']].sort_values('rank_test_score',ascending=True).head()"
   ]
  },
  {
   "cell_type": "code",
   "execution_count": 126,
   "id": "3480bd65",
   "metadata": {
    "ExecuteTime": {
     "end_time": "2022-07-28T16:58:21.957003Z",
     "start_time": "2022-07-28T16:58:21.945999Z"
    }
   },
   "outputs": [
    {
     "name": "stdout",
     "output_type": "stream",
     "text": [
      "0.7568341668697502\n",
      "{'model__eval_metric': 'error', 'model__learning_rate': 0.1, 'model__max_depth': 10, 'model__n_estimators': 120}\n"
     ]
    }
   ],
   "source": [
    "print(grid_search.best_score_)\n",
    "print(grid_search.best_params_)"
   ]
  },
  {
   "cell_type": "markdown",
   "id": "1fc931bd",
   "metadata": {},
   "source": [
    "# Test Dataset"
   ]
  },
  {
   "cell_type": "code",
   "execution_count": 153,
   "id": "050a4e0e",
   "metadata": {
    "ExecuteTime": {
     "end_time": "2022-07-28T17:17:33.854329Z",
     "start_time": "2022-07-28T17:17:31.140822Z"
    }
   },
   "outputs": [
    {
     "name": "stderr",
     "output_type": "stream",
     "text": [
      "C:\\Anaconda\\lib\\site-packages\\xgboost\\sklearn.py:1224: UserWarning: The use of label encoder in XGBClassifier is deprecated and will be removed in a future release. To remove this warning, do the following: 1) Pass option use_label_encoder=False when constructing XGBClassifier object; and 2) Encode your labels (y) as integers starting with 0, i.e. 0, 1, 2, ..., [num_class - 1].\n",
      "  warnings.warn(label_encoder_deprecation_msg, UserWarning)\n"
     ]
    },
    {
     "data": {
      "text/plain": [
       "Pipeline(steps=[('preprocess',\n",
       "                 ColumnTransformer(remainder='passthrough',\n",
       "                                   transformers=[('one hot',\n",
       "                                                  OneHotEncoder(drop='first'),\n",
       "                                                  ['distribution_channel',\n",
       "                                                   'deposit_type',\n",
       "                                                   'customer_type']),\n",
       "                                                 ('binary', BinaryEncoder(),\n",
       "                                                  ['meal', 'country',\n",
       "                                                   'market_segment',\n",
       "                                                   'reserved_room_type',\n",
       "                                                   'Region']),\n",
       "                                                 ('robust', RobustScaler(),\n",
       "                                                  ['adults', 'babies',\n",
       "                                                   'children',\n",
       "                                                   'booking_changes',\n",
       "                                                   'da...\n",
       "                               eval_metric='error', gamma=0, gpu_id=-1,\n",
       "                               importance_type=None, interaction_constraints='',\n",
       "                               learning_rate=0.1, max_delta_step=0,\n",
       "                               max_depth=10, min_child_weight=1, missing=nan,\n",
       "                               monotone_constraints='()', n_estimators=120,\n",
       "                               n_jobs=16, num_parallel_tree=1, predictor='auto',\n",
       "                               random_state=10, reg_alpha=0, reg_lambda=1,\n",
       "                               scale_pos_weight=1, subsample=1,\n",
       "                               tree_method='exact', validate_parameters=1,\n",
       "                               verbosity=None))])"
      ]
     },
     "execution_count": 153,
     "metadata": {},
     "output_type": "execute_result"
    }
   ],
   "source": [
    "best_model=grid_search.best_estimator_\n",
    "best_model.fit(x_train,y_train)"
   ]
  },
  {
   "cell_type": "code",
   "execution_count": 154,
   "id": "51c2ec82",
   "metadata": {
    "ExecuteTime": {
     "end_time": "2022-07-28T17:17:42.841121Z",
     "start_time": "2022-07-28T17:17:42.742122Z"
    }
   },
   "outputs": [
    {
     "name": "stdout",
     "output_type": "stream",
     "text": [
      "              precision    recall  f1-score   support\n",
      "\n",
      "           0       0.88      0.81      0.84     14949\n",
      "           1       0.71      0.81      0.76      8831\n",
      "\n",
      "    accuracy                           0.81     23780\n",
      "   macro avg       0.79      0.81      0.80     23780\n",
      "weighted avg       0.82      0.81      0.81     23780\n",
      "\n"
     ]
    }
   ],
   "source": [
    "y_pred2=best_model.predict(x_test)\n",
    "print(classification_report(y_test,y_pred2))"
   ]
  },
  {
   "cell_type": "markdown",
   "id": "8e0bb274",
   "metadata": {},
   "source": [
    "Hyperparameter tuning didn't improve the model performance."
   ]
  },
  {
   "cell_type": "markdown",
   "id": "1ca4d5d7",
   "metadata": {},
   "source": [
    "# Features Importances"
   ]
  },
  {
   "cell_type": "code",
   "execution_count": 157,
   "id": "6be2d68a",
   "metadata": {
    "ExecuteTime": {
     "end_time": "2022-07-28T17:18:33.041935Z",
     "start_time": "2022-07-28T17:18:33.028979Z"
    }
   },
   "outputs": [],
   "source": [
    "features=list(transformer.transformers_[0][1].get_feature_names_out())+transformer.transformers_[1][1].get_feature_names()+['adults', 'babies', 'children',\n",
    "                                     'booking_changes', 'days_in_waiting_list','previous_bookings_not_canceled',\n",
    "                                     'previous_cancellations','is_repeated_guest','required_car_parking_spaces','total_of_special_requests']"
   ]
  },
  {
   "cell_type": "code",
   "execution_count": 164,
   "id": "d71caeb0",
   "metadata": {
    "ExecuteTime": {
     "end_time": "2022-07-28T17:19:44.098495Z",
     "start_time": "2022-07-28T17:19:44.083496Z"
    }
   },
   "outputs": [
    {
     "data": {
      "text/html": [
       "<div>\n",
       "<style scoped>\n",
       "    .dataframe tbody tr th:only-of-type {\n",
       "        vertical-align: middle;\n",
       "    }\n",
       "\n",
       "    .dataframe tbody tr th {\n",
       "        vertical-align: top;\n",
       "    }\n",
       "\n",
       "    .dataframe thead th {\n",
       "        text-align: right;\n",
       "    }\n",
       "</style>\n",
       "<table border=\"1\" class=\"dataframe\">\n",
       "  <thead>\n",
       "    <tr style=\"text-align: right;\">\n",
       "      <th></th>\n",
       "      <th>imp</th>\n",
       "    </tr>\n",
       "  </thead>\n",
       "  <tbody>\n",
       "    <tr>\n",
       "      <th>deposit_type_Non Refund</th>\n",
       "      <td>0.625349</td>\n",
       "    </tr>\n",
       "    <tr>\n",
       "      <th>required_car_parking_spaces</th>\n",
       "      <td>0.132051</td>\n",
       "    </tr>\n",
       "    <tr>\n",
       "      <th>Region_3</th>\n",
       "      <td>0.040255</td>\n",
       "    </tr>\n",
       "    <tr>\n",
       "      <th>market_segment_2</th>\n",
       "      <td>0.037412</td>\n",
       "    </tr>\n",
       "    <tr>\n",
       "      <th>previous_cancellations</th>\n",
       "      <td>0.028197</td>\n",
       "    </tr>\n",
       "    <tr>\n",
       "      <th>market_segment_0</th>\n",
       "      <td>0.022687</td>\n",
       "    </tr>\n",
       "    <tr>\n",
       "      <th>country_5</th>\n",
       "      <td>0.012876</td>\n",
       "    </tr>\n",
       "    <tr>\n",
       "      <th>customer_type_Transient</th>\n",
       "      <td>0.012249</td>\n",
       "    </tr>\n",
       "    <tr>\n",
       "      <th>total_of_special_requests</th>\n",
       "      <td>0.011553</td>\n",
       "    </tr>\n",
       "    <tr>\n",
       "      <th>previous_bookings_not_canceled</th>\n",
       "      <td>0.006096</td>\n",
       "    </tr>\n",
       "    <tr>\n",
       "      <th>country_4</th>\n",
       "      <td>0.004987</td>\n",
       "    </tr>\n",
       "    <tr>\n",
       "      <th>country_7</th>\n",
       "      <td>0.004567</td>\n",
       "    </tr>\n",
       "    <tr>\n",
       "      <th>customer_type_Transient-Party</th>\n",
       "      <td>0.004116</td>\n",
       "    </tr>\n",
       "    <tr>\n",
       "      <th>Region_1</th>\n",
       "      <td>0.004106</td>\n",
       "    </tr>\n",
       "    <tr>\n",
       "      <th>booking_changes</th>\n",
       "      <td>0.004063</td>\n",
       "    </tr>\n",
       "    <tr>\n",
       "      <th>adults</th>\n",
       "      <td>0.003194</td>\n",
       "    </tr>\n",
       "    <tr>\n",
       "      <th>Region_2</th>\n",
       "      <td>0.003061</td>\n",
       "    </tr>\n",
       "    <tr>\n",
       "      <th>distribution_channel_TA/TO</th>\n",
       "      <td>0.002955</td>\n",
       "    </tr>\n",
       "    <tr>\n",
       "      <th>meal_2</th>\n",
       "      <td>0.002598</td>\n",
       "    </tr>\n",
       "    <tr>\n",
       "      <th>country_2</th>\n",
       "      <td>0.002580</td>\n",
       "    </tr>\n",
       "    <tr>\n",
       "      <th>days_in_waiting_list</th>\n",
       "      <td>0.002462</td>\n",
       "    </tr>\n",
       "    <tr>\n",
       "      <th>meal_1</th>\n",
       "      <td>0.002354</td>\n",
       "    </tr>\n",
       "    <tr>\n",
       "      <th>country_1</th>\n",
       "      <td>0.002210</td>\n",
       "    </tr>\n",
       "    <tr>\n",
       "      <th>meal_0</th>\n",
       "      <td>0.002209</td>\n",
       "    </tr>\n",
       "    <tr>\n",
       "      <th>country_6</th>\n",
       "      <td>0.002170</td>\n",
       "    </tr>\n",
       "    <tr>\n",
       "      <th>reserved_room_type_3</th>\n",
       "      <td>0.002118</td>\n",
       "    </tr>\n",
       "    <tr>\n",
       "      <th>market_segment_1</th>\n",
       "      <td>0.002117</td>\n",
       "    </tr>\n",
       "    <tr>\n",
       "      <th>children</th>\n",
       "      <td>0.001988</td>\n",
       "    </tr>\n",
       "    <tr>\n",
       "      <th>reserved_room_type_1</th>\n",
       "      <td>0.001923</td>\n",
       "    </tr>\n",
       "    <tr>\n",
       "      <th>distribution_channel_Direct</th>\n",
       "      <td>0.001806</td>\n",
       "    </tr>\n",
       "    <tr>\n",
       "      <th>reserved_room_type_2</th>\n",
       "      <td>0.001785</td>\n",
       "    </tr>\n",
       "    <tr>\n",
       "      <th>country_3</th>\n",
       "      <td>0.001766</td>\n",
       "    </tr>\n",
       "    <tr>\n",
       "      <th>deposit_type_Refundable</th>\n",
       "      <td>0.001668</td>\n",
       "    </tr>\n",
       "    <tr>\n",
       "      <th>distribution_channel_GDS</th>\n",
       "      <td>0.001596</td>\n",
       "    </tr>\n",
       "    <tr>\n",
       "      <th>reserved_room_type_0</th>\n",
       "      <td>0.001448</td>\n",
       "    </tr>\n",
       "    <tr>\n",
       "      <th>babies</th>\n",
       "      <td>0.001331</td>\n",
       "    </tr>\n",
       "    <tr>\n",
       "      <th>Region_0</th>\n",
       "      <td>0.001279</td>\n",
       "    </tr>\n",
       "    <tr>\n",
       "      <th>is_repeated_guest</th>\n",
       "      <td>0.001183</td>\n",
       "    </tr>\n",
       "    <tr>\n",
       "      <th>customer_type_Group</th>\n",
       "      <td>0.000846</td>\n",
       "    </tr>\n",
       "    <tr>\n",
       "      <th>country_0</th>\n",
       "      <td>0.000792</td>\n",
       "    </tr>\n",
       "  </tbody>\n",
       "</table>\n",
       "</div>"
      ],
      "text/plain": [
       "                                     imp\n",
       "deposit_type_Non Refund         0.625349\n",
       "required_car_parking_spaces     0.132051\n",
       "Region_3                        0.040255\n",
       "market_segment_2                0.037412\n",
       "previous_cancellations          0.028197\n",
       "market_segment_0                0.022687\n",
       "country_5                       0.012876\n",
       "customer_type_Transient         0.012249\n",
       "total_of_special_requests       0.011553\n",
       "previous_bookings_not_canceled  0.006096\n",
       "country_4                       0.004987\n",
       "country_7                       0.004567\n",
       "customer_type_Transient-Party   0.004116\n",
       "Region_1                        0.004106\n",
       "booking_changes                 0.004063\n",
       "adults                          0.003194\n",
       "Region_2                        0.003061\n",
       "distribution_channel_TA/TO      0.002955\n",
       "meal_2                          0.002598\n",
       "country_2                       0.002580\n",
       "days_in_waiting_list            0.002462\n",
       "meal_1                          0.002354\n",
       "country_1                       0.002210\n",
       "meal_0                          0.002209\n",
       "country_6                       0.002170\n",
       "reserved_room_type_3            0.002118\n",
       "market_segment_1                0.002117\n",
       "children                        0.001988\n",
       "reserved_room_type_1            0.001923\n",
       "distribution_channel_Direct     0.001806\n",
       "reserved_room_type_2            0.001785\n",
       "country_3                       0.001766\n",
       "deposit_type_Refundable         0.001668\n",
       "distribution_channel_GDS        0.001596\n",
       "reserved_room_type_0            0.001448\n",
       "babies                          0.001331\n",
       "Region_0                        0.001279\n",
       "is_repeated_guest               0.001183\n",
       "customer_type_Group             0.000846\n",
       "country_0                       0.000792"
      ]
     },
     "execution_count": 164,
     "metadata": {},
     "output_type": "execute_result"
    }
   ],
   "source": [
    "pd.DataFrame({'imp':best_model.steps[2][1].feature_importances_},index=features).sort_values('imp', ascending=False)"
   ]
  },
  {
   "cell_type": "markdown",
   "id": "d3c00a14",
   "metadata": {},
   "source": [
    "# Features Selection"
   ]
  },
  {
   "cell_type": "markdown",
   "id": "9af2f48d",
   "metadata": {},
   "source": [
    "Compared to the previous model with less data, this result is lesser to it. My best guess is that we included too many features. Let's use recursive feature selection method."
   ]
  },
  {
   "cell_type": "code",
   "execution_count": 165,
   "id": "64a10080",
   "metadata": {
    "ExecuteTime": {
     "end_time": "2022-07-28T17:29:14.241621Z",
     "start_time": "2022-07-28T17:29:14.223680Z"
    }
   },
   "outputs": [],
   "source": [
    "from sklearn.feature_selection import RFE"
   ]
  },
  {
   "cell_type": "code",
   "execution_count": 206,
   "id": "e6f4bd49",
   "metadata": {
    "ExecuteTime": {
     "end_time": "2022-07-28T17:51:43.168734Z",
     "start_time": "2022-07-28T17:51:43.163721Z"
    }
   },
   "outputs": [],
   "source": [
    "rfe = RFE(estimator=best_model.steps[2][1], n_features_to_select=30)"
   ]
  },
  {
   "cell_type": "code",
   "execution_count": 207,
   "id": "ae83baf9",
   "metadata": {
    "ExecuteTime": {
     "end_time": "2022-07-28T17:51:43.733925Z",
     "start_time": "2022-07-28T17:51:43.719928Z"
    }
   },
   "outputs": [],
   "source": [
    "estimator=Pipeline([\n",
    "    ('preprocess',transformer),\n",
    "    ('resampling',rus),\n",
    "    ('selection',rfe),\n",
    "    ('model',best_model.steps[2][1])\n",
    "])"
   ]
  },
  {
   "cell_type": "code",
   "execution_count": 208,
   "id": "b7ba6ce3",
   "metadata": {
    "ExecuteTime": {
     "end_time": "2022-07-28T17:52:14.806389Z",
     "start_time": "2022-07-28T17:51:44.268532Z"
    }
   },
   "outputs": [
    {
     "name": "stderr",
     "output_type": "stream",
     "text": [
      "C:\\Anaconda\\lib\\site-packages\\xgboost\\sklearn.py:1224: UserWarning: The use of label encoder in XGBClassifier is deprecated and will be removed in a future release. To remove this warning, do the following: 1) Pass option use_label_encoder=False when constructing XGBClassifier object; and 2) Encode your labels (y) as integers starting with 0, i.e. 0, 1, 2, ..., [num_class - 1].\n",
      "  warnings.warn(label_encoder_deprecation_msg, UserWarning)\n",
      "C:\\Anaconda\\lib\\site-packages\\xgboost\\sklearn.py:1224: UserWarning: The use of label encoder in XGBClassifier is deprecated and will be removed in a future release. To remove this warning, do the following: 1) Pass option use_label_encoder=False when constructing XGBClassifier object; and 2) Encode your labels (y) as integers starting with 0, i.e. 0, 1, 2, ..., [num_class - 1].\n",
      "  warnings.warn(label_encoder_deprecation_msg, UserWarning)\n",
      "C:\\Anaconda\\lib\\site-packages\\xgboost\\sklearn.py:1224: UserWarning: The use of label encoder in XGBClassifier is deprecated and will be removed in a future release. To remove this warning, do the following: 1) Pass option use_label_encoder=False when constructing XGBClassifier object; and 2) Encode your labels (y) as integers starting with 0, i.e. 0, 1, 2, ..., [num_class - 1].\n",
      "  warnings.warn(label_encoder_deprecation_msg, UserWarning)\n",
      "C:\\Anaconda\\lib\\site-packages\\xgboost\\sklearn.py:1224: UserWarning: The use of label encoder in XGBClassifier is deprecated and will be removed in a future release. To remove this warning, do the following: 1) Pass option use_label_encoder=False when constructing XGBClassifier object; and 2) Encode your labels (y) as integers starting with 0, i.e. 0, 1, 2, ..., [num_class - 1].\n",
      "  warnings.warn(label_encoder_deprecation_msg, UserWarning)\n",
      "C:\\Anaconda\\lib\\site-packages\\xgboost\\sklearn.py:1224: UserWarning: The use of label encoder in XGBClassifier is deprecated and will be removed in a future release. To remove this warning, do the following: 1) Pass option use_label_encoder=False when constructing XGBClassifier object; and 2) Encode your labels (y) as integers starting with 0, i.e. 0, 1, 2, ..., [num_class - 1].\n",
      "  warnings.warn(label_encoder_deprecation_msg, UserWarning)\n",
      "C:\\Anaconda\\lib\\site-packages\\xgboost\\sklearn.py:1224: UserWarning: The use of label encoder in XGBClassifier is deprecated and will be removed in a future release. To remove this warning, do the following: 1) Pass option use_label_encoder=False when constructing XGBClassifier object; and 2) Encode your labels (y) as integers starting with 0, i.e. 0, 1, 2, ..., [num_class - 1].\n",
      "  warnings.warn(label_encoder_deprecation_msg, UserWarning)\n",
      "C:\\Anaconda\\lib\\site-packages\\xgboost\\sklearn.py:1224: UserWarning: The use of label encoder in XGBClassifier is deprecated and will be removed in a future release. To remove this warning, do the following: 1) Pass option use_label_encoder=False when constructing XGBClassifier object; and 2) Encode your labels (y) as integers starting with 0, i.e. 0, 1, 2, ..., [num_class - 1].\n",
      "  warnings.warn(label_encoder_deprecation_msg, UserWarning)\n",
      "C:\\Anaconda\\lib\\site-packages\\xgboost\\sklearn.py:1224: UserWarning: The use of label encoder in XGBClassifier is deprecated and will be removed in a future release. To remove this warning, do the following: 1) Pass option use_label_encoder=False when constructing XGBClassifier object; and 2) Encode your labels (y) as integers starting with 0, i.e. 0, 1, 2, ..., [num_class - 1].\n",
      "  warnings.warn(label_encoder_deprecation_msg, UserWarning)\n",
      "C:\\Anaconda\\lib\\site-packages\\xgboost\\sklearn.py:1224: UserWarning: The use of label encoder in XGBClassifier is deprecated and will be removed in a future release. To remove this warning, do the following: 1) Pass option use_label_encoder=False when constructing XGBClassifier object; and 2) Encode your labels (y) as integers starting with 0, i.e. 0, 1, 2, ..., [num_class - 1].\n",
      "  warnings.warn(label_encoder_deprecation_msg, UserWarning)\n",
      "C:\\Anaconda\\lib\\site-packages\\xgboost\\sklearn.py:1224: UserWarning: The use of label encoder in XGBClassifier is deprecated and will be removed in a future release. To remove this warning, do the following: 1) Pass option use_label_encoder=False when constructing XGBClassifier object; and 2) Encode your labels (y) as integers starting with 0, i.e. 0, 1, 2, ..., [num_class - 1].\n",
      "  warnings.warn(label_encoder_deprecation_msg, UserWarning)\n",
      "C:\\Anaconda\\lib\\site-packages\\xgboost\\sklearn.py:1224: UserWarning: The use of label encoder in XGBClassifier is deprecated and will be removed in a future release. To remove this warning, do the following: 1) Pass option use_label_encoder=False when constructing XGBClassifier object; and 2) Encode your labels (y) as integers starting with 0, i.e. 0, 1, 2, ..., [num_class - 1].\n",
      "  warnings.warn(label_encoder_deprecation_msg, UserWarning)\n",
      "C:\\Anaconda\\lib\\site-packages\\xgboost\\sklearn.py:1224: UserWarning: The use of label encoder in XGBClassifier is deprecated and will be removed in a future release. To remove this warning, do the following: 1) Pass option use_label_encoder=False when constructing XGBClassifier object; and 2) Encode your labels (y) as integers starting with 0, i.e. 0, 1, 2, ..., [num_class - 1].\n",
      "  warnings.warn(label_encoder_deprecation_msg, UserWarning)\n"
     ]
    },
    {
     "data": {
      "text/plain": [
       "Pipeline(steps=[('preprocess',\n",
       "                 ColumnTransformer(remainder='passthrough',\n",
       "                                   transformers=[('one hot',\n",
       "                                                  OneHotEncoder(drop='first'),\n",
       "                                                  ['distribution_channel',\n",
       "                                                   'deposit_type',\n",
       "                                                   'customer_type']),\n",
       "                                                 ('binary', BinaryEncoder(),\n",
       "                                                  ['meal', 'country',\n",
       "                                                   'market_segment',\n",
       "                                                   'reserved_room_type',\n",
       "                                                   'Region']),\n",
       "                                                 ('robust', RobustScaler(),\n",
       "                                                  ['adults', 'babies',\n",
       "                                                   'children',\n",
       "                                                   'booking_changes',\n",
       "                                                   'da...\n",
       "                               eval_metric='error', gamma=0, gpu_id=-1,\n",
       "                               importance_type=None, interaction_constraints='',\n",
       "                               learning_rate=0.1, max_delta_step=0,\n",
       "                               max_depth=10, min_child_weight=1, missing=nan,\n",
       "                               monotone_constraints='()', n_estimators=120,\n",
       "                               n_jobs=16, num_parallel_tree=1, predictor='auto',\n",
       "                               random_state=10, reg_alpha=0, reg_lambda=1,\n",
       "                               scale_pos_weight=1, subsample=1,\n",
       "                               tree_method='exact', validate_parameters=1,\n",
       "                               verbosity=None))])"
      ]
     },
     "execution_count": 208,
     "metadata": {},
     "output_type": "execute_result"
    }
   ],
   "source": [
    "estimator.fit(x_train,y_train)"
   ]
  },
  {
   "cell_type": "code",
   "execution_count": 209,
   "id": "3e7d4aa5",
   "metadata": {
    "ExecuteTime": {
     "end_time": "2022-07-28T17:52:15.062209Z",
     "start_time": "2022-07-28T17:52:14.967407Z"
    }
   },
   "outputs": [
    {
     "name": "stdout",
     "output_type": "stream",
     "text": [
      "              precision    recall  f1-score   support\n",
      "\n",
      "           0       0.88      0.80      0.84     14949\n",
      "           1       0.71      0.81      0.75      8831\n",
      "\n",
      "    accuracy                           0.81     23780\n",
      "   macro avg       0.79      0.81      0.80     23780\n",
      "weighted avg       0.81      0.81      0.81     23780\n",
      "\n"
     ]
    }
   ],
   "source": [
    "y_pred3=estimator.predict(x_test)\n",
    "print(classification_report(y_test,y_pred3))"
   ]
  },
  {
   "cell_type": "markdown",
   "id": "a53bdb20",
   "metadata": {},
   "source": [
    "Reducing the number of features lead to reduced F1-score value. Thus, the reduced F1-score from the previous project with 5000 data was not caused by increase in features. But, that didn't mean that our model is worse than the previous because our standard deviation is lower compared to previous model. The previous model failed to capture the whole dataset, thus the result are biased."
   ]
  }
 ],
 "metadata": {
  "kernelspec": {
   "display_name": "Python 3 (ipykernel)",
   "language": "python",
   "name": "python3"
  },
  "language_info": {
   "codemirror_mode": {
    "name": "ipython",
    "version": 3
   },
   "file_extension": ".py",
   "mimetype": "text/x-python",
   "name": "python",
   "nbconvert_exporter": "python",
   "pygments_lexer": "ipython3",
   "version": "3.9.7"
  },
  "toc": {
   "base_numbering": 1,
   "nav_menu": {},
   "number_sections": true,
   "sideBar": true,
   "skip_h1_title": false,
   "title_cell": "Table of Contents",
   "title_sidebar": "Contents",
   "toc_cell": false,
   "toc_position": {
    "height": "calc(100% - 180px)",
    "left": "10px",
    "top": "150px",
    "width": "303.825px"
   },
   "toc_section_display": true,
   "toc_window_display": true
  },
  "varInspector": {
   "cols": {
    "lenName": 16,
    "lenType": 16,
    "lenVar": 40
   },
   "kernels_config": {
    "python": {
     "delete_cmd_postfix": "",
     "delete_cmd_prefix": "del ",
     "library": "var_list.py",
     "varRefreshCmd": "print(var_dic_list())"
    },
    "r": {
     "delete_cmd_postfix": ") ",
     "delete_cmd_prefix": "rm(",
     "library": "var_list.r",
     "varRefreshCmd": "cat(var_dic_list()) "
    }
   },
   "types_to_exclude": [
    "module",
    "function",
    "builtin_function_or_method",
    "instance",
    "_Feature"
   ],
   "window_display": false
  }
 },
 "nbformat": 4,
 "nbformat_minor": 5
}
